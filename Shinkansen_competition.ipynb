{
  "cells": [
    {
      "cell_type": "markdown",
      "metadata": {
        "id": "view-in-github",
        "colab_type": "text"
      },
      "source": [
        "<a href=\"https://colab.research.google.com/github/delabi/Shinkansen/blob/main/Shinkansen_competition.ipynb\" target=\"_parent\"><img src=\"https://colab.research.google.com/assets/colab-badge.svg\" alt=\"Open In Colab\"/></a>"
      ]
    },
    {
      "cell_type": "markdown",
      "metadata": {
        "id": "G001ADW-F_I2"
      },
      "source": [
        "\n",
        "**Objective of the notebook**:\n",
        "\n",
        "In this notebook, let us explore the given dataset, and also we will build ensemble and RNN models to get started.\n",
        "\n",
        "**Objective of the competition**:\n",
        "\n",
        "This is the problem of a Shinkansen (Bullet-Trains) of Japan. They aim to determine the relative importance of each parameter with regards to their contribution to the passenger travel experience. Provided is a random sample of individuals who travelled using their train. The on-time performance of the trains along with the passenger’s information is published in the CSV file named ‘Traveldata_train’.  These passengers were later asked to provide their feedback on various parameters related to the travel along with their overall experience. These collected details are made available in the survey report CSV labelled ‘Surveydata_train’.\n",
        "\n",
        "In the survey, a passenger was explicitly asked whether they were delighted with their overall travel experience and that is captured in the data of the survey report under the variable labelled ‘Overall_Experience’.\n",
        "\n",
        "The objective of this exercise is to understand which parameters play an important role in swaying passenger feedback towards a positive scale. We have test data containing Travel data and Survey data of passengers. Both the test data and the train data are collected at the same time and belong to the same company."
      ]
    },
    {
      "cell_type": "code",
      "execution_count": null,
      "metadata": {
        "id": "RCDEM1tLxDqL",
        "scrolled": true
      },
      "outputs": [],
      "source": [
        "!pip install xgboost hyperopt lightgbm catboost optuna -q"
      ]
    },
    {
      "cell_type": "code",
      "execution_count": null,
      "metadata": {
        "id": "Z7MLS4By1HDw"
      },
      "outputs": [],
      "source": [
        "from pandas import read_csv\n",
        "from sklearn.model_selection import train_test_split, GridSearchCV\n",
        "from sklearn.linear_model import LogisticRegression\n",
        "from sklearn.model_selection import KFold\n",
        "from sklearn.model_selection import cross_val_score\n",
        "import numpy as np\n",
        "import pandas as pd\n",
        "import warnings\n",
        "warnings.filterwarnings('ignore')\n",
        "from sklearn.model_selection import cross_validate\n",
        "import pandas as pd\n",
        "from sklearn.neighbors import KNeighborsClassifier\n",
        "from sklearn import preprocessing\n",
        "from sklearn.naive_bayes import GaussianNB\n",
        "from sklearn.metrics import accuracy_score\n",
        "import seaborn as sns\n",
        "import matplotlib.pyplot as plt\n",
        "from scipy.stats import zscore\n",
        "from scipy.stats import skew\n",
        "from imblearn.over_sampling import SMOTE\n",
        "from sklearn.metrics import roc_auc_score,roc_curve,classification_report,confusion_matrix,ConfusionMatrixDisplay\n",
        "import statsmodels.api as sm\n",
        "from sklearn import metrics\n",
        "from sklearn.discriminant_analysis import LinearDiscriminantAnalysis\n",
        "from sklearn.ensemble import BaggingClassifier, RandomForestClassifier\n",
        "from sklearn.tree import DecisionTreeClassifier\n",
        "from sklearn.svm import SVC\n",
        "from hyperopt import fmin, tpe, hp\n",
        "import xgboost as xgb\n",
        "import lightgbm as lgb\n",
        "import catboost\n",
        "from sklearn.model_selection import train_test_split, cross_val_score\n",
        "from sklearn.ensemble import RandomForestClassifier\n",
        "from sklearn.preprocessing import StandardScaler\n",
        "from sklearn.impute import SimpleImputer\n",
        "from sklearn.pipeline import make_pipeline\n",
        "from sklearn.metrics import make_scorer, f1_score\n",
        "import optuna\n",
        "import numpy as np\n",
        "import pandas as pd\n",
        "import matplotlib.pyplot as plt\n",
        "from sklearn import preprocessing\n",
        "from sklearn.preprocessing import StandardScaler\n",
        "from sklearn.model_selection import train_test_split\n",
        "from sklearn.model_selection import StratifiedKFold\n",
        "import seaborn as sns\n",
        "from keras.layers import Dense, BatchNormalization, Dropout, LSTM\n",
        "from keras.models import Sequential\n",
        "from keras.utils import to_categorical\n",
        "from keras import callbacks\n",
        "from sklearn.metrics import precision_score, recall_score, confusion_matrix, classification_report, accuracy_score, f1_score"
      ]
    },
    {
      "cell_type": "code",
      "execution_count": null,
      "metadata": {
        "id": "JUDo-qG3TGiZ"
      },
      "outputs": [],
      "source": [
        "from google.colab import drive\n",
        "drive.mount('/content/drive')"
      ]
    },
    {
      "cell_type": "code",
      "execution_count": null,
      "metadata": {
        "id": "3fEs4nMG1Jqj"
      },
      "outputs": [],
      "source": [
        "train_data = pd.read_csv('/content/drive/MyDrive/Colab Notebooks/Great Learning MIT/Data/Hackathon/RealHack/Traveldata_train.csv')\n",
        "train_sy = pd.read_csv('/content/drive/MyDrive/Colab Notebooks/Great Learning MIT/Data/Hackathon/RealHack/Surveydata_train.csv')\n",
        "submission = pd.read_csv('/content/drive/MyDrive/Colab Notebooks/Great Learning MIT/Data/Hackathon/RealHack/Sample_Submission.csv')\n",
        "test_data = pd.read_csv('/content/drive/MyDrive/Colab Notebooks/Great Learning MIT/Data/Hackathon/RealHack/Traveldata_test.csv')\n",
        "test_sy = pd.read_csv('/content/drive/MyDrive/Colab Notebooks/Great Learning MIT/Data/Hackathon/RealHack/Surveydata_test.csv')"
      ]
    },
    {
      "cell_type": "code",
      "execution_count": null,
      "metadata": {
        "id": "lGwcy32i1oj4"
      },
      "outputs": [],
      "source": [
        "train_data.head()"
      ]
    },
    {
      "cell_type": "code",
      "execution_count": null,
      "metadata": {
        "id": "IOWBf4Tt2a0F"
      },
      "outputs": [],
      "source": [
        "train_data.columns[train_data.dtypes=='object']"
      ]
    },
    {
      "cell_type": "code",
      "execution_count": null,
      "metadata": {
        "id": "tRDj9qCB1s5b"
      },
      "outputs": [],
      "source": [
        "train_data.shape"
      ]
    },
    {
      "cell_type": "code",
      "execution_count": null,
      "metadata": {
        "id": "VqiKWobk1yL5"
      },
      "outputs": [],
      "source": [
        "train_data.describe()"
      ]
    },
    {
      "cell_type": "code",
      "execution_count": null,
      "metadata": {
        "id": "RAMZjpY31zUR"
      },
      "outputs": [],
      "source": [
        "train_data.info()"
      ]
    },
    {
      "cell_type": "code",
      "execution_count": null,
      "metadata": {
        "id": "HlIZkimy10zd"
      },
      "outputs": [],
      "source": [
        "train_data.isnull().sum()"
      ]
    },
    {
      "cell_type": "code",
      "execution_count": null,
      "metadata": {
        "id": "9QwToTOw12Ob"
      },
      "outputs": [],
      "source": [
        "train_data.isnull().sum().sum()"
      ]
    },
    {
      "cell_type": "code",
      "execution_count": null,
      "metadata": {
        "id": "75a468Uy3Il-"
      },
      "outputs": [],
      "source": [
        "for column in train_data.select_dtypes(include='object').columns:\n",
        "    print(f\"Column: {column}\")\n",
        "    print(train_data[column].value_counts())\n",
        "    print()"
      ]
    },
    {
      "cell_type": "code",
      "execution_count": null,
      "metadata": {
        "id": "ZUA0VWd24xmT"
      },
      "outputs": [],
      "source": [
        "train_data.drop(['ID'],inplace=True, axis=1)"
      ]
    },
    {
      "cell_type": "code",
      "execution_count": null,
      "metadata": {
        "id": "7FyOxqPM3fYI"
      },
      "outputs": [],
      "source": [
        "from sklearn.impute import SimpleImputer\n",
        "\n",
        "# Numerical columns\n",
        "numerical_features = train_data.select_dtypes(include=['float64', 'int64']).columns\n",
        "numerical_imputer = SimpleImputer(strategy='mean')\n",
        "train_data[numerical_features] = numerical_imputer.fit_transform(train_data[numerical_features])\n",
        "\n",
        "# Categorical columns\n",
        "categorical_features = train_data.select_dtypes(include=['object']).columns\n",
        "categorical_imputer = SimpleImputer(strategy='most_frequent')\n",
        "train_data[categorical_features] = categorical_imputer.fit_transform(train_data[categorical_features])"
      ]
    },
    {
      "cell_type": "code",
      "execution_count": null,
      "metadata": {
        "id": "9US1g7MP5dwL"
      },
      "outputs": [],
      "source": [
        "train_data.isnull().sum()"
      ]
    },
    {
      "cell_type": "code",
      "execution_count": null,
      "metadata": {
        "id": "D9MR475x5hgM"
      },
      "outputs": [],
      "source": [
        "train_data.head()"
      ]
    },
    {
      "cell_type": "code",
      "execution_count": null,
      "metadata": {
        "id": "Lr5im3U-5niq"
      },
      "outputs": [],
      "source": [
        "train_data.info()"
      ]
    },
    {
      "cell_type": "code",
      "execution_count": null,
      "metadata": {
        "id": "T6l11PLI5ueC"
      },
      "outputs": [],
      "source": [
        "train_data['Age'] = train_data['Age'].astype('int')\n",
        "train_data['Travel_Distance'] = train_data['Travel_Distance'].astype('int')\n",
        "train_data['Departure_Delay_in_Mins'] = train_data['Departure_Delay_in_Mins'].astype('int')\n",
        "train_data['Arrival_Delay_in_Mins'] = train_data['Arrival_Delay_in_Mins'].astype('int')"
      ]
    },
    {
      "cell_type": "code",
      "execution_count": null,
      "metadata": {
        "id": "k4bbxEd659GZ"
      },
      "outputs": [],
      "source": [
        "train_data.info()"
      ]
    },
    {
      "cell_type": "code",
      "execution_count": null,
      "metadata": {
        "id": "Pkvr837QFkSP"
      },
      "outputs": [],
      "source": [
        "train_data = pd.get_dummies(train_data, columns=list(train_data.select_dtypes(include=['object']).columns))\n",
        "train_data.head()"
      ]
    },
    {
      "cell_type": "code",
      "execution_count": null,
      "metadata": {
        "id": "_OCVXDdvFyLG"
      },
      "outputs": [],
      "source": [
        "train_data.shape"
      ]
    },
    {
      "cell_type": "code",
      "execution_count": null,
      "metadata": {
        "id": "0-y062qT2EQv"
      },
      "outputs": [],
      "source": [
        "train_sy.shape"
      ]
    },
    {
      "cell_type": "code",
      "execution_count": null,
      "metadata": {
        "id": "kC35LGJD6Rma"
      },
      "outputs": [],
      "source": [
        "train_sy.head()"
      ]
    },
    {
      "cell_type": "code",
      "execution_count": null,
      "metadata": {
        "id": "8K3fTu6g6WpV"
      },
      "outputs": [],
      "source": [
        "train_sy.describe()"
      ]
    },
    {
      "cell_type": "code",
      "execution_count": null,
      "metadata": {
        "id": "trTNB8Ak6ZY2"
      },
      "outputs": [],
      "source": [
        "train_sy.info()"
      ]
    },
    {
      "cell_type": "code",
      "execution_count": null,
      "metadata": {
        "id": "CMRbdnHj6a2-"
      },
      "outputs": [],
      "source": [
        "train_sy.isnull().sum()"
      ]
    },
    {
      "cell_type": "code",
      "execution_count": null,
      "metadata": {
        "id": "OTyQ3CAm6ej0"
      },
      "outputs": [],
      "source": [
        "categorical_features = train_sy.select_dtypes(include=['object']).columns\n",
        "categorical_imputer = SimpleImputer(strategy='most_frequent')\n",
        "train_sy[categorical_features] = categorical_imputer.fit_transform(train_sy[categorical_features])"
      ]
    },
    {
      "cell_type": "code",
      "execution_count": null,
      "metadata": {
        "id": "VcBjXgO07h95"
      },
      "outputs": [],
      "source": [
        "train_sy.drop(['ID'],axis=1,inplace=True)"
      ]
    },
    {
      "cell_type": "code",
      "execution_count": null,
      "metadata": {
        "id": "J1lH_6W27j1x"
      },
      "outputs": [],
      "source": [
        "train_sy = pd.get_dummies(train_sy, columns=list(train_sy.select_dtypes(include=['object']).columns))\n",
        "train_sy.head()"
      ]
    },
    {
      "cell_type": "code",
      "execution_count": null,
      "metadata": {
        "id": "dMMv2NoT76aH",
        "scrolled": true
      },
      "outputs": [],
      "source": [
        "train_sy.info()"
      ]
    },
    {
      "cell_type": "code",
      "execution_count": null,
      "metadata": {
        "id": "-90y2Sm476s2"
      },
      "outputs": [],
      "source": [
        "overall_experience_col = train_sy.pop('Overall_Experience')\n",
        "train_sy['Overall_Experience'] = overall_experience_col"
      ]
    },
    {
      "cell_type": "code",
      "execution_count": null,
      "metadata": {
        "id": "Ve2RkV1KBlDK"
      },
      "outputs": [],
      "source": [
        "train_sy.shape"
      ]
    },
    {
      "cell_type": "code",
      "execution_count": null,
      "metadata": {
        "id": "uytMq5mcCPVv"
      },
      "outputs": [],
      "source": [
        "train_df = pd.concat([train_data, train_sy], axis=1)\n",
        "train_df.shape"
      ]
    },
    {
      "cell_type": "code",
      "execution_count": null,
      "metadata": {
        "id": "zd43W91JCf__"
      },
      "outputs": [],
      "source": [
        "train_df.columns"
      ]
    },
    {
      "cell_type": "code",
      "execution_count": null,
      "metadata": {
        "id": "Hs1k1fc_Ci9g"
      },
      "outputs": [],
      "source": [
        "train_df.isnull().sum().sum()"
      ]
    },
    {
      "cell_type": "code",
      "execution_count": null,
      "metadata": {
        "id": "Eo6WKhmiD_YA",
        "scrolled": true
      },
      "outputs": [],
      "source": [
        "train_df.info()"
      ]
    },
    {
      "cell_type": "code",
      "execution_count": null,
      "metadata": {
        "id": "Q93PIzLpEL5T"
      },
      "outputs": [],
      "source": [
        "train_df.select_dtypes(include=['int64']).columns"
      ]
    },
    {
      "cell_type": "code",
      "execution_count": null,
      "metadata": {
        "id": "6oDS7vEjDr_s"
      },
      "outputs": [],
      "source": [
        "def remove_outliers_iqr(data, column):\n",
        "    Q1 = data[column].quantile(0.25)\n",
        "    Q3 = data[column].quantile(0.75)\n",
        "    IQR = Q3 - Q1\n",
        "    lower_bound = Q1 - 1.5 * IQR\n",
        "    upper_bound = Q3 + 1.5 * IQR\n",
        "    return data[(data[column] >= lower_bound) & (data[column] <= upper_bound)]\n",
        "\n",
        "columns_to_remove_outliers = ['Travel_Distance', 'Departure_Delay_in_Mins','Arrival_Delay_in_Mins']\n",
        "\n",
        "for column in columns_to_remove_outliers:\n",
        "    train_df_imputed = remove_outliers_iqr(train_df, column)"
      ]
    },
    {
      "cell_type": "code",
      "execution_count": null,
      "metadata": {
        "id": "J00JtGFMEMOs"
      },
      "outputs": [],
      "source": [
        "train_df_imputed.shape"
      ]
    },
    {
      "cell_type": "code",
      "execution_count": null,
      "metadata": {
        "id": "PQ4gZYszFZd_"
      },
      "outputs": [],
      "source": [
        "train_df_imputed.head()"
      ]
    },
    {
      "cell_type": "code",
      "execution_count": null,
      "metadata": {
        "id": "Oy-lGToWEroB"
      },
      "outputs": [],
      "source": [
        "X = train_df_imputed.drop(['Overall_Experience'], axis=1)\n",
        "y = train_df_imputed['Overall_Experience']"
      ]
    },
    {
      "cell_type": "code",
      "execution_count": null,
      "metadata": {
        "id": "7wCunjf3FEvQ"
      },
      "outputs": [],
      "source": [
        "X_train, X_test, y_train, y_test = train_test_split(X, y, test_size=0.2, random_state=42)\n",
        "scaler = StandardScaler()\n",
        "X_train_scaled = scaler.fit_transform(X_train)\n",
        "X_test_scaled = scaler.transform(X_test)"
      ]
    },
    {
      "cell_type": "code",
      "execution_count": null,
      "metadata": {
        "colab": {
          "base_uri": "https://localhost:8080/"
        },
        "id": "fHxOIUIAFM9n",
        "outputId": "46a665c7-a68e-4985-d8ca-6794b2db872c"
      },
      "outputs": [
        {
          "name": "stderr",
          "output_type": "stream",
          "text": [
            "[I 2024-12-09 02:00:12,998] A new study created in memory with name: no-name-cdac640f-0666-424b-a750-20613177f3c5\n",
            "[I 2024-12-09 02:00:32,154] Trial 0 finished with value: 0.9519764654775804 and parameters: {'n_estimators': 70, 'max_depth': 18}. Best is trial 0 with value: 0.9519764654775804.\n",
            "[I 2024-12-09 02:00:40,316] Trial 1 finished with value: 0.9256127084431686 and parameters: {'n_estimators': 52, 'max_depth': 8}. Best is trial 0 with value: 0.9519764654775804.\n",
            "[I 2024-12-09 02:00:51,501] Trial 2 finished with value: 0.9409644252252338 and parameters: {'n_estimators': 54, 'max_depth': 12}. Best is trial 0 with value: 0.9519764654775804.\n",
            "[I 2024-12-09 02:01:22,010] Trial 3 finished with value: 0.9529043599562235 and parameters: {'n_estimators': 115, 'max_depth': 20}. Best is trial 3 with value: 0.9529043599562235.\n",
            "[I 2024-12-09 02:02:16,249] Trial 4 finished with value: 0.954586614182863 and parameters: {'n_estimators': 181, 'max_depth': 25}. Best is trial 4 with value: 0.954586614182863.\n",
            "[I 2024-12-09 02:02:34,531] Trial 5 finished with value: 0.9539995322868533 and parameters: {'n_estimators': 60, 'max_depth': 26}. Best is trial 4 with value: 0.954586614182863.\n",
            "[I 2024-12-09 02:03:12,643] Trial 6 finished with value: 0.9379409175734713 and parameters: {'n_estimators': 197, 'max_depth': 11}. Best is trial 4 with value: 0.954586614182863.\n",
            "[I 2024-12-09 02:03:57,751] Trial 7 finished with value: 0.9547736137311793 and parameters: {'n_estimators': 161, 'max_depth': 27}. Best is trial 7 with value: 0.9547736137311793.\n",
            "[I 2024-12-09 02:04:11,457] Trial 8 finished with value: 0.9101180985390348 and parameters: {'n_estimators': 123, 'max_depth': 5}. Best is trial 7 with value: 0.9547736137311793.\n",
            "[I 2024-12-09 02:04:36,035] Trial 9 finished with value: 0.9541419567225479 and parameters: {'n_estimators': 88, 'max_depth': 25}. Best is trial 7 with value: 0.9547736137311793.\n"
          ]
        }
      ],
      "source": [
        "def objective(trial):\n",
        "    # Define hyperparameters to optimize\n",
        "    n_estimators = trial.suggest_int('n_estimators', 50, 200)\n",
        "    max_depth = trial.suggest_int('max_depth', 5, 30)\n",
        "    model = RandomForestClassifier(n_estimators=n_estimators, max_depth=max_depth, random_state=42)\n",
        "    cv_score = cross_val_score(model, X_train_scaled, y_train, cv=5, scoring=make_scorer(f1_score)).mean()\n",
        "\n",
        "    return cv_score\n",
        "\n",
        "study = optuna.create_study(direction='maximize')\n",
        "study.optimize(objective, n_trials=10)\n",
        "\n",
        "best_params = study.best_params\n",
        "\n",
        "final_model = RandomForestClassifier(**best_params, random_state=42)\n",
        "final_model.fit(X_train_scaled, y_train)\n",
        "\n",
        "predictions = final_model.predict(X_test_scaled)\n",
        "\n",
        "test_score = f1_score(y_test, predictions)"
      ]
    },
    {
      "cell_type": "code",
      "execution_count": null,
      "metadata": {
        "colab": {
          "base_uri": "https://localhost:8080/"
        },
        "id": "sl3S7iWHGWxH",
        "outputId": "f9677e95-f40a-4051-d32a-ceb0a8c57822"
      },
      "outputs": [
        {
          "data": {
            "text/plain": [
              "0.9506973330070957"
            ]
          },
          "execution_count": 45,
          "metadata": {},
          "output_type": "execute_result"
        }
      ],
      "source": [
        "from sklearn.metrics import accuracy_score\n",
        "accuracy = accuracy_score(y_test, predictions)\n",
        "accuracy"
      ]
    },
    {
      "cell_type": "code",
      "execution_count": null,
      "metadata": {
        "id": "ooBmmywmH2et"
      },
      "outputs": [],
      "source": [
        "train_df.to_csv('/content/drive/MyDrive/Colab Notebooks/Great Learning MIT/Data/Hackathon/RealHack/train.csv')\n",
        "train_df_imputed.to_csv('/content/drive/MyDrive/Colab Notebooks/Great Learning MIT/Data/Hackathon/RealHack/train_outlier.csv')"
      ]
    },
    {
      "cell_type": "code",
      "execution_count": null,
      "metadata": {
        "colab": {
          "base_uri": "https://localhost:8080/"
        },
        "id": "2qTw5ubzq9H7",
        "outputId": "3f438dd1-b245-4501-9a4c-d07fb8c7b849"
      },
      "outputs": [
        {
          "data": {
            "text/plain": [
              "0.46017861512111574"
            ]
          },
          "execution_count": 47,
          "metadata": {},
          "output_type": "execute_result"
        }
      ],
      "source": [
        "KNN_model=KNeighborsClassifier()\n",
        "KNN_model.fit(X_train_scaled, y_train)\n",
        "pred_class_test = KNN_model.predict(X_test)\n",
        "accuracy = accuracy_score(y_test, pred_class_test)\n",
        "accuracy"
      ]
    },
    {
      "cell_type": "code",
      "execution_count": null,
      "metadata": {
        "colab": {
          "base_uri": "https://localhost:8080/"
        },
        "id": "Uvc7ruxqq9RR",
        "outputId": "c80eae7c-1012-4f14-8716-5bbfb5dc47d8"
      },
      "outputs": [
        {
          "name": "stderr",
          "output_type": "stream",
          "text": [
            "[I 2024-12-09 02:05:15,152] A new study created in memory with name: no-name-08a36d1c-063b-43fa-b4d4-ec6598e6295d\n",
            "[I 2024-12-09 02:05:35,423] Trial 0 finished with value: 0.9446865958524351 and parameters: {'n_estimators': 400, 'max_features': 'log2', 'max_depth': 30, 'min_samples_split': 2, 'min_samples_leaf': 2}. Best is trial 0 with value: 0.9446865958524351.\n",
            "[I 2024-12-09 02:05:45,991] Trial 1 finished with value: 0.9444877816797685 and parameters: {'n_estimators': 200, 'max_features': 'log2', 'max_depth': 30, 'min_samples_split': 2, 'min_samples_leaf': 2}. Best is trial 1 with value: 0.9444877816797685.\n",
            "[I 2024-12-09 02:06:11,146] Trial 2 finished with value: 0.9264271768507916 and parameters: {'n_estimators': 500, 'max_features': 'sqrt', 'max_depth': 10, 'min_samples_split': 6, 'min_samples_leaf': 1}. Best is trial 2 with value: 0.9264271768507916.\n",
            "[I 2024-12-09 02:06:30,932] Trial 3 finished with value: 0.944334870636439 and parameters: {'n_estimators': 300, 'max_features': 'sqrt', 'max_depth': 30, 'min_samples_split': 10, 'min_samples_leaf': 4}. Best is trial 2 with value: 0.9264271768507916.\n",
            "[I 2024-12-09 02:06:36,338] Trial 4 finished with value: 0.9436619801970172 and parameters: {'n_estimators': 100, 'max_features': 'log2', 'max_depth': 50, 'min_samples_split': 10, 'min_samples_leaf': 1}. Best is trial 2 with value: 0.9264271768507916.\n",
            "[I 2024-12-09 02:06:52,590] Trial 5 finished with value: 0.9453288853749002 and parameters: {'n_estimators': 300, 'max_features': 'log2', 'max_depth': 30, 'min_samples_split': 8, 'min_samples_leaf': 1}. Best is trial 2 with value: 0.9264271768507916.\n",
            "[I 2024-12-09 02:07:12,975] Trial 6 finished with value: 0.9395482527795462 and parameters: {'n_estimators': 400, 'max_features': 'log2', 'max_depth': 90, 'min_samples_split': 10, 'min_samples_leaf': 4}. Best is trial 2 with value: 0.9264271768507916.\n",
            "[I 2024-12-09 02:07:33,096] Trial 7 finished with value: 0.9255402167970492 and parameters: {'n_estimators': 400, 'max_features': 'sqrt', 'max_depth': 10, 'min_samples_split': 4, 'min_samples_leaf': 3}. Best is trial 7 with value: 0.9255402167970492.\n",
            "[I 2024-12-09 02:08:07,295] Trial 8 finished with value: 0.9461699773773505 and parameters: {'n_estimators': 500, 'max_features': 'sqrt', 'max_depth': 30, 'min_samples_split': 4, 'min_samples_leaf': 3}. Best is trial 7 with value: 0.9255402167970492.\n",
            "[I 2024-12-09 02:08:27,181] Trial 9 finished with value: 0.9446101210378458 and parameters: {'n_estimators': 300, 'max_features': 'sqrt', 'max_depth': 30, 'min_samples_split': 8, 'min_samples_leaf': 4}. Best is trial 7 with value: 0.9255402167970492.\n"
          ]
        },
        {
          "data": {
            "text/plain": [
              "0.9506973330070957"
            ]
          },
          "execution_count": 48,
          "metadata": {},
          "output_type": "execute_result"
        }
      ],
      "source": [
        "def objective(trial):\n",
        "\n",
        "    n_estimators = trial.suggest_int(name=\"n_estimators\", low=100, high=500, step=100)\n",
        "    max_features = trial.suggest_categorical(name=\"max_features\", choices=['sqrt', 'log2'])\n",
        "    max_depth = trial.suggest_int(name=\"max_depth\", low=10, high=110, step=20)\n",
        "    min_samples_split = trial.suggest_int(name=\"min_samples_split\", low=2, high=10, step=2)\n",
        "    min_samples_leaf = trial.suggest_int(name=\"min_samples_leaf\", low=1, high=4, step=1)\n",
        "\n",
        "    params = {\n",
        "        \"n_estimators\": n_estimators,\n",
        "        \"max_features\": max_features,\n",
        "        \"max_depth\": max_depth,\n",
        "        \"min_samples_split\": min_samples_split,\n",
        "        \"min_samples_leaf\": min_samples_leaf\n",
        "    }\n",
        "    model = RandomForestClassifier(random_state=42, **params)\n",
        "\n",
        "    cv_score = cross_val_score(model, X_train_scaled, y_train, n_jobs=-1, cv=5)\n",
        "    mean_cv_accuracy = cv_score.mean()\n",
        "    return mean_cv_accuracy\n",
        "\n",
        "study = optuna.create_study()\n",
        "study.optimize(objective, n_trials=10)\n",
        "\n",
        "best_model = RandomForestClassifier(random_state=42, **study.best_params)\n",
        "best_model = RandomForestClassifier(**best_params, random_state=42)\n",
        "best_model.fit(X_train_scaled, y_train)\n",
        "\n",
        "predictions = best_model.predict(X_test_scaled)\n",
        "\n",
        "accuracy = accuracy_score(y_test, predictions)\n",
        "accuracy"
      ]
    },
    {
      "cell_type": "code",
      "execution_count": null,
      "metadata": {
        "colab": {
          "base_uri": "https://localhost:8080/"
        },
        "id": "wgCSVWNKq9N-",
        "outputId": "48612565-d213-460c-9c00-8522b2935f22"
      },
      "outputs": [
        {
          "name": "stdout",
          "output_type": "stream",
          "text": [
            "100%|██████████| 100/100 [10:18<00:00,  6.19s/trial, best loss: 0.10649572506224769]\n"
          ]
        },
        {
          "data": {
            "text/plain": [
              "0.951247859065329"
            ]
          },
          "execution_count": 49,
          "metadata": {},
          "output_type": "execute_result"
        }
      ],
      "source": [
        "def objective(params):\n",
        "    clf = xgb.XGBClassifier(\n",
        "        objective=\"binary:logistic\",\n",
        "        eval_metric=\"logloss\",\n",
        "        n_estimators=params['n_estimators'],\n",
        "        max_depth=params['max_depth'],\n",
        "        learning_rate=params['learning_rate'],\n",
        "        subsample=params['subsample'],\n",
        "    )\n",
        "\n",
        "    # Use cross-validation to estimate the model's performance\n",
        "    scores = cross_val_score(clf, X_train_scaled, y_train, cv=5, scoring=\"neg_log_loss\")\n",
        "\n",
        "    # Hyperopt aims to minimize the objective function, so negate the scores\n",
        "    return -scores.mean()\n",
        "\n",
        "# Define the hyperparameter search space\n",
        "space = {\n",
        "    'n_estimators': hp.choice('n_estimators', range(50, 200)),\n",
        "    'max_depth': hp.choice('max_depth', range(1, 15)),\n",
        "    'learning_rate': hp.loguniform('learning_rate', -5, 0),\n",
        "    'subsample': hp.uniform('subsample', 0.5, 1),\n",
        "}\n",
        "\n",
        "# Run the hyperparameter optimization\n",
        "best = fmin(fn=objective, space=space, algo=tpe.suggest, max_evals=100)\n",
        "\n",
        "clf = xgb.XGBClassifier(\n",
        "    objective=\"binary:logistic\",\n",
        "    eval_metric=\"logloss\",\n",
        "    **best\n",
        ")\n",
        "\n",
        "clf.fit(X_train_scaled, y_train)\n",
        "predictions = clf.predict(X_test_scaled)\n",
        "accuracy = accuracy_score(y_test, predictions)\n",
        "accuracy"
      ]
    },
    {
      "cell_type": "code",
      "execution_count": null,
      "metadata": {
        "colab": {
          "base_uri": "https://localhost:8080/",
          "height": 329
        },
        "id": "HAFSV-XRL-LO",
        "outputId": "757e5539-7d4f-4c60-efa1-155e5e62fca2"
      },
      "outputs": [
        {
          "ename": "FileNotFoundError",
          "evalue": "[Errno 2] No such file or directory: 'Submission_cat.csv'",
          "output_type": "error",
          "traceback": [
            "\u001b[0;31m---------------------------------------------------------------------------\u001b[0m",
            "\u001b[0;31mFileNotFoundError\u001b[0m                         Traceback (most recent call last)",
            "\u001b[0;32m<ipython-input-51-67f7cc6eeb66>\u001b[0m in \u001b[0;36m<cell line: 1>\u001b[0;34m()\u001b[0m\n\u001b[0;32m----> 1\u001b[0;31m \u001b[0mmy_data\u001b[0m \u001b[0;34m=\u001b[0m \u001b[0mpd\u001b[0m\u001b[0;34m.\u001b[0m\u001b[0mread_csv\u001b[0m\u001b[0;34m(\u001b[0m\u001b[0;34m'Submission_cat.csv'\u001b[0m\u001b[0;34m)\u001b[0m\u001b[0;34m\u001b[0m\u001b[0;34m\u001b[0m\u001b[0m\n\u001b[0m\u001b[1;32m      2\u001b[0m \u001b[0mmy_data\u001b[0m\u001b[0;34m.\u001b[0m\u001b[0mhead\u001b[0m\u001b[0;34m(\u001b[0m\u001b[0;34m)\u001b[0m\u001b[0;34m\u001b[0m\u001b[0;34m\u001b[0m\u001b[0m\n",
            "\u001b[0;32m/usr/local/lib/python3.10/dist-packages/pandas/io/parsers/readers.py\u001b[0m in \u001b[0;36mread_csv\u001b[0;34m(filepath_or_buffer, sep, delimiter, header, names, index_col, usecols, dtype, engine, converters, true_values, false_values, skipinitialspace, skiprows, skipfooter, nrows, na_values, keep_default_na, na_filter, verbose, skip_blank_lines, parse_dates, infer_datetime_format, keep_date_col, date_parser, date_format, dayfirst, cache_dates, iterator, chunksize, compression, thousands, decimal, lineterminator, quotechar, quoting, doublequote, escapechar, comment, encoding, encoding_errors, dialect, on_bad_lines, delim_whitespace, low_memory, memory_map, float_precision, storage_options, dtype_backend)\u001b[0m\n\u001b[1;32m   1024\u001b[0m     \u001b[0mkwds\u001b[0m\u001b[0;34m.\u001b[0m\u001b[0mupdate\u001b[0m\u001b[0;34m(\u001b[0m\u001b[0mkwds_defaults\u001b[0m\u001b[0;34m)\u001b[0m\u001b[0;34m\u001b[0m\u001b[0;34m\u001b[0m\u001b[0m\n\u001b[1;32m   1025\u001b[0m \u001b[0;34m\u001b[0m\u001b[0m\n\u001b[0;32m-> 1026\u001b[0;31m     \u001b[0;32mreturn\u001b[0m \u001b[0m_read\u001b[0m\u001b[0;34m(\u001b[0m\u001b[0mfilepath_or_buffer\u001b[0m\u001b[0;34m,\u001b[0m \u001b[0mkwds\u001b[0m\u001b[0;34m)\u001b[0m\u001b[0;34m\u001b[0m\u001b[0;34m\u001b[0m\u001b[0m\n\u001b[0m\u001b[1;32m   1027\u001b[0m \u001b[0;34m\u001b[0m\u001b[0m\n\u001b[1;32m   1028\u001b[0m \u001b[0;34m\u001b[0m\u001b[0m\n",
            "\u001b[0;32m/usr/local/lib/python3.10/dist-packages/pandas/io/parsers/readers.py\u001b[0m in \u001b[0;36m_read\u001b[0;34m(filepath_or_buffer, kwds)\u001b[0m\n\u001b[1;32m    618\u001b[0m \u001b[0;34m\u001b[0m\u001b[0m\n\u001b[1;32m    619\u001b[0m     \u001b[0;31m# Create the parser.\u001b[0m\u001b[0;34m\u001b[0m\u001b[0;34m\u001b[0m\u001b[0m\n\u001b[0;32m--> 620\u001b[0;31m     \u001b[0mparser\u001b[0m \u001b[0;34m=\u001b[0m \u001b[0mTextFileReader\u001b[0m\u001b[0;34m(\u001b[0m\u001b[0mfilepath_or_buffer\u001b[0m\u001b[0;34m,\u001b[0m \u001b[0;34m**\u001b[0m\u001b[0mkwds\u001b[0m\u001b[0;34m)\u001b[0m\u001b[0;34m\u001b[0m\u001b[0;34m\u001b[0m\u001b[0m\n\u001b[0m\u001b[1;32m    621\u001b[0m \u001b[0;34m\u001b[0m\u001b[0m\n\u001b[1;32m    622\u001b[0m     \u001b[0;32mif\u001b[0m \u001b[0mchunksize\u001b[0m \u001b[0;32mor\u001b[0m \u001b[0miterator\u001b[0m\u001b[0;34m:\u001b[0m\u001b[0;34m\u001b[0m\u001b[0;34m\u001b[0m\u001b[0m\n",
            "\u001b[0;32m/usr/local/lib/python3.10/dist-packages/pandas/io/parsers/readers.py\u001b[0m in \u001b[0;36m__init__\u001b[0;34m(self, f, engine, **kwds)\u001b[0m\n\u001b[1;32m   1618\u001b[0m \u001b[0;34m\u001b[0m\u001b[0m\n\u001b[1;32m   1619\u001b[0m         \u001b[0mself\u001b[0m\u001b[0;34m.\u001b[0m\u001b[0mhandles\u001b[0m\u001b[0;34m:\u001b[0m \u001b[0mIOHandles\u001b[0m \u001b[0;34m|\u001b[0m \u001b[0;32mNone\u001b[0m \u001b[0;34m=\u001b[0m \u001b[0;32mNone\u001b[0m\u001b[0;34m\u001b[0m\u001b[0;34m\u001b[0m\u001b[0m\n\u001b[0;32m-> 1620\u001b[0;31m         \u001b[0mself\u001b[0m\u001b[0;34m.\u001b[0m\u001b[0m_engine\u001b[0m \u001b[0;34m=\u001b[0m \u001b[0mself\u001b[0m\u001b[0;34m.\u001b[0m\u001b[0m_make_engine\u001b[0m\u001b[0;34m(\u001b[0m\u001b[0mf\u001b[0m\u001b[0;34m,\u001b[0m \u001b[0mself\u001b[0m\u001b[0;34m.\u001b[0m\u001b[0mengine\u001b[0m\u001b[0;34m)\u001b[0m\u001b[0;34m\u001b[0m\u001b[0;34m\u001b[0m\u001b[0m\n\u001b[0m\u001b[1;32m   1621\u001b[0m \u001b[0;34m\u001b[0m\u001b[0m\n\u001b[1;32m   1622\u001b[0m     \u001b[0;32mdef\u001b[0m \u001b[0mclose\u001b[0m\u001b[0;34m(\u001b[0m\u001b[0mself\u001b[0m\u001b[0;34m)\u001b[0m \u001b[0;34m->\u001b[0m \u001b[0;32mNone\u001b[0m\u001b[0;34m:\u001b[0m\u001b[0;34m\u001b[0m\u001b[0;34m\u001b[0m\u001b[0m\n",
            "\u001b[0;32m/usr/local/lib/python3.10/dist-packages/pandas/io/parsers/readers.py\u001b[0m in \u001b[0;36m_make_engine\u001b[0;34m(self, f, engine)\u001b[0m\n\u001b[1;32m   1878\u001b[0m                 \u001b[0;32mif\u001b[0m \u001b[0;34m\"b\"\u001b[0m \u001b[0;32mnot\u001b[0m \u001b[0;32min\u001b[0m \u001b[0mmode\u001b[0m\u001b[0;34m:\u001b[0m\u001b[0;34m\u001b[0m\u001b[0;34m\u001b[0m\u001b[0m\n\u001b[1;32m   1879\u001b[0m                     \u001b[0mmode\u001b[0m \u001b[0;34m+=\u001b[0m \u001b[0;34m\"b\"\u001b[0m\u001b[0;34m\u001b[0m\u001b[0;34m\u001b[0m\u001b[0m\n\u001b[0;32m-> 1880\u001b[0;31m             self.handles = get_handle(\n\u001b[0m\u001b[1;32m   1881\u001b[0m                 \u001b[0mf\u001b[0m\u001b[0;34m,\u001b[0m\u001b[0;34m\u001b[0m\u001b[0;34m\u001b[0m\u001b[0m\n\u001b[1;32m   1882\u001b[0m                 \u001b[0mmode\u001b[0m\u001b[0;34m,\u001b[0m\u001b[0;34m\u001b[0m\u001b[0;34m\u001b[0m\u001b[0m\n",
            "\u001b[0;32m/usr/local/lib/python3.10/dist-packages/pandas/io/common.py\u001b[0m in \u001b[0;36mget_handle\u001b[0;34m(path_or_buf, mode, encoding, compression, memory_map, is_text, errors, storage_options)\u001b[0m\n\u001b[1;32m    871\u001b[0m         \u001b[0;32mif\u001b[0m \u001b[0mioargs\u001b[0m\u001b[0;34m.\u001b[0m\u001b[0mencoding\u001b[0m \u001b[0;32mand\u001b[0m \u001b[0;34m\"b\"\u001b[0m \u001b[0;32mnot\u001b[0m \u001b[0;32min\u001b[0m \u001b[0mioargs\u001b[0m\u001b[0;34m.\u001b[0m\u001b[0mmode\u001b[0m\u001b[0;34m:\u001b[0m\u001b[0;34m\u001b[0m\u001b[0;34m\u001b[0m\u001b[0m\n\u001b[1;32m    872\u001b[0m             \u001b[0;31m# Encoding\u001b[0m\u001b[0;34m\u001b[0m\u001b[0;34m\u001b[0m\u001b[0m\n\u001b[0;32m--> 873\u001b[0;31m             handle = open(\n\u001b[0m\u001b[1;32m    874\u001b[0m                 \u001b[0mhandle\u001b[0m\u001b[0;34m,\u001b[0m\u001b[0;34m\u001b[0m\u001b[0;34m\u001b[0m\u001b[0m\n\u001b[1;32m    875\u001b[0m                 \u001b[0mioargs\u001b[0m\u001b[0;34m.\u001b[0m\u001b[0mmode\u001b[0m\u001b[0;34m,\u001b[0m\u001b[0;34m\u001b[0m\u001b[0;34m\u001b[0m\u001b[0m\n",
            "\u001b[0;31mFileNotFoundError\u001b[0m: [Errno 2] No such file or directory: 'Submission_cat.csv'"
          ]
        }
      ],
      "source": [
        "my_data = pd.read_csv('Submission_cat.csv')\n",
        "my_data.head()"
      ]
    },
    {
      "cell_type": "code",
      "execution_count": null,
      "metadata": {
        "id": "sFwTcz1nMkmw"
      },
      "outputs": [],
      "source": [
        "my_data.to_csv('/content/drive/MyDrive/Colab Notebooks/Great Learning MIT/Data/Hackathon/RealHack/Submission_cat.csv', index=False)\n",
        "my_data.to_csv('Submission_cat.csv', index=False)\n"
      ]
    },
    {
      "cell_type": "code",
      "execution_count": null,
      "metadata": {
        "colab": {
          "base_uri": "https://localhost:8080/"
        },
        "id": "jKDC1QdWNb-1",
        "outputId": "0bbba5c0-0b48-46a4-ded9-3933fd46ac76"
      },
      "outputs": [
        {
          "name": "stdout",
          "output_type": "stream",
          "text": [
            "100%|██████████| 50/50 [27:00<00:00, 32.42s/trial, best loss: 0.10482144578155875]\n"
          ]
        },
        {
          "data": {
            "text/plain": [
              "0.9765108881820406"
            ]
          },
          "execution_count": 52,
          "metadata": {},
          "output_type": "execute_result"
        }
      ],
      "source": [
        "def objective(params):\n",
        "    clfx = catboost.CatBoostClassifier(\n",
        "        iterations=params['iterations'],\n",
        "        depth=params['depth'],\n",
        "        learning_rate=params['learning_rate'],\n",
        "        l2_leaf_reg=params['l2_leaf_reg'],\n",
        "        verbose=0,\n",
        "    )\n",
        "\n",
        "    # Use StratifiedKFold for better handling of imbalanced datasets\n",
        "    cv = StratifiedKFold(n_splits=5, shuffle=True, random_state=42)\n",
        "\n",
        "    # Use cross-validation to estimate the model's performance\n",
        "    scores = cross_val_score(clfx, X_train_scaled, y_train, cv=cv, scoring=\"neg_log_loss\", n_jobs=-1)\n",
        "\n",
        "    # Hyperopt aims to minimize the objective function, so negate the scores\n",
        "    return -scores.mean()\n",
        "\n",
        "# Define the hyperparameter search space\n",
        "space = {\n",
        "    'iterations': hp.choice('iterations', range(100, 1000)),\n",
        "    'depth': hp.choice('depth', range(1, 12)),\n",
        "    'learning_rate': hp.loguniform('learning_rate', -5, 0),\n",
        "    'l2_leaf_reg': hp.loguniform('l2_leaf_reg', -5, 5),\n",
        "}\n",
        "\n",
        "# Run the hyperparameter optimization\n",
        "best = fmin(fn=objective, space=space, algo=tpe.suggest, max_evals=50)\n",
        "clf1 = catboost.CatBoostClassifier(\n",
        "    verbose=0,\n",
        "    **best\n",
        ")\n",
        "# Scale the entire dataset X using the same scaler used for training\n",
        "X_scaled = scaler.fit_transform(X)\n",
        "\n",
        "clf1.fit(X_scaled, y)\n",
        "predictions = clf1.predict(X_test_scaled)\n",
        "accuracy = accuracy_score(y_test, predictions)\n",
        "accuracy"
      ]
    },
    {
      "cell_type": "code",
      "execution_count": null,
      "metadata": {
        "colab": {
          "base_uri": "https://localhost:8080/"
        },
        "id": "ACGLkxHKYG7N",
        "outputId": "0e1efcef-502b-480c-97a6-f4f3f3f041cf"
      },
      "outputs": [
        {
          "data": {
            "text/plain": [
              "(16348, 97)"
            ]
          },
          "execution_count": 53,
          "metadata": {},
          "output_type": "execute_result"
        }
      ],
      "source": [
        "X_test_scaled.shape"
      ]
    },
    {
      "cell_type": "code",
      "execution_count": null,
      "metadata": {
        "colab": {
          "base_uri": "https://localhost:8080/"
        },
        "id": "uSwiYRcONb-3",
        "outputId": "c6c58800-8af9-4042-dd8d-8aecee859e35"
      },
      "outputs": [
        {
          "data": {
            "text/plain": [
              "0.9798140445314412"
            ]
          },
          "execution_count": 54,
          "metadata": {},
          "output_type": "execute_result"
        }
      ],
      "source": [
        "best_params = {'n_estimators': 500, 'max_features': 'sqrt', 'max_depth': 110, 'min_samples_split': 4, 'min_samples_leaf': 3}\n",
        "best_model = RandomForestClassifier(**best_params, random_state=42)\n",
        "best_model.fit(X_scaled, y)\n",
        "predictions = best_model.predict(X_test_scaled)\n",
        "accuracy = accuracy_score(y_test, predictions)\n",
        "accuracy"
      ]
    },
    {
      "cell_type": "code",
      "execution_count": null,
      "metadata": {
        "colab": {
          "base_uri": "https://localhost:8080/"
        },
        "id": "lMYUiRmRNb-4",
        "outputId": "30f90c54-2fab-4eca-b291-52c7a1652156"
      },
      "outputs": [
        {
          "data": {
            "text/plain": [
              "0.9683141668705652"
            ]
          },
          "execution_count": 55,
          "metadata": {},
          "output_type": "execute_result"
        }
      ],
      "source": [
        "predictions = clf1.predict(X_test_scaled)+clf.predict(X_test_scaled)+best_model.predict(X_test_scaled)\n",
        "predictions = np.array([int(x) for x in (predictions>0.4)])\n",
        "accuracy = accuracy_score(y_test, predictions)\n",
        "accuracy"
      ]
    },
    {
      "cell_type": "code",
      "execution_count": null,
      "metadata": {
        "colab": {
          "background_save": true,
          "base_uri": "https://localhost:8080/"
        },
        "id": "tbVbl5VqNb-4",
        "outputId": "fe5a11ae-960a-4aca-fab4-593ade5d2d7a"
      },
      "outputs": [
        {
          "name": "stdout",
          "output_type": "stream",
          "text": [
            "100%|██████████| 50/50 [44:20<00:00, 53.22s/trial, best loss: 0.09984709378349148]\n"
          ]
        },
        {
          "data": {
            "text/plain": [
              "0.9863591876682163"
            ]
          },
          "execution_count": 56,
          "metadata": {},
          "output_type": "execute_result"
        }
      ],
      "source": [
        "df=pd.read_csv('/content/drive/MyDrive/Colab Notebooks/Great Learning MIT/Data/Hackathon/RealHack/train.csv',index_col=[0])\n",
        "X1 = df.drop(['Overall_Experience'], axis=1)\n",
        "X1_scaled = scaler.fit_transform(X1)\n",
        "y1 = df['Overall_Experience']\n",
        "def objective(params):\n",
        "    clfx = catboost.CatBoostClassifier(\n",
        "        iterations=params['iterations'],\n",
        "        depth=params['depth'],\n",
        "        learning_rate=params['learning_rate'],\n",
        "        l2_leaf_reg=params['l2_leaf_reg'],\n",
        "        verbose=0,\n",
        "    )\n",
        "\n",
        "    # Use cross-validation to estimate the model's performance\n",
        "    scores = cross_val_score(clfx, X1_scaled, y1, cv=5, scoring=\"neg_log_loss\")\n",
        "\n",
        "    # Hyperopt aims to minimize the objective function, so negate the scores\n",
        "    return -scores.mean()\n",
        "\n",
        "# Define the hyperparameter search space\n",
        "space = {\n",
        "    'iterations': hp.choice('iterations', range(100, 1000)),\n",
        "    'depth': hp.choice('depth', range(1, 12)),\n",
        "    'learning_rate': hp.loguniform('learning_rate', -5, 0),\n",
        "    'l2_leaf_reg': hp.loguniform('l2_leaf_reg', -5, 5),\n",
        "}\n",
        "\n",
        "# Run the hyperparameter optimization\n",
        "best = fmin(fn=objective, space=space, algo=tpe.suggest, max_evals=50)\n",
        "clf2 = catboost.CatBoostClassifier(\n",
        "    verbose=0,\n",
        "    **best\n",
        ")\n",
        "\n",
        "clf2.fit(X1_scaled, y1)\n",
        "predictions = clf2.predict(X_test_scaled)\n",
        "accuracy = accuracy_score(y_test, predictions)\n",
        "accuracy"
      ]
    },
    {
      "cell_type": "code",
      "execution_count": null,
      "metadata": {
        "colab": {
          "background_save": true
        },
        "id": "V6NlL1UHNb-5",
        "outputId": "5c09f823-10ca-41a5-88b5-8fb667fe991d"
      },
      "outputs": [
        {
          "name": "stdout",
          "output_type": "stream",
          "text": [
            "100%|██████████| 100/100 [1:04:48<00:00, 38.89s/trial, best loss: 0.10405156143623914]\n",
            "{'depth': 8, 'iterations': 854, 'l2_leaf_reg': 1.8881132456306529, 'learning_rate': 0.031838511833878286}\n"
          ]
        },
        {
          "data": {
            "text/plain": [
              "0.9702715928553951"
            ]
          },
          "execution_count": 57,
          "metadata": {},
          "output_type": "execute_result"
        }
      ],
      "source": [
        "\n",
        "def objective(params):\n",
        "    clfx = catboost.CatBoostClassifier(\n",
        "        iterations=params['iterations'],\n",
        "        depth=params['depth'],\n",
        "        learning_rate=params['learning_rate'],\n",
        "        l2_leaf_reg=params['l2_leaf_reg'],\n",
        "        verbose=0,\n",
        "        loss_function=\"Logloss\",\n",
        "        task_type=\"GPU\",\n",
        "        random_seed=432013,\n",
        "        od_type=\"Iter\",\n",
        "    )\n",
        "\n",
        "    # Use cross-validation to estimate the model's performance\n",
        "    scores = cross_val_score(clfx, X1_scaled, y1, cv=4, scoring=\"neg_log_loss\")\n",
        "\n",
        "    # Hyperopt aims to minimize the objective function, so negate the scores\n",
        "    return -scores.mean()\n",
        "\n",
        "# Define the hyperparameter search space\n",
        "space = {\n",
        "    'iterations': hp.choice('iterations', range(100, 1000)),\n",
        "    'depth': hp.choice('depth', range(1, 12)),\n",
        "    'learning_rate': hp.loguniform('learning_rate', -5, 0),\n",
        "    'l2_leaf_reg': hp.loguniform('l2_leaf_reg', -5, 5),\n",
        "}\n",
        "\n",
        "# Run the hyperparameter optimization\n",
        "best = fmin(fn=objective, space=space, algo=tpe.suggest, max_evals=100)\n",
        "print(best)\n",
        "clf3 = catboost.CatBoostClassifier(\n",
        "    verbose=0,\n",
        "    **best,\n",
        "    task_type=\"GPU\",\n",
        "    devices='0:1',\n",
        "    od_type=\"Iter\"\n",
        ")\n",
        "\n",
        "clf3.fit(X1_scaled, y1)\n",
        "predictions = clf3.predict(X_test_scaled)\n",
        "accuracy = accuracy_score(y_test, predictions)\n",
        "accuracy"
      ]
    },
    {
      "cell_type": "code",
      "execution_count": null,
      "metadata": {
        "colab": {
          "background_save": true
        },
        "id": "B1_KB5dxq9UV",
        "scrolled": true,
        "outputId": "5615469e-8f3b-4d6c-cec5-da16145003f9"
      },
      "outputs": [
        {
          "name": "stdout",
          "output_type": "stream",
          "text": [
            "Epoch 1/500\n",
            "\u001b[1m1635/1635\u001b[0m \u001b[32m━━━━━━━━━━━━━━━━━━━━\u001b[0m\u001b[37m\u001b[0m \u001b[1m9s\u001b[0m 4ms/step - accuracy: 0.7906 - loss: 0.4206 - val_accuracy: 0.9248 - val_loss: 0.1850\n",
            "Epoch 2/500\n",
            "\u001b[1m1635/1635\u001b[0m \u001b[32m━━━━━━━━━━━━━━━━━━━━\u001b[0m\u001b[37m\u001b[0m \u001b[1m3s\u001b[0m 2ms/step - accuracy: 0.9147 - loss: 0.2353 - val_accuracy: 0.9365 - val_loss: 0.1590\n",
            "Epoch 3/500\n",
            "\u001b[1m1635/1635\u001b[0m \u001b[32m━━━━━━━━━━━━━━━━━━━━\u001b[0m\u001b[37m\u001b[0m \u001b[1m3s\u001b[0m 2ms/step - accuracy: 0.9207 - loss: 0.2101 - val_accuracy: 0.9372 - val_loss: 0.1518\n",
            "Epoch 4/500\n",
            "\u001b[1m1635/1635\u001b[0m \u001b[32m━━━━━━━━━━━━━━━━━━━━\u001b[0m\u001b[37m\u001b[0m \u001b[1m3s\u001b[0m 2ms/step - accuracy: 0.9240 - loss: 0.1997 - val_accuracy: 0.9408 - val_loss: 0.1441\n",
            "Epoch 5/500\n",
            "\u001b[1m1635/1635\u001b[0m \u001b[32m━━━━━━━━━━━━━━━━━━━━\u001b[0m\u001b[37m\u001b[0m \u001b[1m3s\u001b[0m 2ms/step - accuracy: 0.9275 - loss: 0.1872 - val_accuracy: 0.9407 - val_loss: 0.1385\n",
            "Epoch 6/500\n",
            "\u001b[1m1635/1635\u001b[0m \u001b[32m━━━━━━━━━━━━━━━━━━━━\u001b[0m\u001b[37m\u001b[0m \u001b[1m3s\u001b[0m 2ms/step - accuracy: 0.9280 - loss: 0.1840 - val_accuracy: 0.9421 - val_loss: 0.1431\n",
            "Epoch 7/500\n",
            "\u001b[1m1635/1635\u001b[0m \u001b[32m━━━━━━━━━━━━━━━━━━━━\u001b[0m\u001b[37m\u001b[0m \u001b[1m3s\u001b[0m 2ms/step - accuracy: 0.9327 - loss: 0.1748 - val_accuracy: 0.9423 - val_loss: 0.1361\n",
            "Epoch 8/500\n",
            "\u001b[1m1635/1635\u001b[0m \u001b[32m━━━━━━━━━━━━━━━━━━━━\u001b[0m\u001b[37m\u001b[0m \u001b[1m3s\u001b[0m 2ms/step - accuracy: 0.9294 - loss: 0.1760 - val_accuracy: 0.9417 - val_loss: 0.1351\n",
            "Epoch 9/500\n",
            "\u001b[1m1635/1635\u001b[0m \u001b[32m━━━━━━━━━━━━━━━━━━━━\u001b[0m\u001b[37m\u001b[0m \u001b[1m3s\u001b[0m 2ms/step - accuracy: 0.9326 - loss: 0.1705 - val_accuracy: 0.9439 - val_loss: 0.1323\n",
            "Epoch 10/500\n",
            "\u001b[1m1635/1635\u001b[0m \u001b[32m━━━━━━━━━━━━━━━━━━━━\u001b[0m\u001b[37m\u001b[0m \u001b[1m3s\u001b[0m 2ms/step - accuracy: 0.9319 - loss: 0.1710 - val_accuracy: 0.9456 - val_loss: 0.1336\n",
            "Epoch 11/500\n",
            "\u001b[1m1635/1635\u001b[0m \u001b[32m━━━━━━━━━━━━━━━━━━━━\u001b[0m\u001b[37m\u001b[0m \u001b[1m3s\u001b[0m 2ms/step - accuracy: 0.9340 - loss: 0.1659 - val_accuracy: 0.9437 - val_loss: 0.1360\n",
            "Epoch 12/500\n",
            "\u001b[1m1635/1635\u001b[0m \u001b[32m━━━━━━━━━━━━━━━━━━━━\u001b[0m\u001b[37m\u001b[0m \u001b[1m3s\u001b[0m 2ms/step - accuracy: 0.9332 - loss: 0.1686 - val_accuracy: 0.9424 - val_loss: 0.1359\n",
            "Epoch 13/500\n",
            "\u001b[1m1635/1635\u001b[0m \u001b[32m━━━━━━━━━━━━━━━━━━━━\u001b[0m\u001b[37m\u001b[0m \u001b[1m3s\u001b[0m 2ms/step - accuracy: 0.9324 - loss: 0.1661 - val_accuracy: 0.9422 - val_loss: 0.1357\n",
            "Epoch 14/500\n",
            "\u001b[1m1635/1635\u001b[0m \u001b[32m━━━━━━━━━━━━━━━━━━━━\u001b[0m\u001b[37m\u001b[0m \u001b[1m3s\u001b[0m 2ms/step - accuracy: 0.9303 - loss: 0.1731 - val_accuracy: 0.9431 - val_loss: 0.1389\n",
            "Epoch 15/500\n",
            "\u001b[1m1635/1635\u001b[0m \u001b[32m━━━━━━━━━━━━━━━━━━━━\u001b[0m\u001b[37m\u001b[0m \u001b[1m3s\u001b[0m 2ms/step - accuracy: 0.9333 - loss: 0.1674 - val_accuracy: 0.9420 - val_loss: 0.1394\n",
            "Epoch 16/500\n",
            "\u001b[1m1635/1635\u001b[0m \u001b[32m━━━━━━━━━━━━━━━━━━━━\u001b[0m\u001b[37m\u001b[0m \u001b[1m3s\u001b[0m 2ms/step - accuracy: 0.9320 - loss: 0.1662 - val_accuracy: 0.9420 - val_loss: 0.1404\n",
            "Epoch 17/500\n",
            "\u001b[1m1635/1635\u001b[0m \u001b[32m━━━━━━━━━━━━━━━━━━━━\u001b[0m\u001b[37m\u001b[0m \u001b[1m3s\u001b[0m 2ms/step - accuracy: 0.9367 - loss: 0.1585 - val_accuracy: 0.9423 - val_loss: 0.1399\n",
            "Epoch 18/500\n",
            "\u001b[1m1635/1635\u001b[0m \u001b[32m━━━━━━━━━━━━━━━━━━━━\u001b[0m\u001b[37m\u001b[0m \u001b[1m3s\u001b[0m 2ms/step - accuracy: 0.9310 - loss: 0.1649 - val_accuracy: 0.9442 - val_loss: 0.1411\n",
            "Epoch 19/500\n",
            "\u001b[1m1635/1635\u001b[0m \u001b[32m━━━━━━━━━━━━━━━━━━━━\u001b[0m\u001b[37m\u001b[0m \u001b[1m3s\u001b[0m 2ms/step - accuracy: 0.9359 - loss: 0.1629 - val_accuracy: 0.9420 - val_loss: 0.1417\n",
            "Epoch 20/500\n",
            "\u001b[1m1635/1635\u001b[0m \u001b[32m━━━━━━━━━━━━━━━━━━━━\u001b[0m\u001b[37m\u001b[0m \u001b[1m3s\u001b[0m 2ms/step - accuracy: 0.9331 - loss: 0.1648 - val_accuracy: 0.9434 - val_loss: 0.1419\n",
            "Epoch 21/500\n",
            "\u001b[1m1635/1635\u001b[0m \u001b[32m━━━━━━━━━━━━━━━━━━━━\u001b[0m\u001b[37m\u001b[0m \u001b[1m3s\u001b[0m 2ms/step - accuracy: 0.9364 - loss: 0.1613 - val_accuracy: 0.9401 - val_loss: 0.1441\n",
            "Epoch 22/500\n",
            "\u001b[1m1635/1635\u001b[0m \u001b[32m━━━━━━━━━━━━━━━━━━━━\u001b[0m\u001b[37m\u001b[0m \u001b[1m3s\u001b[0m 2ms/step - accuracy: 0.9340 - loss: 0.1591 - val_accuracy: 0.9420 - val_loss: 0.1382\n",
            "Epoch 23/500\n",
            "\u001b[1m1635/1635\u001b[0m \u001b[32m━━━━━━━━━━━━━━━━━━━━\u001b[0m\u001b[37m\u001b[0m \u001b[1m3s\u001b[0m 2ms/step - accuracy: 0.9345 - loss: 0.1607 - val_accuracy: 0.9409 - val_loss: 0.1397\n",
            "Epoch 24/500\n",
            "\u001b[1m1635/1635\u001b[0m \u001b[32m━━━━━━━━━━━━━━━━━━━━\u001b[0m\u001b[37m\u001b[0m \u001b[1m3s\u001b[0m 2ms/step - accuracy: 0.9371 - loss: 0.1571 - val_accuracy: 0.9431 - val_loss: 0.1409\n",
            "Epoch 25/500\n",
            "\u001b[1m1635/1635\u001b[0m \u001b[32m━━━━━━━━━━━━━━━━━━━━\u001b[0m\u001b[37m\u001b[0m \u001b[1m3s\u001b[0m 2ms/step - accuracy: 0.9354 - loss: 0.1595 - val_accuracy: 0.9430 - val_loss: 0.1467\n",
            "Epoch 26/500\n",
            "\u001b[1m1635/1635\u001b[0m \u001b[32m━━━━━━━━━━━━━━━━━━━━\u001b[0m\u001b[37m\u001b[0m \u001b[1m3s\u001b[0m 2ms/step - accuracy: 0.9371 - loss: 0.1561 - val_accuracy: 0.9446 - val_loss: 0.1408\n",
            "Epoch 27/500\n",
            "\u001b[1m1635/1635\u001b[0m \u001b[32m━━━━━━━━━━━━━━━━━━━━\u001b[0m\u001b[37m\u001b[0m \u001b[1m3s\u001b[0m 2ms/step - accuracy: 0.9349 - loss: 0.1625 - val_accuracy: 0.9425 - val_loss: 0.1447\n",
            "Epoch 28/500\n",
            "\u001b[1m1635/1635\u001b[0m \u001b[32m━━━━━━━━━━━━━━━━━━━━\u001b[0m\u001b[37m\u001b[0m \u001b[1m3s\u001b[0m 2ms/step - accuracy: 0.9357 - loss: 0.1567 - val_accuracy: 0.9438 - val_loss: 0.1398\n",
            "Epoch 29/500\n",
            "\u001b[1m1635/1635\u001b[0m \u001b[32m━━━━━━━━━━━━━━━━━━━━\u001b[0m\u001b[37m\u001b[0m \u001b[1m3s\u001b[0m 2ms/step - accuracy: 0.9364 - loss: 0.1566 - val_accuracy: 0.9433 - val_loss: 0.1418\n"
          ]
        }
      ],
      "source": [
        "early_stopping = callbacks.EarlyStopping(\n",
        "    min_delta=0.001, # minimium amount of change to count as an improvement\n",
        "    patience=20, # how many epochs to wait before stopping\n",
        "    restore_best_weights=True)\n",
        "\n",
        "# Initialising the NN\n",
        "model = Sequential()\n",
        "\n",
        "# layers\n",
        "model.add(Dense(units = 16, kernel_initializer = 'uniform', activation = 'relu', input_dim = 97))\n",
        "model.add(Dense(units = 8, kernel_initializer = 'uniform', activation = 'relu'))\n",
        "model.add(Dropout(0.25))\n",
        "model.add(Dense(units = 4, kernel_initializer = 'uniform', activation = 'relu'))\n",
        "model.add(Dropout(0.3))\n",
        "model.add(Dense(units = 1, kernel_initializer = 'uniform', activation = 'sigmoid'))\n",
        "from keras.optimizers import SGD\n",
        "# Compiling the ANN\n",
        "model.compile(optimizer = 'adam', loss = 'binary_crossentropy', metrics = ['accuracy'])\n",
        "\n",
        "# Train the ANN\n",
        "history = model.fit(X_train_scaled, y_train, batch_size = 32, epochs = 500,callbacks=[early_stopping], validation_split=0.2)"
      ]
    },
    {
      "cell_type": "code",
      "execution_count": null,
      "metadata": {
        "colab": {
          "background_save": true
        },
        "id": "isSL5BInq9Xc",
        "outputId": "fcb4b96b-d21d-4bfa-fc04-9cc21f0b7a8e"
      },
      "outputs": [
        {
          "data": {
            "image/png": "[encoded data removed]",
            "text/plain": [
              "<Figure size 640x480 with 1 Axes>"
            ]
          },
          "metadata": {},
          "output_type": "display_data"
        }
      ],
      "source": [
        "history_df = pd.DataFrame(history.history)\n",
        "\n",
        "plt.plot(history_df.loc[:, ['loss']], \"#6daa9f\", label='Training loss')\n",
        "plt.plot(history_df.loc[:, ['val_loss']],\"#774571\", label='Validation loss')\n",
        "plt.title('Training and Validation loss')\n",
        "plt.xlabel('Epochs')\n",
        "plt.ylabel('Loss')\n",
        "plt.legend(loc=\"best\")\n",
        "\n",
        "plt.show()"
      ]
    },
    {
      "cell_type": "code",
      "execution_count": null,
      "metadata": {
        "colab": {
          "background_save": true
        },
        "id": "6AIWaTG1-fce",
        "outputId": "1c5318dd-5f68-4daa-ea92-6b754dbc7a65"
      },
      "outputs": [
        {
          "data": {
            "image/png": "[encoded data removed]",
            "text/plain": [
              "<Figure size 640x480 with 1 Axes>"
            ]
          },
          "metadata": {},
          "output_type": "display_data"
        }
      ],
      "source": [
        "history_df = pd.DataFrame(history.history)\n",
        "\n",
        "plt.plot(history_df.loc[:, ['accuracy']], \"#6daa9f\", label='Training accuracy')\n",
        "plt.plot(history_df.loc[:, ['val_accuracy']], \"#774571\", label='Validation accuracy')\n",
        "\n",
        "plt.title('Training and Validation accuracy')\n",
        "plt.xlabel('Epochs')\n",
        "plt.ylabel('Accuracy')\n",
        "plt.legend()\n",
        "plt.show()"
      ]
    },
    {
      "cell_type": "code",
      "execution_count": null,
      "metadata": {
        "colab": {
          "background_save": true
        },
        "id": "P0IInZUXq9gr",
        "outputId": "5eaa3766-4619-4992-939d-0bc648075f5b"
      },
      "outputs": [
        {
          "name": "stdout",
          "output_type": "stream",
          "text": [
            "\n",
            "val_accuracy: 94.16%\n"
          ]
        }
      ],
      "source": [
        "val_accuracy = np.mean(history.history['val_accuracy'])\n",
        "print(\"\\n%s: %.2f%%\" % ('val_accuracy', val_accuracy*100))"
      ]
    },
    {
      "cell_type": "code",
      "execution_count": null,
      "metadata": {
        "colab": {
          "background_save": true
        },
        "id": "lPwAz_SFq9j2",
        "outputId": "98be243b-f7a8-4a72-f5a9-790ecd895dd1"
      },
      "outputs": [
        {
          "name": "stdout",
          "output_type": "stream",
          "text": [
            "\u001b[1m511/511\u001b[0m \u001b[32m━━━━━━━━━━━━━━━━━━━━\u001b[0m\u001b[37m\u001b[0m \u001b[1m1s\u001b[0m 2ms/step\n"
          ]
        },
        {
          "data": {
            "text/plain": [
              "0.9434181551260094"
            ]
          },
          "execution_count": 62,
          "metadata": {},
          "output_type": "execute_result"
        }
      ],
      "source": [
        "predictions = model.predict(X_test_scaled)\n",
        "predictions = (predictions > 0.5)\n",
        "accuracy = accuracy_score(y_test, predictions)\n",
        "accuracy"
      ]
    },
    {
      "cell_type": "code",
      "execution_count": null,
      "metadata": {
        "colab": {
          "background_save": true
        },
        "id": "6ZHkBfWYApCl",
        "outputId": "1821b1a2-3040-4cde-8328-41945b83fafb"
      },
      "outputs": [
        {
          "name": "stdout",
          "output_type": "stream",
          "text": [
            "Epoch 1/500\n",
            "\u001b[1m409/409\u001b[0m \u001b[32m━━━━━━━━━━━━━━━━━━━━\u001b[0m\u001b[37m\u001b[0m \u001b[1m7s\u001b[0m 10ms/step - accuracy: 0.5508 - loss: 0.6929 - val_accuracy: 0.5592 - val_loss: 0.6920\n",
            "Epoch 2/500\n",
            "\u001b[1m409/409\u001b[0m \u001b[32m━━━━━━━━━━━━━━━━━━━━\u001b[0m\u001b[37m\u001b[0m \u001b[1m1s\u001b[0m 2ms/step - accuracy: 0.5622 - loss: 0.6914 - val_accuracy: 0.5592 - val_loss: 0.6884\n",
            "Epoch 3/500\n",
            "\u001b[1m409/409\u001b[0m \u001b[32m━━━━━━━━━━━━━━━━━━━━\u001b[0m\u001b[37m\u001b[0m \u001b[1m1s\u001b[0m 2ms/step - accuracy: 0.5871 - loss: 0.6865 - val_accuracy: 0.7566 - val_loss: 0.6771\n",
            "Epoch 4/500\n",
            "\u001b[1m409/409\u001b[0m \u001b[32m━━━━━━━━━━━━━━━━━━━━\u001b[0m\u001b[37m\u001b[0m \u001b[1m1s\u001b[0m 2ms/step - accuracy: 0.7523 - loss: 0.6720 - val_accuracy: 0.8677 - val_loss: 0.6491\n",
            "Epoch 5/500\n",
            "\u001b[1m409/409\u001b[0m \u001b[32m━━━━━━━━━━━━━━━━━━━━\u001b[0m\u001b[37m\u001b[0m \u001b[1m1s\u001b[0m 2ms/step - accuracy: 0.8261 - loss: 0.6392 - val_accuracy: 0.8709 - val_loss: 0.5961\n",
            "Epoch 6/500\n",
            "\u001b[1m409/409\u001b[0m \u001b[32m━━━━━━━━━━━━━━━━━━━━\u001b[0m\u001b[37m\u001b[0m \u001b[1m1s\u001b[0m 2ms/step - accuracy: 0.8339 - loss: 0.5839 - val_accuracy: 0.8724 - val_loss: 0.5190\n",
            "Epoch 7/500\n",
            "\u001b[1m409/409\u001b[0m \u001b[32m━━━━━━━━━━━━━━━━━━━━\u001b[0m\u001b[37m\u001b[0m \u001b[1m1s\u001b[0m 2ms/step - accuracy: 0.8349 - loss: 0.5190 - val_accuracy: 0.8752 - val_loss: 0.4366\n",
            "Epoch 8/500\n",
            "\u001b[1m409/409\u001b[0m \u001b[32m━━━━━━━━━━━━━━━━━━━━\u001b[0m\u001b[37m\u001b[0m \u001b[1m1s\u001b[0m 2ms/step - accuracy: 0.8394 - loss: 0.4607 - val_accuracy: 0.8802 - val_loss: 0.3706\n",
            "Epoch 9/500\n",
            "\u001b[1m409/409\u001b[0m \u001b[32m━━━━━━━━━━━━━━━━━━━━\u001b[0m\u001b[37m\u001b[0m \u001b[1m1s\u001b[0m 2ms/step - accuracy: 0.8415 - loss: 0.4215 - val_accuracy: 0.8842 - val_loss: 0.3266\n",
            "Epoch 10/500\n",
            "\u001b[1m409/409\u001b[0m \u001b[32m━━━━━━━━━━━━━━━━━━━━\u001b[0m\u001b[37m\u001b[0m \u001b[1m1s\u001b[0m 2ms/step - accuracy: 0.8472 - loss: 0.3962 - val_accuracy: 0.8885 - val_loss: 0.2971\n",
            "Epoch 11/500\n",
            "\u001b[1m409/409\u001b[0m \u001b[32m━━━━━━━━━━━━━━━━━━━━\u001b[0m\u001b[37m\u001b[0m \u001b[1m1s\u001b[0m 2ms/step - accuracy: 0.8496 - loss: 0.3788 - val_accuracy: 0.8907 - val_loss: 0.2787\n",
            "Epoch 12/500\n",
            "\u001b[1m409/409\u001b[0m \u001b[32m━━━━━━━━━━━━━━━━━━━━\u001b[0m\u001b[37m\u001b[0m \u001b[1m1s\u001b[0m 2ms/step - accuracy: 0.8576 - loss: 0.3632 - val_accuracy: 0.8923 - val_loss: 0.2657\n",
            "Epoch 13/500\n",
            "\u001b[1m409/409\u001b[0m \u001b[32m━━━━━━━━━━━━━━━━━━━━\u001b[0m\u001b[37m\u001b[0m \u001b[1m1s\u001b[0m 2ms/step - accuracy: 0.8559 - loss: 0.3527 - val_accuracy: 0.8940 - val_loss: 0.2560\n",
            "Epoch 14/500\n",
            "\u001b[1m409/409\u001b[0m \u001b[32m━━━━━━━━━━━━━━━━━━━━\u001b[0m\u001b[37m\u001b[0m \u001b[1m1s\u001b[0m 2ms/step - accuracy: 0.8567 - loss: 0.3435 - val_accuracy: 0.8969 - val_loss: 0.2482\n",
            "Epoch 15/500\n",
            "\u001b[1m409/409\u001b[0m \u001b[32m━━━━━━━━━━━━━━━━━━━━\u001b[0m\u001b[37m\u001b[0m \u001b[1m1s\u001b[0m 2ms/step - accuracy: 0.8590 - loss: 0.3316 - val_accuracy: 0.8982 - val_loss: 0.2418\n",
            "Epoch 16/500\n",
            "\u001b[1m409/409\u001b[0m \u001b[32m━━━━━━━━━━━━━━━━━━━━\u001b[0m\u001b[37m\u001b[0m \u001b[1m1s\u001b[0m 2ms/step - accuracy: 0.8626 - loss: 0.3274 - val_accuracy: 0.8998 - val_loss: 0.2370\n",
            "Epoch 17/500\n",
            "\u001b[1m409/409\u001b[0m \u001b[32m━━━━━━━━━━━━━━━━━━━━\u001b[0m\u001b[37m\u001b[0m \u001b[1m1s\u001b[0m 2ms/step - accuracy: 0.8632 - loss: 0.3153 - val_accuracy: 0.9009 - val_loss: 0.2327\n",
            "Epoch 18/500\n",
            "\u001b[1m409/409\u001b[0m \u001b[32m━━━━━━━━━━━━━━━━━━━━\u001b[0m\u001b[37m\u001b[0m \u001b[1m1s\u001b[0m 2ms/step - accuracy: 0.8639 - loss: 0.3118 - val_accuracy: 0.9014 - val_loss: 0.2290\n",
            "Epoch 19/500\n",
            "\u001b[1m409/409\u001b[0m \u001b[32m━━━━━━━━━━━━━━━━━━━━\u001b[0m\u001b[37m\u001b[0m \u001b[1m1s\u001b[0m 2ms/step - accuracy: 0.8639 - loss: 0.3103 - val_accuracy: 0.9022 - val_loss: 0.2260\n",
            "Epoch 20/500\n",
            "\u001b[1m409/409\u001b[0m \u001b[32m━━━━━━━━━━━━━━━━━━━━\u001b[0m\u001b[37m\u001b[0m \u001b[1m1s\u001b[0m 2ms/step - accuracy: 0.8639 - loss: 0.3070 - val_accuracy: 0.9027 - val_loss: 0.2233\n",
            "Epoch 21/500\n",
            "\u001b[1m409/409\u001b[0m \u001b[32m━━━━━━━━━━━━━━━━━━━━\u001b[0m\u001b[37m\u001b[0m \u001b[1m1s\u001b[0m 2ms/step - accuracy: 0.8670 - loss: 0.2996 - val_accuracy: 0.9037 - val_loss: 0.2209\n",
            "Epoch 22/500\n",
            "\u001b[1m409/409\u001b[0m \u001b[32m━━━━━━━━━━━━━━━━━━━━\u001b[0m\u001b[37m\u001b[0m \u001b[1m1s\u001b[0m 2ms/step - accuracy: 0.8684 - loss: 0.2983 - val_accuracy: 0.9050 - val_loss: 0.2186\n",
            "Epoch 23/500\n",
            "\u001b[1m409/409\u001b[0m \u001b[32m━━━━━━━━━━━━━━━━━━━━\u001b[0m\u001b[37m\u001b[0m \u001b[1m1s\u001b[0m 2ms/step - accuracy: 0.8704 - loss: 0.2903 - val_accuracy: 0.9059 - val_loss: 0.2165\n",
            "Epoch 24/500\n",
            "\u001b[1m409/409\u001b[0m \u001b[32m━━━━━━━━━━━━━━━━━━━━\u001b[0m\u001b[37m\u001b[0m \u001b[1m1s\u001b[0m 2ms/step - accuracy: 0.8695 - loss: 0.2877 - val_accuracy: 0.9067 - val_loss: 0.2147\n",
            "Epoch 25/500\n",
            "\u001b[1m409/409\u001b[0m \u001b[32m━━━━━━━━━━━━━━━━━━━━\u001b[0m\u001b[37m\u001b[0m \u001b[1m1s\u001b[0m 2ms/step - accuracy: 0.8745 - loss: 0.2867 - val_accuracy: 0.9077 - val_loss: 0.2128\n",
            "Epoch 26/500\n",
            "\u001b[1m409/409\u001b[0m \u001b[32m━━━━━━━━━━━━━━━━━━━━\u001b[0m\u001b[37m\u001b[0m \u001b[1m1s\u001b[0m 2ms/step - accuracy: 0.8690 - loss: 0.2934 - val_accuracy: 0.9094 - val_loss: 0.2111\n",
            "Epoch 27/500\n",
            "\u001b[1m409/409\u001b[0m \u001b[32m━━━━━━━━━━━━━━━━━━━━\u001b[0m\u001b[37m\u001b[0m \u001b[1m1s\u001b[0m 2ms/step - accuracy: 0.8730 - loss: 0.2864 - val_accuracy: 0.9102 - val_loss: 0.2093\n",
            "Epoch 28/500\n",
            "\u001b[1m409/409\u001b[0m \u001b[32m━━━━━━━━━━━━━━━━━━━━\u001b[0m\u001b[37m\u001b[0m \u001b[1m1s\u001b[0m 2ms/step - accuracy: 0.8738 - loss: 0.2856 - val_accuracy: 0.9111 - val_loss: 0.2075\n",
            "Epoch 29/500\n",
            "\u001b[1m409/409\u001b[0m \u001b[32m━━━━━━━━━━━━━━━━━━━━\u001b[0m\u001b[37m\u001b[0m \u001b[1m1s\u001b[0m 2ms/step - accuracy: 0.8741 - loss: 0.2860 - val_accuracy: 0.9118 - val_loss: 0.2060\n",
            "Epoch 30/500\n",
            "\u001b[1m409/409\u001b[0m \u001b[32m━━━━━━━━━━━━━━━━━━━━\u001b[0m\u001b[37m\u001b[0m \u001b[1m1s\u001b[0m 2ms/step - accuracy: 0.8734 - loss: 0.2773 - val_accuracy: 0.9131 - val_loss: 0.2044\n",
            "Epoch 31/500\n",
            "\u001b[1m409/409\u001b[0m \u001b[32m━━━━━━━━━━━━━━━━━━━━\u001b[0m\u001b[37m\u001b[0m \u001b[1m1s\u001b[0m 2ms/step - accuracy: 0.8773 - loss: 0.2768 - val_accuracy: 0.9142 - val_loss: 0.2030\n",
            "Epoch 32/500\n",
            "\u001b[1m409/409\u001b[0m \u001b[32m━━━━━━━━━━━━━━━━━━━━\u001b[0m\u001b[37m\u001b[0m \u001b[1m1s\u001b[0m 2ms/step - accuracy: 0.8760 - loss: 0.2769 - val_accuracy: 0.9151 - val_loss: 0.2015\n",
            "Epoch 33/500\n",
            "\u001b[1m409/409\u001b[0m \u001b[32m━━━━━━━━━━━━━━━━━━━━\u001b[0m\u001b[37m\u001b[0m \u001b[1m1s\u001b[0m 2ms/step - accuracy: 0.8767 - loss: 0.2785 - val_accuracy: 0.9156 - val_loss: 0.2001\n",
            "Epoch 34/500\n",
            "\u001b[1m409/409\u001b[0m \u001b[32m━━━━━━━━━━━━━━━━━━━━\u001b[0m\u001b[37m\u001b[0m \u001b[1m1s\u001b[0m 2ms/step - accuracy: 0.8798 - loss: 0.2702 - val_accuracy: 0.9165 - val_loss: 0.1988\n",
            "Epoch 35/500\n",
            "\u001b[1m409/409\u001b[0m \u001b[32m━━━━━━━━━━━━━━━━━━━━\u001b[0m\u001b[37m\u001b[0m \u001b[1m1s\u001b[0m 2ms/step - accuracy: 0.8799 - loss: 0.2722 - val_accuracy: 0.9175 - val_loss: 0.1976\n",
            "Epoch 36/500\n",
            "\u001b[1m409/409\u001b[0m \u001b[32m━━━━━━━━━━━━━━━━━━━━\u001b[0m\u001b[37m\u001b[0m \u001b[1m1s\u001b[0m 2ms/step - accuracy: 0.8798 - loss: 0.2698 - val_accuracy: 0.9181 - val_loss: 0.1962\n",
            "Epoch 37/500\n",
            "\u001b[1m409/409\u001b[0m \u001b[32m━━━━━━━━━━━━━━━━━━━━\u001b[0m\u001b[37m\u001b[0m \u001b[1m1s\u001b[0m 2ms/step - accuracy: 0.8808 - loss: 0.2679 - val_accuracy: 0.9193 - val_loss: 0.1950\n",
            "Epoch 38/500\n",
            "\u001b[1m409/409\u001b[0m \u001b[32m━━━━━━━━━━━━━━━━━━━━\u001b[0m\u001b[37m\u001b[0m \u001b[1m1s\u001b[0m 2ms/step - accuracy: 0.8786 - loss: 0.2678 - val_accuracy: 0.9201 - val_loss: 0.1937\n",
            "Epoch 39/500\n",
            "\u001b[1m409/409\u001b[0m \u001b[32m━━━━━━━━━━━━━━━━━━━━\u001b[0m\u001b[37m\u001b[0m \u001b[1m1s\u001b[0m 2ms/step - accuracy: 0.8835 - loss: 0.2625 - val_accuracy: 0.9210 - val_loss: 0.1926\n",
            "Epoch 40/500\n",
            "\u001b[1m409/409\u001b[0m \u001b[32m━━━━━━━━━━━━━━━━━━━━\u001b[0m\u001b[37m\u001b[0m \u001b[1m1s\u001b[0m 2ms/step - accuracy: 0.8836 - loss: 0.2633 - val_accuracy: 0.9216 - val_loss: 0.1914\n",
            "Epoch 41/500\n",
            "\u001b[1m409/409\u001b[0m \u001b[32m━━━━━━━━━━━━━━━━━━━━\u001b[0m\u001b[37m\u001b[0m \u001b[1m1s\u001b[0m 2ms/step - accuracy: 0.8861 - loss: 0.2643 - val_accuracy: 0.9222 - val_loss: 0.1903\n",
            "Epoch 42/500\n",
            "\u001b[1m409/409\u001b[0m \u001b[32m━━━━━━━━━━━━━━━━━━━━\u001b[0m\u001b[37m\u001b[0m \u001b[1m1s\u001b[0m 2ms/step - accuracy: 0.8850 - loss: 0.2677 - val_accuracy: 0.9223 - val_loss: 0.1892\n",
            "Epoch 43/500\n",
            "\u001b[1m409/409\u001b[0m \u001b[32m━━━━━━━━━━━━━━━━━━━━\u001b[0m\u001b[37m\u001b[0m \u001b[1m1s\u001b[0m 2ms/step - accuracy: 0.8838 - loss: 0.2577 - val_accuracy: 0.9229 - val_loss: 0.1881\n",
            "Epoch 44/500\n",
            "\u001b[1m409/409\u001b[0m \u001b[32m━━━━━━━━━━━━━━━━━━━━\u001b[0m\u001b[37m\u001b[0m \u001b[1m1s\u001b[0m 2ms/step - accuracy: 0.8824 - loss: 0.2645 - val_accuracy: 0.9236 - val_loss: 0.1871\n",
            "Epoch 45/500\n",
            "\u001b[1m409/409\u001b[0m \u001b[32m━━━━━━━━━━━━━━━━━━━━\u001b[0m\u001b[37m\u001b[0m \u001b[1m1s\u001b[0m 2ms/step - accuracy: 0.8856 - loss: 0.2597 - val_accuracy: 0.9246 - val_loss: 0.1861\n",
            "Epoch 46/500\n",
            "\u001b[1m409/409\u001b[0m \u001b[32m━━━━━━━━━━━━━━━━━━━━\u001b[0m\u001b[37m\u001b[0m \u001b[1m1s\u001b[0m 2ms/step - accuracy: 0.8867 - loss: 0.2556 - val_accuracy: 0.9251 - val_loss: 0.1851\n",
            "Epoch 47/500\n",
            "\u001b[1m409/409\u001b[0m \u001b[32m━━━━━━━━━━━━━━━━━━━━\u001b[0m\u001b[37m\u001b[0m \u001b[1m1s\u001b[0m 2ms/step - accuracy: 0.8830 - loss: 0.2614 - val_accuracy: 0.9252 - val_loss: 0.1841\n",
            "Epoch 48/500\n",
            "\u001b[1m409/409\u001b[0m \u001b[32m━━━━━━━━━━━━━━━━━━━━\u001b[0m\u001b[37m\u001b[0m \u001b[1m1s\u001b[0m 2ms/step - accuracy: 0.8854 - loss: 0.2576 - val_accuracy: 0.9253 - val_loss: 0.1831\n",
            "Epoch 49/500\n",
            "\u001b[1m409/409\u001b[0m \u001b[32m━━━━━━━━━━━━━━━━━━━━\u001b[0m\u001b[37m\u001b[0m \u001b[1m1s\u001b[0m 2ms/step - accuracy: 0.8869 - loss: 0.2505 - val_accuracy: 0.9261 - val_loss: 0.1820\n",
            "Epoch 50/500\n",
            "\u001b[1m409/409\u001b[0m \u001b[32m━━━━━━━━━━━━━━━━━━━━\u001b[0m\u001b[37m\u001b[0m \u001b[1m1s\u001b[0m 2ms/step - accuracy: 0.8878 - loss: 0.2538 - val_accuracy: 0.9262 - val_loss: 0.1811\n",
            "Epoch 51/500\n",
            "\u001b[1m409/409\u001b[0m \u001b[32m━━━━━━━━━━━━━━━━━━━━\u001b[0m\u001b[37m\u001b[0m \u001b[1m1s\u001b[0m 2ms/step - accuracy: 0.8885 - loss: 0.2547 - val_accuracy: 0.9270 - val_loss: 0.1802\n",
            "Epoch 52/500\n",
            "\u001b[1m409/409\u001b[0m \u001b[32m━━━━━━━━━━━━━━━━━━━━\u001b[0m\u001b[37m\u001b[0m \u001b[1m1s\u001b[0m 2ms/step - accuracy: 0.8871 - loss: 0.2560 - val_accuracy: 0.9270 - val_loss: 0.1794\n",
            "Epoch 53/500\n",
            "\u001b[1m409/409\u001b[0m \u001b[32m━━━━━━━━━━━━━━━━━━━━\u001b[0m\u001b[37m\u001b[0m \u001b[1m1s\u001b[0m 2ms/step - accuracy: 0.8927 - loss: 0.2447 - val_accuracy: 0.9274 - val_loss: 0.1786\n",
            "Epoch 54/500\n",
            "\u001b[1m409/409\u001b[0m \u001b[32m━━━━━━━━━━━━━━━━━━━━\u001b[0m\u001b[37m\u001b[0m \u001b[1m1s\u001b[0m 2ms/step - accuracy: 0.8862 - loss: 0.2473 - val_accuracy: 0.9275 - val_loss: 0.1777\n",
            "Epoch 55/500\n",
            "\u001b[1m409/409\u001b[0m \u001b[32m━━━━━━━━━━━━━━━━━━━━\u001b[0m\u001b[37m\u001b[0m \u001b[1m1s\u001b[0m 2ms/step - accuracy: 0.8889 - loss: 0.2434 - val_accuracy: 0.9279 - val_loss: 0.1769\n",
            "Epoch 56/500\n",
            "\u001b[1m409/409\u001b[0m \u001b[32m━━━━━━━━━━━━━━━━━━━━\u001b[0m\u001b[37m\u001b[0m \u001b[1m1s\u001b[0m 2ms/step - accuracy: 0.8900 - loss: 0.2483 - val_accuracy: 0.9282 - val_loss: 0.1761\n",
            "Epoch 57/500\n",
            "\u001b[1m409/409\u001b[0m \u001b[32m━━━━━━━━━━━━━━━━━━━━\u001b[0m\u001b[37m\u001b[0m \u001b[1m1s\u001b[0m 2ms/step - accuracy: 0.8918 - loss: 0.2458 - val_accuracy: 0.9284 - val_loss: 0.1753\n",
            "Epoch 58/500\n",
            "\u001b[1m409/409\u001b[0m \u001b[32m━━━━━━━━━━━━━━━━━━━━\u001b[0m\u001b[37m\u001b[0m \u001b[1m1s\u001b[0m 2ms/step - accuracy: 0.8896 - loss: 0.2478 - val_accuracy: 0.9287 - val_loss: 0.1745\n",
            "Epoch 59/500\n",
            "\u001b[1m409/409\u001b[0m \u001b[32m━━━━━━━━━━━━━━━━━━━━\u001b[0m\u001b[37m\u001b[0m \u001b[1m1s\u001b[0m 2ms/step - accuracy: 0.8897 - loss: 0.2463 - val_accuracy: 0.9290 - val_loss: 0.1736\n",
            "Epoch 60/500\n",
            "\u001b[1m409/409\u001b[0m \u001b[32m━━━━━━━━━━━━━━━━━━━━\u001b[0m\u001b[37m\u001b[0m \u001b[1m1s\u001b[0m 2ms/step - accuracy: 0.8943 - loss: 0.2393 - val_accuracy: 0.9290 - val_loss: 0.1729\n",
            "Epoch 61/500\n",
            "\u001b[1m409/409\u001b[0m \u001b[32m━━━━━━━━━━━━━━━━━━━━\u001b[0m\u001b[37m\u001b[0m \u001b[1m1s\u001b[0m 2ms/step - accuracy: 0.8932 - loss: 0.2448 - val_accuracy: 0.9291 - val_loss: 0.1721\n",
            "Epoch 62/500\n",
            "\u001b[1m409/409\u001b[0m \u001b[32m━━━━━━━━━━━━━━━━━━━━\u001b[0m\u001b[37m\u001b[0m \u001b[1m1s\u001b[0m 2ms/step - accuracy: 0.8916 - loss: 0.2448 - val_accuracy: 0.9295 - val_loss: 0.1714\n",
            "Epoch 63/500\n",
            "\u001b[1m409/409\u001b[0m \u001b[32m━━━━━━━━━━━━━━━━━━━━\u001b[0m\u001b[37m\u001b[0m \u001b[1m1s\u001b[0m 2ms/step - accuracy: 0.8922 - loss: 0.2399 - val_accuracy: 0.9300 - val_loss: 0.1706\n",
            "Epoch 64/500\n",
            "\u001b[1m409/409\u001b[0m \u001b[32m━━━━━━━━━━━━━━━━━━━━\u001b[0m\u001b[37m\u001b[0m \u001b[1m1s\u001b[0m 2ms/step - accuracy: 0.8928 - loss: 0.2392 - val_accuracy: 0.9304 - val_loss: 0.1699\n",
            "Epoch 65/500\n",
            "\u001b[1m409/409\u001b[0m \u001b[32m━━━━━━━━━━━━━━━━━━━━\u001b[0m\u001b[37m\u001b[0m \u001b[1m1s\u001b[0m 2ms/step - accuracy: 0.8925 - loss: 0.2396 - val_accuracy: 0.9307 - val_loss: 0.1691\n",
            "Epoch 66/500\n",
            "\u001b[1m409/409\u001b[0m \u001b[32m━━━━━━━━━━━━━━━━━━━━\u001b[0m\u001b[37m\u001b[0m \u001b[1m1s\u001b[0m 2ms/step - accuracy: 0.8964 - loss: 0.2386 - val_accuracy: 0.9313 - val_loss: 0.1685\n",
            "Epoch 67/500\n",
            "\u001b[1m409/409\u001b[0m \u001b[32m━━━━━━━━━━━━━━━━━━━━\u001b[0m\u001b[37m\u001b[0m \u001b[1m1s\u001b[0m 2ms/step - accuracy: 0.8960 - loss: 0.2378 - val_accuracy: 0.9313 - val_loss: 0.1680\n",
            "Epoch 68/500\n",
            "\u001b[1m409/409\u001b[0m \u001b[32m━━━━━━━━━━━━━━━━━━━━\u001b[0m\u001b[37m\u001b[0m \u001b[1m1s\u001b[0m 2ms/step - accuracy: 0.8947 - loss: 0.2371 - val_accuracy: 0.9321 - val_loss: 0.1673\n",
            "Epoch 69/500\n",
            "\u001b[1m409/409\u001b[0m \u001b[32m━━━━━━━━━━━━━━━━━━━━\u001b[0m\u001b[37m\u001b[0m \u001b[1m1s\u001b[0m 2ms/step - accuracy: 0.8945 - loss: 0.2332 - val_accuracy: 0.9323 - val_loss: 0.1667\n",
            "Epoch 70/500\n",
            "\u001b[1m409/409\u001b[0m \u001b[32m━━━━━━━━━━━━━━━━━━━━\u001b[0m\u001b[37m\u001b[0m \u001b[1m1s\u001b[0m 2ms/step - accuracy: 0.8925 - loss: 0.2409 - val_accuracy: 0.9323 - val_loss: 0.1661\n",
            "Epoch 71/500\n",
            "\u001b[1m409/409\u001b[0m \u001b[32m━━━━━━━━━━━━━━━━━━━━\u001b[0m\u001b[37m\u001b[0m \u001b[1m1s\u001b[0m 2ms/step - accuracy: 0.8936 - loss: 0.2368 - val_accuracy: 0.9323 - val_loss: 0.1655\n",
            "Epoch 72/500\n",
            "\u001b[1m409/409\u001b[0m \u001b[32m━━━━━━━━━━━━━━━━━━━━\u001b[0m\u001b[37m\u001b[0m \u001b[1m1s\u001b[0m 2ms/step - accuracy: 0.8966 - loss: 0.2329 - val_accuracy: 0.9327 - val_loss: 0.1650\n",
            "Epoch 73/500\n",
            "\u001b[1m409/409\u001b[0m \u001b[32m━━━━━━━━━━━━━━━━━━━━\u001b[0m\u001b[37m\u001b[0m \u001b[1m1s\u001b[0m 2ms/step - accuracy: 0.8960 - loss: 0.2332 - val_accuracy: 0.9329 - val_loss: 0.1644\n",
            "Epoch 74/500\n",
            "\u001b[1m409/409\u001b[0m \u001b[32m━━━━━━━━━━━━━━━━━━━━\u001b[0m\u001b[37m\u001b[0m \u001b[1m1s\u001b[0m 2ms/step - accuracy: 0.8976 - loss: 0.2281 - val_accuracy: 0.9329 - val_loss: 0.1639\n",
            "Epoch 75/500\n",
            "\u001b[1m409/409\u001b[0m \u001b[32m━━━━━━━━━━━━━━━━━━━━\u001b[0m\u001b[37m\u001b[0m \u001b[1m1s\u001b[0m 2ms/step - accuracy: 0.8965 - loss: 0.2314 - val_accuracy: 0.9333 - val_loss: 0.1633\n",
            "Epoch 76/500\n",
            "\u001b[1m409/409\u001b[0m \u001b[32m━━━━━━━━━━━━━━━━━━━━\u001b[0m\u001b[37m\u001b[0m \u001b[1m1s\u001b[0m 2ms/step - accuracy: 0.8935 - loss: 0.2357 - val_accuracy: 0.9339 - val_loss: 0.1628\n",
            "Epoch 77/500\n",
            "\u001b[1m409/409\u001b[0m \u001b[32m━━━━━━━━━━━━━━━━━━━━\u001b[0m\u001b[37m\u001b[0m \u001b[1m1s\u001b[0m 2ms/step - accuracy: 0.8979 - loss: 0.2271 - val_accuracy: 0.9342 - val_loss: 0.1623\n",
            "Epoch 78/500\n",
            "\u001b[1m409/409\u001b[0m \u001b[32m━━━━━━━━━━━━━━━━━━━━\u001b[0m\u001b[37m\u001b[0m \u001b[1m1s\u001b[0m 2ms/step - accuracy: 0.8996 - loss: 0.2261 - val_accuracy: 0.9340 - val_loss: 0.1618\n",
            "Epoch 79/500\n",
            "\u001b[1m409/409\u001b[0m \u001b[32m━━━━━━━━━━━━━━━━━━━━\u001b[0m\u001b[37m\u001b[0m \u001b[1m1s\u001b[0m 2ms/step - accuracy: 0.8985 - loss: 0.2255 - val_accuracy: 0.9342 - val_loss: 0.1612\n",
            "Epoch 80/500\n",
            "\u001b[1m409/409\u001b[0m \u001b[32m━━━━━━━━━━━━━━━━━━━━\u001b[0m\u001b[37m\u001b[0m \u001b[1m1s\u001b[0m 2ms/step - accuracy: 0.8983 - loss: 0.2264 - val_accuracy: 0.9343 - val_loss: 0.1608\n",
            "Epoch 81/500\n",
            "\u001b[1m409/409\u001b[0m \u001b[32m━━━━━━━━━━━━━━━━━━━━\u001b[0m\u001b[37m\u001b[0m \u001b[1m1s\u001b[0m 2ms/step - accuracy: 0.8994 - loss: 0.2258 - val_accuracy: 0.9345 - val_loss: 0.1603\n",
            "Epoch 82/500\n",
            "\u001b[1m409/409\u001b[0m \u001b[32m━━━━━━━━━━━━━━━━━━━━\u001b[0m\u001b[37m\u001b[0m \u001b[1m1s\u001b[0m 2ms/step - accuracy: 0.8973 - loss: 0.2312 - val_accuracy: 0.9347 - val_loss: 0.1599\n",
            "Epoch 83/500\n",
            "\u001b[1m409/409\u001b[0m \u001b[32m━━━━━━━━━━━━━━━━━━━━\u001b[0m\u001b[37m\u001b[0m \u001b[1m1s\u001b[0m 2ms/step - accuracy: 0.8958 - loss: 0.2321 - val_accuracy: 0.9349 - val_loss: 0.1594\n",
            "Epoch 84/500\n",
            "\u001b[1m409/409\u001b[0m \u001b[32m━━━━━━━━━━━━━━━━━━━━\u001b[0m\u001b[37m\u001b[0m \u001b[1m1s\u001b[0m 2ms/step - accuracy: 0.8989 - loss: 0.2295 - val_accuracy: 0.9352 - val_loss: 0.1591\n",
            "Epoch 85/500\n",
            "\u001b[1m409/409\u001b[0m \u001b[32m━━━━━━━━━━━━━━━━━━━━\u001b[0m\u001b[37m\u001b[0m \u001b[1m1s\u001b[0m 2ms/step - accuracy: 0.9028 - loss: 0.2242 - val_accuracy: 0.9355 - val_loss: 0.1587\n",
            "Epoch 86/500\n",
            "\u001b[1m409/409\u001b[0m \u001b[32m━━━━━━━━━━━━━━━━━━━━\u001b[0m\u001b[37m\u001b[0m \u001b[1m1s\u001b[0m 2ms/step - accuracy: 0.9007 - loss: 0.2250 - val_accuracy: 0.9358 - val_loss: 0.1583\n",
            "Epoch 87/500\n",
            "\u001b[1m409/409\u001b[0m \u001b[32m━━━━━━━━━━━━━━━━━━━━\u001b[0m\u001b[37m\u001b[0m \u001b[1m1s\u001b[0m 2ms/step - accuracy: 0.8991 - loss: 0.2245 - val_accuracy: 0.9356 - val_loss: 0.1579\n",
            "Epoch 88/500\n",
            "\u001b[1m409/409\u001b[0m \u001b[32m━━━━━━━━━━━━━━━━━━━━\u001b[0m\u001b[37m\u001b[0m \u001b[1m1s\u001b[0m 2ms/step - accuracy: 0.9002 - loss: 0.2233 - val_accuracy: 0.9357 - val_loss: 0.1575\n",
            "Epoch 89/500\n",
            "\u001b[1m409/409\u001b[0m \u001b[32m━━━━━━━━━━━━━━━━━━━━\u001b[0m\u001b[37m\u001b[0m \u001b[1m1s\u001b[0m 2ms/step - accuracy: 0.9015 - loss: 0.2214 - val_accuracy: 0.9355 - val_loss: 0.1572\n",
            "Epoch 90/500\n",
            "\u001b[1m409/409\u001b[0m \u001b[32m━━━━━━━━━━━━━━━━━━━━\u001b[0m\u001b[37m\u001b[0m \u001b[1m1s\u001b[0m 2ms/step - accuracy: 0.8986 - loss: 0.2271 - val_accuracy: 0.9357 - val_loss: 0.1568\n",
            "Epoch 91/500\n",
            "\u001b[1m409/409\u001b[0m \u001b[32m━━━━━━━━━━━━━━━━━━━━\u001b[0m\u001b[37m\u001b[0m \u001b[1m1s\u001b[0m 2ms/step - accuracy: 0.9030 - loss: 0.2220 - val_accuracy: 0.9355 - val_loss: 0.1565\n",
            "Epoch 92/500\n",
            "\u001b[1m409/409\u001b[0m \u001b[32m━━━━━━━━━━━━━━━━━━━━\u001b[0m\u001b[37m\u001b[0m \u001b[1m1s\u001b[0m 2ms/step - accuracy: 0.9027 - loss: 0.2221 - val_accuracy: 0.9360 - val_loss: 0.1562\n",
            "Epoch 93/500\n",
            "\u001b[1m409/409\u001b[0m \u001b[32m━━━━━━━━━━━━━━━━━━━━\u001b[0m\u001b[37m\u001b[0m \u001b[1m1s\u001b[0m 2ms/step - accuracy: 0.9008 - loss: 0.2168 - val_accuracy: 0.9361 - val_loss: 0.1558\n",
            "Epoch 94/500\n",
            "\u001b[1m409/409\u001b[0m \u001b[32m━━━━━━━━━━━━━━━━━━━━\u001b[0m\u001b[37m\u001b[0m \u001b[1m1s\u001b[0m 2ms/step - accuracy: 0.9023 - loss: 0.2184 - val_accuracy: 0.9367 - val_loss: 0.1555\n",
            "Epoch 95/500\n",
            "\u001b[1m409/409\u001b[0m \u001b[32m━━━━━━━━━━━━━━━━━━━━\u001b[0m\u001b[37m\u001b[0m \u001b[1m1s\u001b[0m 2ms/step - accuracy: 0.9038 - loss: 0.2172 - val_accuracy: 0.9368 - val_loss: 0.1550\n",
            "Epoch 96/500\n",
            "\u001b[1m409/409\u001b[0m \u001b[32m━━━━━━━━━━━━━━━━━━━━\u001b[0m\u001b[37m\u001b[0m \u001b[1m1s\u001b[0m 2ms/step - accuracy: 0.9023 - loss: 0.2184 - val_accuracy: 0.9372 - val_loss: 0.1547\n",
            "Epoch 97/500\n",
            "\u001b[1m409/409\u001b[0m \u001b[32m━━━━━━━━━━━━━━━━━━━━\u001b[0m\u001b[37m\u001b[0m \u001b[1m1s\u001b[0m 2ms/step - accuracy: 0.9021 - loss: 0.2166 - val_accuracy: 0.9372 - val_loss: 0.1545\n",
            "Epoch 98/500\n",
            "\u001b[1m409/409\u001b[0m \u001b[32m━━━━━━━━━━━━━━━━━━━━\u001b[0m\u001b[37m\u001b[0m \u001b[1m1s\u001b[0m 2ms/step - accuracy: 0.9032 - loss: 0.2193 - val_accuracy: 0.9372 - val_loss: 0.1541\n",
            "Epoch 99/500\n",
            "\u001b[1m409/409\u001b[0m \u001b[32m━━━━━━━━━━━━━━━━━━━━\u001b[0m\u001b[37m\u001b[0m \u001b[1m1s\u001b[0m 2ms/step - accuracy: 0.9010 - loss: 0.2197 - val_accuracy: 0.9374 - val_loss: 0.1538\n",
            "Epoch 100/500\n",
            "\u001b[1m409/409\u001b[0m \u001b[32m━━━━━━━━━━━━━━━━━━━━\u001b[0m\u001b[37m\u001b[0m \u001b[1m1s\u001b[0m 2ms/step - accuracy: 0.9025 - loss: 0.2150 - val_accuracy: 0.9376 - val_loss: 0.1535\n",
            "Epoch 101/500\n",
            "\u001b[1m409/409\u001b[0m \u001b[32m━━━━━━━━━━━━━━━━━━━━\u001b[0m\u001b[37m\u001b[0m \u001b[1m1s\u001b[0m 2ms/step - accuracy: 0.9037 - loss: 0.2162 - val_accuracy: 0.9377 - val_loss: 0.1533\n",
            "Epoch 102/500\n",
            "\u001b[1m409/409\u001b[0m \u001b[32m━━━━━━━━━━━━━━━━━━━━\u001b[0m\u001b[37m\u001b[0m \u001b[1m1s\u001b[0m 2ms/step - accuracy: 0.9048 - loss: 0.2170 - val_accuracy: 0.9382 - val_loss: 0.1530\n",
            "Epoch 103/500\n",
            "\u001b[1m409/409\u001b[0m \u001b[32m━━━━━━━━━━━━━━━━━━━━\u001b[0m\u001b[37m\u001b[0m \u001b[1m1s\u001b[0m 2ms/step - accuracy: 0.9016 - loss: 0.2161 - val_accuracy: 0.9380 - val_loss: 0.1527\n",
            "Epoch 104/500\n",
            "\u001b[1m409/409\u001b[0m \u001b[32m━━━━━━━━━━━━━━━━━━━━\u001b[0m\u001b[37m\u001b[0m \u001b[1m1s\u001b[0m 2ms/step - accuracy: 0.9040 - loss: 0.2150 - val_accuracy: 0.9381 - val_loss: 0.1525\n",
            "Epoch 105/500\n",
            "\u001b[1m409/409\u001b[0m \u001b[32m━━━━━━━━━━━━━━━━━━━━\u001b[0m\u001b[37m\u001b[0m \u001b[1m1s\u001b[0m 2ms/step - accuracy: 0.9053 - loss: 0.2185 - val_accuracy: 0.9381 - val_loss: 0.1523\n",
            "Epoch 106/500\n",
            "\u001b[1m409/409\u001b[0m \u001b[32m━━━━━━━━━━━━━━━━━━━━\u001b[0m\u001b[37m\u001b[0m \u001b[1m1s\u001b[0m 2ms/step - accuracy: 0.9055 - loss: 0.2144 - val_accuracy: 0.9384 - val_loss: 0.1521\n",
            "Epoch 107/500\n",
            "\u001b[1m409/409\u001b[0m \u001b[32m━━━━━━━━━━━━━━━━━━━━\u001b[0m\u001b[37m\u001b[0m \u001b[1m1s\u001b[0m 2ms/step - accuracy: 0.9045 - loss: 0.2133 - val_accuracy: 0.9385 - val_loss: 0.1519\n",
            "Epoch 108/500\n",
            "\u001b[1m409/409\u001b[0m \u001b[32m━━━━━━━━━━━━━━━━━━━━\u001b[0m\u001b[37m\u001b[0m \u001b[1m1s\u001b[0m 2ms/step - accuracy: 0.9064 - loss: 0.2137 - val_accuracy: 0.9385 - val_loss: 0.1517\n",
            "Epoch 109/500\n",
            "\u001b[1m409/409\u001b[0m \u001b[32m━━━━━━━━━━━━━━━━━━━━\u001b[0m\u001b[37m\u001b[0m \u001b[1m1s\u001b[0m 2ms/step - accuracy: 0.9037 - loss: 0.2132 - val_accuracy: 0.9383 - val_loss: 0.1513\n",
            "Epoch 110/500\n",
            "\u001b[1m409/409\u001b[0m \u001b[32m━━━━━━━━━━━━━━━━━━━━\u001b[0m\u001b[37m\u001b[0m \u001b[1m1s\u001b[0m 2ms/step - accuracy: 0.9050 - loss: 0.2155 - val_accuracy: 0.9385 - val_loss: 0.1511\n",
            "Epoch 111/500\n",
            "\u001b[1m409/409\u001b[0m \u001b[32m━━━━━━━━━━━━━━━━━━━━\u001b[0m\u001b[37m\u001b[0m \u001b[1m1s\u001b[0m 2ms/step - accuracy: 0.9043 - loss: 0.2147 - val_accuracy: 0.9387 - val_loss: 0.1511\n",
            "Epoch 112/500\n",
            "\u001b[1m409/409\u001b[0m \u001b[32m━━━━━━━━━━━━━━━━━━━━\u001b[0m\u001b[37m\u001b[0m \u001b[1m1s\u001b[0m 2ms/step - accuracy: 0.9054 - loss: 0.2129 - val_accuracy: 0.9390 - val_loss: 0.1508\n",
            "Epoch 113/500\n",
            "\u001b[1m409/409\u001b[0m \u001b[32m━━━━━━━━━━━━━━━━━━━━\u001b[0m\u001b[37m\u001b[0m \u001b[1m1s\u001b[0m 2ms/step - accuracy: 0.9027 - loss: 0.2155 - val_accuracy: 0.9394 - val_loss: 0.1505\n",
            "Epoch 114/500\n",
            "\u001b[1m409/409\u001b[0m \u001b[32m━━━━━━━━━━━━━━━━━━━━\u001b[0m\u001b[37m\u001b[0m \u001b[1m1s\u001b[0m 2ms/step - accuracy: 0.9026 - loss: 0.2170 - val_accuracy: 0.9395 - val_loss: 0.1503\n",
            "Epoch 115/500\n",
            "\u001b[1m409/409\u001b[0m \u001b[32m━━━━━━━━━━━━━━━━━━━━\u001b[0m\u001b[37m\u001b[0m \u001b[1m1s\u001b[0m 2ms/step - accuracy: 0.9009 - loss: 0.2132 - val_accuracy: 0.9397 - val_loss: 0.1500\n",
            "Epoch 116/500\n",
            "\u001b[1m409/409\u001b[0m \u001b[32m━━━━━━━━━━━━━━━━━━━━\u001b[0m\u001b[37m\u001b[0m \u001b[1m1s\u001b[0m 2ms/step - accuracy: 0.9054 - loss: 0.2139 - val_accuracy: 0.9397 - val_loss: 0.1499\n",
            "Epoch 117/500\n",
            "\u001b[1m409/409\u001b[0m \u001b[32m━━━━━━━━━━━━━━━━━━━━\u001b[0m\u001b[37m\u001b[0m \u001b[1m1s\u001b[0m 2ms/step - accuracy: 0.9059 - loss: 0.2087 - val_accuracy: 0.9400 - val_loss: 0.1497\n",
            "Epoch 118/500\n",
            "\u001b[1m409/409\u001b[0m \u001b[32m━━━━━━━━━━━━━━━━━━━━\u001b[0m\u001b[37m\u001b[0m \u001b[1m1s\u001b[0m 2ms/step - accuracy: 0.9070 - loss: 0.2118 - val_accuracy: 0.9404 - val_loss: 0.1495\n",
            "Epoch 119/500\n",
            "\u001b[1m409/409\u001b[0m \u001b[32m━━━━━━━━━━━━━━━━━━━━\u001b[0m\u001b[37m\u001b[0m \u001b[1m1s\u001b[0m 2ms/step - accuracy: 0.9049 - loss: 0.2127 - val_accuracy: 0.9402 - val_loss: 0.1493\n",
            "Epoch 120/500\n",
            "\u001b[1m409/409\u001b[0m \u001b[32m━━━━━━━━━━━━━━━━━━━━\u001b[0m\u001b[37m\u001b[0m \u001b[1m1s\u001b[0m 2ms/step - accuracy: 0.9065 - loss: 0.2111 - val_accuracy: 0.9405 - val_loss: 0.1491\n",
            "Epoch 121/500\n",
            "\u001b[1m409/409\u001b[0m \u001b[32m━━━━━━━━━━━━━━━━━━━━\u001b[0m\u001b[37m\u001b[0m \u001b[1m1s\u001b[0m 2ms/step - accuracy: 0.9069 - loss: 0.2098 - val_accuracy: 0.9404 - val_loss: 0.1489\n",
            "Epoch 122/500\n",
            "\u001b[1m409/409\u001b[0m \u001b[32m━━━━━━━━━━━━━━━━━━━━\u001b[0m\u001b[37m\u001b[0m \u001b[1m1s\u001b[0m 2ms/step - accuracy: 0.9069 - loss: 0.2059 - val_accuracy: 0.9405 - val_loss: 0.1487\n",
            "Epoch 123/500\n",
            "\u001b[1m409/409\u001b[0m \u001b[32m━━━━━━━━━━━━━━━━━━━━\u001b[0m\u001b[37m\u001b[0m \u001b[1m1s\u001b[0m 2ms/step - accuracy: 0.9037 - loss: 0.2134 - val_accuracy: 0.9404 - val_loss: 0.1485\n",
            "Epoch 124/500\n",
            "\u001b[1m409/409\u001b[0m \u001b[32m━━━━━━━━━━━━━━━━━━━━\u001b[0m\u001b[37m\u001b[0m \u001b[1m1s\u001b[0m 2ms/step - accuracy: 0.9044 - loss: 0.2104 - val_accuracy: 0.9402 - val_loss: 0.1484\n",
            "Epoch 125/500\n",
            "\u001b[1m409/409\u001b[0m \u001b[32m━━━━━━━━━━━━━━━━━━━━\u001b[0m\u001b[37m\u001b[0m \u001b[1m1s\u001b[0m 2ms/step - accuracy: 0.9058 - loss: 0.2092 - val_accuracy: 0.9401 - val_loss: 0.1482\n",
            "Epoch 126/500\n",
            "\u001b[1m409/409\u001b[0m \u001b[32m━━━━━━━━━━━━━━━━━━━━\u001b[0m\u001b[37m\u001b[0m \u001b[1m1s\u001b[0m 2ms/step - accuracy: 0.9068 - loss: 0.2103 - val_accuracy: 0.9400 - val_loss: 0.1481\n",
            "Epoch 127/500\n",
            "\u001b[1m409/409\u001b[0m \u001b[32m━━━━━━━━━━━━━━━━━━━━\u001b[0m\u001b[37m\u001b[0m \u001b[1m1s\u001b[0m 2ms/step - accuracy: 0.9061 - loss: 0.2127 - val_accuracy: 0.9402 - val_loss: 0.1480\n",
            "Epoch 128/500\n",
            "\u001b[1m409/409\u001b[0m \u001b[32m━━━━━━━━━━━━━━━━━━━━\u001b[0m\u001b[37m\u001b[0m \u001b[1m1s\u001b[0m 2ms/step - accuracy: 0.9081 - loss: 0.2043 - val_accuracy: 0.9401 - val_loss: 0.1479\n",
            "Epoch 129/500\n",
            "\u001b[1m409/409\u001b[0m \u001b[32m━━━━━━━━━━━━━━━━━━━━\u001b[0m\u001b[37m\u001b[0m \u001b[1m1s\u001b[0m 2ms/step - accuracy: 0.9085 - loss: 0.2077 - val_accuracy: 0.9403 - val_loss: 0.1477\n",
            "Epoch 130/500\n",
            "\u001b[1m409/409\u001b[0m \u001b[32m━━━━━━━━━━━━━━━━━━━━\u001b[0m\u001b[37m\u001b[0m \u001b[1m1s\u001b[0m 2ms/step - accuracy: 0.9077 - loss: 0.2070 - val_accuracy: 0.9402 - val_loss: 0.1475\n",
            "Epoch 131/500\n",
            "\u001b[1m409/409\u001b[0m \u001b[32m━━━━━━━━━━━━━━━━━━━━\u001b[0m\u001b[37m\u001b[0m \u001b[1m1s\u001b[0m 2ms/step - accuracy: 0.9040 - loss: 0.2080 - val_accuracy: 0.9401 - val_loss: 0.1473\n",
            "Epoch 132/500\n",
            "\u001b[1m409/409\u001b[0m \u001b[32m━━━━━━━━━━━━━━━━━━━━\u001b[0m\u001b[37m\u001b[0m \u001b[1m1s\u001b[0m 2ms/step - accuracy: 0.9069 - loss: 0.2111 - val_accuracy: 0.9399 - val_loss: 0.1472\n",
            "Epoch 133/500\n",
            "\u001b[1m409/409\u001b[0m \u001b[32m━━━━━━━━━━━━━━━━━━━━\u001b[0m\u001b[37m\u001b[0m \u001b[1m1s\u001b[0m 2ms/step - accuracy: 0.9065 - loss: 0.2092 - val_accuracy: 0.9399 - val_loss: 0.1471\n",
            "Epoch 134/500\n",
            "\u001b[1m409/409\u001b[0m \u001b[32m━━━━━━━━━━━━━━━━━━━━\u001b[0m\u001b[37m\u001b[0m \u001b[1m1s\u001b[0m 2ms/step - accuracy: 0.9054 - loss: 0.2094 - val_accuracy: 0.9398 - val_loss: 0.1469\n",
            "Epoch 135/500\n",
            "\u001b[1m409/409\u001b[0m \u001b[32m━━━━━━━━━━━━━━━━━━━━\u001b[0m\u001b[37m\u001b[0m \u001b[1m1s\u001b[0m 2ms/step - accuracy: 0.9083 - loss: 0.2089 - val_accuracy: 0.9401 - val_loss: 0.1467\n",
            "Epoch 136/500\n",
            "\u001b[1m409/409\u001b[0m \u001b[32m━━━━━━━━━━━━━━━━━━━━\u001b[0m\u001b[37m\u001b[0m \u001b[1m1s\u001b[0m 2ms/step - accuracy: 0.9083 - loss: 0.2086 - val_accuracy: 0.9399 - val_loss: 0.1465\n",
            "Epoch 137/500\n",
            "\u001b[1m409/409\u001b[0m \u001b[32m━━━━━━━━━━━━━━━━━━━━\u001b[0m\u001b[37m\u001b[0m \u001b[1m1s\u001b[0m 2ms/step - accuracy: 0.9052 - loss: 0.2082 - val_accuracy: 0.9404 - val_loss: 0.1464\n",
            "Epoch 138/500\n",
            "\u001b[1m409/409\u001b[0m \u001b[32m━━━━━━━━━━━━━━━━━━━━\u001b[0m\u001b[37m\u001b[0m \u001b[1m1s\u001b[0m 2ms/step - accuracy: 0.9093 - loss: 0.2046 - val_accuracy: 0.9405 - val_loss: 0.1462\n",
            "Epoch 139/500\n",
            "\u001b[1m409/409\u001b[0m \u001b[32m━━━━━━━━━━━━━━━━━━━━\u001b[0m\u001b[37m\u001b[0m \u001b[1m1s\u001b[0m 2ms/step - accuracy: 0.9091 - loss: 0.2036 - val_accuracy: 0.9407 - val_loss: 0.1460\n",
            "Epoch 140/500\n",
            "\u001b[1m409/409\u001b[0m \u001b[32m━━━━━━━━━━━━━━━━━━━━\u001b[0m\u001b[37m\u001b[0m \u001b[1m1s\u001b[0m 2ms/step - accuracy: 0.9080 - loss: 0.2076 - val_accuracy: 0.9404 - val_loss: 0.1459\n",
            "Epoch 141/500\n",
            "\u001b[1m409/409\u001b[0m \u001b[32m━━━━━━━━━━━━━━━━━━━━\u001b[0m\u001b[37m\u001b[0m \u001b[1m1s\u001b[0m 2ms/step - accuracy: 0.9081 - loss: 0.2052 - val_accuracy: 0.9405 - val_loss: 0.1457\n",
            "Epoch 142/500\n",
            "\u001b[1m409/409\u001b[0m \u001b[32m━━━━━━━━━━━━━━━━━━━━\u001b[0m\u001b[37m\u001b[0m \u001b[1m1s\u001b[0m 2ms/step - accuracy: 0.9085 - loss: 0.2013 - val_accuracy: 0.9404 - val_loss: 0.1455\n",
            "Epoch 143/500\n",
            "\u001b[1m409/409\u001b[0m \u001b[32m━━━━━━━━━━━━━━━━━━━━\u001b[0m\u001b[37m\u001b[0m \u001b[1m1s\u001b[0m 2ms/step - accuracy: 0.9074 - loss: 0.2072 - val_accuracy: 0.9407 - val_loss: 0.1454\n",
            "Epoch 144/500\n",
            "\u001b[1m409/409\u001b[0m \u001b[32m━━━━━━━━━━━━━━━━━━━━\u001b[0m\u001b[37m\u001b[0m \u001b[1m1s\u001b[0m 2ms/step - accuracy: 0.9053 - loss: 0.2133 - val_accuracy: 0.9407 - val_loss: 0.1452\n",
            "Epoch 145/500\n",
            "\u001b[1m409/409\u001b[0m \u001b[32m━━━━━━━━━━━━━━━━━━━━\u001b[0m\u001b[37m\u001b[0m \u001b[1m1s\u001b[0m 2ms/step - accuracy: 0.9053 - loss: 0.2069 - val_accuracy: 0.9406 - val_loss: 0.1450\n",
            "Epoch 146/500\n",
            "\u001b[1m409/409\u001b[0m \u001b[32m━━━━━━━━━━━━━━━━━━━━\u001b[0m\u001b[37m\u001b[0m \u001b[1m1s\u001b[0m 2ms/step - accuracy: 0.9101 - loss: 0.2036 - val_accuracy: 0.9407 - val_loss: 0.1449\n",
            "Epoch 147/500\n",
            "\u001b[1m409/409\u001b[0m \u001b[32m━━━━━━━━━━━━━━━━━━━━\u001b[0m\u001b[37m\u001b[0m \u001b[1m1s\u001b[0m 2ms/step - accuracy: 0.9060 - loss: 0.2097 - val_accuracy: 0.9406 - val_loss: 0.1448\n",
            "Epoch 148/500\n",
            "\u001b[1m409/409\u001b[0m \u001b[32m━━━━━━━━━━━━━━━━━━━━\u001b[0m\u001b[37m\u001b[0m \u001b[1m1s\u001b[0m 2ms/step - accuracy: 0.9080 - loss: 0.2046 - val_accuracy: 0.9407 - val_loss: 0.1446\n",
            "Epoch 149/500\n",
            "\u001b[1m409/409\u001b[0m \u001b[32m━━━━━━━━━━━━━━━━━━━━\u001b[0m\u001b[37m\u001b[0m \u001b[1m1s\u001b[0m 2ms/step - accuracy: 0.9087 - loss: 0.1996 - val_accuracy: 0.9410 - val_loss: 0.1445\n",
            "Epoch 150/500\n",
            "\u001b[1m409/409\u001b[0m \u001b[32m━━━━━━━━━━━━━━━━━━━━\u001b[0m\u001b[37m\u001b[0m \u001b[1m1s\u001b[0m 2ms/step - accuracy: 0.9059 - loss: 0.2017 - val_accuracy: 0.9411 - val_loss: 0.1444\n",
            "Epoch 151/500\n",
            "\u001b[1m409/409\u001b[0m \u001b[32m━━━━━━━━━━━━━━━━━━━━\u001b[0m\u001b[37m\u001b[0m \u001b[1m1s\u001b[0m 2ms/step - accuracy: 0.9074 - loss: 0.2073 - val_accuracy: 0.9411 - val_loss: 0.1442\n",
            "Epoch 152/500\n",
            "\u001b[1m409/409\u001b[0m \u001b[32m━━━━━━━━━━━━━━━━━━━━\u001b[0m\u001b[37m\u001b[0m \u001b[1m1s\u001b[0m 2ms/step - accuracy: 0.9099 - loss: 0.2005 - val_accuracy: 0.9411 - val_loss: 0.1442\n",
            "Epoch 153/500\n",
            "\u001b[1m409/409\u001b[0m \u001b[32m━━━━━━━━━━━━━━━━━━━━\u001b[0m\u001b[37m\u001b[0m \u001b[1m1s\u001b[0m 2ms/step - accuracy: 0.9079 - loss: 0.2017 - val_accuracy: 0.9410 - val_loss: 0.1441\n",
            "Epoch 154/500\n",
            "\u001b[1m409/409\u001b[0m \u001b[32m━━━━━━━━━━━━━━━━━━━━\u001b[0m\u001b[37m\u001b[0m \u001b[1m1s\u001b[0m 2ms/step - accuracy: 0.9085 - loss: 0.2028 - val_accuracy: 0.9414 - val_loss: 0.1438\n",
            "Epoch 155/500\n",
            "\u001b[1m409/409\u001b[0m \u001b[32m━━━━━━━━━━━━━━━━━━━━\u001b[0m\u001b[37m\u001b[0m \u001b[1m1s\u001b[0m 2ms/step - accuracy: 0.9082 - loss: 0.2036 - val_accuracy: 0.9412 - val_loss: 0.1437\n",
            "Epoch 156/500\n",
            "\u001b[1m409/409\u001b[0m \u001b[32m━━━━━━━━━━━━━━━━━━━━\u001b[0m\u001b[37m\u001b[0m \u001b[1m1s\u001b[0m 2ms/step - accuracy: 0.9088 - loss: 0.2052 - val_accuracy: 0.9411 - val_loss: 0.1436\n",
            "Epoch 157/500\n",
            "\u001b[1m409/409\u001b[0m \u001b[32m━━━━━━━━━━━━━━━━━━━━\u001b[0m\u001b[37m\u001b[0m \u001b[1m1s\u001b[0m 2ms/step - accuracy: 0.9077 - loss: 0.2023 - val_accuracy: 0.9409 - val_loss: 0.1434\n",
            "Epoch 158/500\n",
            "\u001b[1m409/409\u001b[0m \u001b[32m━━━━━━━━━━━━━━━━━━━━\u001b[0m\u001b[37m\u001b[0m \u001b[1m1s\u001b[0m 2ms/step - accuracy: 0.9066 - loss: 0.2018 - val_accuracy: 0.9409 - val_loss: 0.1432\n",
            "Epoch 159/500\n",
            "\u001b[1m409/409\u001b[0m \u001b[32m━━━━━━━━━━━━━━━━━━━━\u001b[0m\u001b[37m\u001b[0m \u001b[1m1s\u001b[0m 2ms/step - accuracy: 0.9106 - loss: 0.1979 - val_accuracy: 0.9411 - val_loss: 0.1430\n",
            "Epoch 160/500\n",
            "\u001b[1m409/409\u001b[0m \u001b[32m━━━━━━━━━━━━━━━━━━━━\u001b[0m\u001b[37m\u001b[0m \u001b[1m1s\u001b[0m 2ms/step - accuracy: 0.9100 - loss: 0.2020 - val_accuracy: 0.9413 - val_loss: 0.1430\n",
            "Epoch 161/500\n",
            "\u001b[1m409/409\u001b[0m \u001b[32m━━━━━━━━━━━━━━━━━━━━\u001b[0m\u001b[37m\u001b[0m \u001b[1m1s\u001b[0m 2ms/step - accuracy: 0.9080 - loss: 0.1992 - val_accuracy: 0.9412 - val_loss: 0.1428\n",
            "Epoch 162/500\n",
            "\u001b[1m409/409\u001b[0m \u001b[32m━━━━━━━━━━━━━━━━━━━━\u001b[0m\u001b[37m\u001b[0m \u001b[1m1s\u001b[0m 2ms/step - accuracy: 0.9085 - loss: 0.2013 - val_accuracy: 0.9410 - val_loss: 0.1427\n",
            "Epoch 163/500\n",
            "\u001b[1m409/409\u001b[0m \u001b[32m━━━━━━━━━━━━━━━━━━━━\u001b[0m\u001b[37m\u001b[0m \u001b[1m1s\u001b[0m 2ms/step - accuracy: 0.9067 - loss: 0.2014 - val_accuracy: 0.9411 - val_loss: 0.1425\n",
            "Epoch 164/500\n",
            "\u001b[1m409/409\u001b[0m \u001b[32m━━━━━━━━━━━━━━━━━━━━\u001b[0m\u001b[37m\u001b[0m \u001b[1m1s\u001b[0m 2ms/step - accuracy: 0.9105 - loss: 0.1939 - val_accuracy: 0.9411 - val_loss: 0.1425\n",
            "Epoch 165/500\n",
            "\u001b[1m409/409\u001b[0m \u001b[32m━━━━━━━━━━━━━━━━━━━━\u001b[0m\u001b[37m\u001b[0m \u001b[1m1s\u001b[0m 2ms/step - accuracy: 0.9125 - loss: 0.1963 - val_accuracy: 0.9411 - val_loss: 0.1423\n",
            "Epoch 166/500\n",
            "\u001b[1m409/409\u001b[0m \u001b[32m━━━━━━━━━━━━━━━━━━━━\u001b[0m\u001b[37m\u001b[0m \u001b[1m1s\u001b[0m 2ms/step - accuracy: 0.9076 - loss: 0.2045 - val_accuracy: 0.9411 - val_loss: 0.1422\n",
            "Epoch 167/500\n",
            "\u001b[1m409/409\u001b[0m \u001b[32m━━━━━━━━━━━━━━━━━━━━\u001b[0m\u001b[37m\u001b[0m \u001b[1m1s\u001b[0m 2ms/step - accuracy: 0.9119 - loss: 0.1992 - val_accuracy: 0.9412 - val_loss: 0.1420\n",
            "Epoch 168/500\n",
            "\u001b[1m409/409\u001b[0m \u001b[32m━━━━━━━━━━━━━━━━━━━━\u001b[0m\u001b[37m\u001b[0m \u001b[1m1s\u001b[0m 2ms/step - accuracy: 0.9103 - loss: 0.1983 - val_accuracy: 0.9410 - val_loss: 0.1419\n",
            "Epoch 169/500\n",
            "\u001b[1m409/409\u001b[0m \u001b[32m━━━━━━━━━━━━━━━━━━━━\u001b[0m\u001b[37m\u001b[0m \u001b[1m1s\u001b[0m 2ms/step - accuracy: 0.9126 - loss: 0.1981 - val_accuracy: 0.9409 - val_loss: 0.1418\n",
            "Epoch 170/500\n",
            "\u001b[1m409/409\u001b[0m \u001b[32m━━━━━━━━━━━━━━━━━━━━\u001b[0m\u001b[37m\u001b[0m \u001b[1m1s\u001b[0m 2ms/step - accuracy: 0.9093 - loss: 0.2003 - val_accuracy: 0.9409 - val_loss: 0.1415\n",
            "Epoch 171/500\n",
            "\u001b[1m409/409\u001b[0m \u001b[32m━━━━━━━━━━━━━━━━━━━━\u001b[0m\u001b[37m\u001b[0m \u001b[1m1s\u001b[0m 2ms/step - accuracy: 0.9104 - loss: 0.2016 - val_accuracy: 0.9414 - val_loss: 0.1413\n",
            "Epoch 172/500\n",
            "\u001b[1m409/409\u001b[0m \u001b[32m━━━━━━━━━━━━━━━━━━━━\u001b[0m\u001b[37m\u001b[0m \u001b[1m1s\u001b[0m 2ms/step - accuracy: 0.9105 - loss: 0.1974 - val_accuracy: 0.9414 - val_loss: 0.1413\n",
            "Epoch 173/500\n",
            "\u001b[1m409/409\u001b[0m \u001b[32m━━━━━━━━━━━━━━━━━━━━\u001b[0m\u001b[37m\u001b[0m \u001b[1m1s\u001b[0m 2ms/step - accuracy: 0.9102 - loss: 0.2007 - val_accuracy: 0.9414 - val_loss: 0.1413\n",
            "Epoch 174/500\n",
            "\u001b[1m409/409\u001b[0m \u001b[32m━━━━━━━━━━━━━━━━━━━━\u001b[0m\u001b[37m\u001b[0m \u001b[1m1s\u001b[0m 2ms/step - accuracy: 0.9100 - loss: 0.1949 - val_accuracy: 0.9417 - val_loss: 0.1412\n",
            "Epoch 175/500\n",
            "\u001b[1m409/409\u001b[0m \u001b[32m━━━━━━━━━━━━━━━━━━━━\u001b[0m\u001b[37m\u001b[0m \u001b[1m1s\u001b[0m 2ms/step - accuracy: 0.9122 - loss: 0.1936 - val_accuracy: 0.9415 - val_loss: 0.1410\n",
            "Epoch 176/500\n",
            "\u001b[1m409/409\u001b[0m \u001b[32m━━━━━━━━━━━━━━━━━━━━\u001b[0m\u001b[37m\u001b[0m \u001b[1m1s\u001b[0m 2ms/step - accuracy: 0.9121 - loss: 0.1982 - val_accuracy: 0.9413 - val_loss: 0.1409\n",
            "Epoch 177/500\n",
            "\u001b[1m409/409\u001b[0m \u001b[32m━━━━━━━━━━━━━━━━━━━━\u001b[0m\u001b[37m\u001b[0m \u001b[1m1s\u001b[0m 2ms/step - accuracy: 0.9099 - loss: 0.1967 - val_accuracy: 0.9413 - val_loss: 0.1408\n",
            "Epoch 178/500\n",
            "\u001b[1m409/409\u001b[0m \u001b[32m━━━━━━━━━━━━━━━━━━━━\u001b[0m\u001b[37m\u001b[0m \u001b[1m1s\u001b[0m 2ms/step - accuracy: 0.9075 - loss: 0.2033 - val_accuracy: 0.9413 - val_loss: 0.1407\n",
            "Epoch 179/500\n",
            "\u001b[1m409/409\u001b[0m \u001b[32m━━━━━━━━━━━━━━━━━━━━\u001b[0m\u001b[37m\u001b[0m \u001b[1m1s\u001b[0m 2ms/step - accuracy: 0.9113 - loss: 0.1986 - val_accuracy: 0.9416 - val_loss: 0.1406\n",
            "Epoch 180/500\n",
            "\u001b[1m409/409\u001b[0m \u001b[32m━━━━━━━━━━━━━━━━━━━━\u001b[0m\u001b[37m\u001b[0m \u001b[1m1s\u001b[0m 2ms/step - accuracy: 0.9095 - loss: 0.1962 - val_accuracy: 0.9416 - val_loss: 0.1404\n",
            "Epoch 181/500\n",
            "\u001b[1m409/409\u001b[0m \u001b[32m━━━━━━━━━━━━━━━━━━━━\u001b[0m\u001b[37m\u001b[0m \u001b[1m1s\u001b[0m 2ms/step - accuracy: 0.9096 - loss: 0.1973 - val_accuracy: 0.9417 - val_loss: 0.1403\n",
            "Epoch 182/500\n",
            "\u001b[1m409/409\u001b[0m \u001b[32m━━━━━━━━━━━━━━━━━━━━\u001b[0m\u001b[37m\u001b[0m \u001b[1m1s\u001b[0m 2ms/step - accuracy: 0.9118 - loss: 0.1954 - val_accuracy: 0.9417 - val_loss: 0.1403\n",
            "Epoch 183/500\n",
            "\u001b[1m409/409\u001b[0m \u001b[32m━━━━━━━━━━━━━━━━━━━━\u001b[0m\u001b[37m\u001b[0m \u001b[1m1s\u001b[0m 2ms/step - accuracy: 0.9100 - loss: 0.2002 - val_accuracy: 0.9419 - val_loss: 0.1401\n",
            "Epoch 184/500\n",
            "\u001b[1m409/409\u001b[0m \u001b[32m━━━━━━━━━━━━━━━━━━━━\u001b[0m\u001b[37m\u001b[0m \u001b[1m1s\u001b[0m 2ms/step - accuracy: 0.9119 - loss: 0.1965 - val_accuracy: 0.9417 - val_loss: 0.1399\n",
            "Epoch 185/500\n",
            "\u001b[1m409/409\u001b[0m \u001b[32m━━━━━━━━━━━━━━━━━━━━\u001b[0m\u001b[37m\u001b[0m \u001b[1m1s\u001b[0m 2ms/step - accuracy: 0.9088 - loss: 0.1977 - val_accuracy: 0.9420 - val_loss: 0.1398\n",
            "Epoch 186/500\n",
            "\u001b[1m409/409\u001b[0m \u001b[32m━━━━━━━━━━━━━━━━━━━━\u001b[0m\u001b[37m\u001b[0m \u001b[1m1s\u001b[0m 2ms/step - accuracy: 0.9102 - loss: 0.1958 - val_accuracy: 0.9418 - val_loss: 0.1397\n",
            "Epoch 187/500\n",
            "\u001b[1m409/409\u001b[0m \u001b[32m━━━━━━━━━━━━━━━━━━━━\u001b[0m\u001b[37m\u001b[0m \u001b[1m1s\u001b[0m 2ms/step - accuracy: 0.9085 - loss: 0.1978 - val_accuracy: 0.9418 - val_loss: 0.1396\n",
            "Epoch 188/500\n",
            "\u001b[1m409/409\u001b[0m \u001b[32m━━━━━━━━━━━━━━━━━━━━\u001b[0m\u001b[37m\u001b[0m \u001b[1m1s\u001b[0m 2ms/step - accuracy: 0.9123 - loss: 0.1954 - val_accuracy: 0.9420 - val_loss: 0.1396\n",
            "Epoch 189/500\n",
            "\u001b[1m409/409\u001b[0m \u001b[32m━━━━━━━━━━━━━━━━━━━━\u001b[0m\u001b[37m\u001b[0m \u001b[1m1s\u001b[0m 2ms/step - accuracy: 0.9113 - loss: 0.1923 - val_accuracy: 0.9417 - val_loss: 0.1395\n",
            "Epoch 190/500\n",
            "\u001b[1m409/409\u001b[0m \u001b[32m━━━━━━━━━━━━━━━━━━━━\u001b[0m\u001b[37m\u001b[0m \u001b[1m1s\u001b[0m 2ms/step - accuracy: 0.9115 - loss: 0.1961 - val_accuracy: 0.9416 - val_loss: 0.1393\n",
            "Epoch 191/500\n",
            "\u001b[1m409/409\u001b[0m \u001b[32m━━━━━━━━━━━━━━━━━━━━\u001b[0m\u001b[37m\u001b[0m \u001b[1m1s\u001b[0m 2ms/step - accuracy: 0.9080 - loss: 0.1938 - val_accuracy: 0.9417 - val_loss: 0.1392\n",
            "Epoch 192/500\n",
            "\u001b[1m409/409\u001b[0m \u001b[32m━━━━━━━━━━━━━━━━━━━━\u001b[0m\u001b[37m\u001b[0m \u001b[1m1s\u001b[0m 2ms/step - accuracy: 0.9114 - loss: 0.1963 - val_accuracy: 0.9415 - val_loss: 0.1391\n",
            "Epoch 193/500\n",
            "\u001b[1m409/409\u001b[0m \u001b[32m━━━━━━━━━━━━━━━━━━━━\u001b[0m\u001b[37m\u001b[0m \u001b[1m1s\u001b[0m 2ms/step - accuracy: 0.9115 - loss: 0.1983 - val_accuracy: 0.9413 - val_loss: 0.1390\n",
            "Epoch 194/500\n",
            "\u001b[1m409/409\u001b[0m \u001b[32m━━━━━━━━━━━━━━━━━━━━\u001b[0m\u001b[37m\u001b[0m \u001b[1m1s\u001b[0m 2ms/step - accuracy: 0.9112 - loss: 0.1960 - val_accuracy: 0.9416 - val_loss: 0.1388\n",
            "Epoch 195/500\n",
            "\u001b[1m409/409\u001b[0m \u001b[32m━━━━━━━━━━━━━━━━━━━━\u001b[0m\u001b[37m\u001b[0m \u001b[1m1s\u001b[0m 2ms/step - accuracy: 0.9102 - loss: 0.1916 - val_accuracy: 0.9418 - val_loss: 0.1386\n",
            "Epoch 196/500\n",
            "\u001b[1m409/409\u001b[0m \u001b[32m━━━━━━━━━━━━━━━━━━━━\u001b[0m\u001b[37m\u001b[0m \u001b[1m1s\u001b[0m 2ms/step - accuracy: 0.9128 - loss: 0.1929 - val_accuracy: 0.9418 - val_loss: 0.1385\n",
            "Epoch 197/500\n",
            "\u001b[1m409/409\u001b[0m \u001b[32m━━━━━━━━━━━━━━━━━━━━\u001b[0m\u001b[37m\u001b[0m \u001b[1m1s\u001b[0m 2ms/step - accuracy: 0.9098 - loss: 0.1966 - val_accuracy: 0.9420 - val_loss: 0.1384\n",
            "Epoch 198/500\n",
            "\u001b[1m409/409\u001b[0m \u001b[32m━━━━━━━━━━━━━━━━━━━━\u001b[0m\u001b[37m\u001b[0m \u001b[1m1s\u001b[0m 2ms/step - accuracy: 0.9111 - loss: 0.1952 - val_accuracy: 0.9418 - val_loss: 0.1382\n",
            "Epoch 199/500\n",
            "\u001b[1m409/409\u001b[0m \u001b[32m━━━━━━━━━━━━━━━━━━━━\u001b[0m\u001b[37m\u001b[0m \u001b[1m1s\u001b[0m 2ms/step - accuracy: 0.9149 - loss: 0.1958 - val_accuracy: 0.9417 - val_loss: 0.1382\n",
            "Epoch 200/500\n",
            "\u001b[1m409/409\u001b[0m \u001b[32m━━━━━━━━━━━━━━━━━━━━\u001b[0m\u001b[37m\u001b[0m \u001b[1m1s\u001b[0m 2ms/step - accuracy: 0.9113 - loss: 0.1946 - val_accuracy: 0.9417 - val_loss: 0.1381\n",
            "Epoch 201/500\n",
            "\u001b[1m409/409\u001b[0m \u001b[32m━━━━━━━━━━━━━━━━━━━━\u001b[0m\u001b[37m\u001b[0m \u001b[1m1s\u001b[0m 2ms/step - accuracy: 0.9116 - loss: 0.1923 - val_accuracy: 0.9418 - val_loss: 0.1380\n",
            "Epoch 202/500\n",
            "\u001b[1m409/409\u001b[0m \u001b[32m━━━━━━━━━━━━━━━━━━━━\u001b[0m\u001b[37m\u001b[0m \u001b[1m1s\u001b[0m 2ms/step - accuracy: 0.9131 - loss: 0.1946 - val_accuracy: 0.9420 - val_loss: 0.1379\n",
            "Epoch 203/500\n",
            "\u001b[1m409/409\u001b[0m \u001b[32m━━━━━━━━━━━━━━━━━━━━\u001b[0m\u001b[37m\u001b[0m \u001b[1m1s\u001b[0m 2ms/step - accuracy: 0.9098 - loss: 0.1964 - val_accuracy: 0.9422 - val_loss: 0.1379\n",
            "Epoch 204/500\n",
            "\u001b[1m409/409\u001b[0m \u001b[32m━━━━━━━━━━━━━━━━━━━━\u001b[0m\u001b[37m\u001b[0m \u001b[1m1s\u001b[0m 2ms/step - accuracy: 0.9126 - loss: 0.1885 - val_accuracy: 0.9421 - val_loss: 0.1376\n",
            "Epoch 205/500\n",
            "\u001b[1m409/409\u001b[0m \u001b[32m━━━━━━━━━━━━━━━━━━━━\u001b[0m\u001b[37m\u001b[0m \u001b[1m1s\u001b[0m 2ms/step - accuracy: 0.9121 - loss: 0.1937 - val_accuracy: 0.9423 - val_loss: 0.1374\n",
            "Epoch 206/500\n",
            "\u001b[1m409/409\u001b[0m \u001b[32m━━━━━━━━━━━━━━━━━━━━\u001b[0m\u001b[37m\u001b[0m \u001b[1m1s\u001b[0m 2ms/step - accuracy: 0.9118 - loss: 0.1947 - val_accuracy: 0.9426 - val_loss: 0.1374\n",
            "Epoch 207/500\n",
            "\u001b[1m409/409\u001b[0m \u001b[32m━━━━━━━━━━━━━━━━━━━━\u001b[0m\u001b[37m\u001b[0m \u001b[1m1s\u001b[0m 2ms/step - accuracy: 0.9111 - loss: 0.1958 - val_accuracy: 0.9422 - val_loss: 0.1374\n",
            "Epoch 208/500\n",
            "\u001b[1m409/409\u001b[0m \u001b[32m━━━━━━━━━━━━━━━━━━━━\u001b[0m\u001b[37m\u001b[0m \u001b[1m1s\u001b[0m 2ms/step - accuracy: 0.9134 - loss: 0.1935 - val_accuracy: 0.9423 - val_loss: 0.1372\n",
            "Epoch 209/500\n",
            "\u001b[1m409/409\u001b[0m \u001b[32m━━━━━━━━━━━━━━━━━━━━\u001b[0m\u001b[37m\u001b[0m \u001b[1m1s\u001b[0m 2ms/step - accuracy: 0.9120 - loss: 0.1921 - val_accuracy: 0.9426 - val_loss: 0.1371\n",
            "Epoch 210/500\n",
            "\u001b[1m409/409\u001b[0m \u001b[32m━━━━━━━━━━━━━━━━━━━━\u001b[0m\u001b[37m\u001b[0m \u001b[1m1s\u001b[0m 2ms/step - accuracy: 0.9131 - loss: 0.1902 - val_accuracy: 0.9427 - val_loss: 0.1371\n",
            "Epoch 211/500\n",
            "\u001b[1m409/409\u001b[0m \u001b[32m━━━━━━━━━━━━━━━━━━━━\u001b[0m\u001b[37m\u001b[0m \u001b[1m1s\u001b[0m 2ms/step - accuracy: 0.9135 - loss: 0.1922 - val_accuracy: 0.9427 - val_loss: 0.1368\n",
            "Epoch 212/500\n",
            "\u001b[1m409/409\u001b[0m \u001b[32m━━━━━━━━━━━━━━━━━━━━\u001b[0m\u001b[37m\u001b[0m \u001b[1m1s\u001b[0m 2ms/step - accuracy: 0.9108 - loss: 0.1932 - val_accuracy: 0.9427 - val_loss: 0.1368\n",
            "Epoch 213/500\n",
            "\u001b[1m409/409\u001b[0m \u001b[32m━━━━━━━━━━━━━━━━━━━━\u001b[0m\u001b[37m\u001b[0m \u001b[1m1s\u001b[0m 2ms/step - accuracy: 0.9137 - loss: 0.1933 - val_accuracy: 0.9429 - val_loss: 0.1368\n",
            "Epoch 214/500\n",
            "\u001b[1m409/409\u001b[0m \u001b[32m━━━━━━━━━━━━━━━━━━━━\u001b[0m\u001b[37m\u001b[0m \u001b[1m1s\u001b[0m 2ms/step - accuracy: 0.9107 - loss: 0.1943 - val_accuracy: 0.9430 - val_loss: 0.1366\n",
            "Epoch 215/500\n",
            "\u001b[1m409/409\u001b[0m \u001b[32m━━━━━━━━━━━━━━━━━━━━\u001b[0m\u001b[37m\u001b[0m \u001b[1m1s\u001b[0m 2ms/step - accuracy: 0.9149 - loss: 0.1917 - val_accuracy: 0.9430 - val_loss: 0.1365\n",
            "Epoch 216/500\n",
            "\u001b[1m409/409\u001b[0m \u001b[32m━━━━━━━━━━━━━━━━━━━━\u001b[0m\u001b[37m\u001b[0m \u001b[1m1s\u001b[0m 2ms/step - accuracy: 0.9116 - loss: 0.1915 - val_accuracy: 0.9431 - val_loss: 0.1365\n",
            "Epoch 217/500\n",
            "\u001b[1m409/409\u001b[0m \u001b[32m━━━━━━━━━━━━━━━━━━━━\u001b[0m\u001b[37m\u001b[0m \u001b[1m1s\u001b[0m 2ms/step - accuracy: 0.9134 - loss: 0.1897 - val_accuracy: 0.9433 - val_loss: 0.1363\n",
            "Epoch 218/500\n",
            "\u001b[1m409/409\u001b[0m \u001b[32m━━━━━━━━━━━━━━━━━━━━\u001b[0m\u001b[37m\u001b[0m \u001b[1m1s\u001b[0m 2ms/step - accuracy: 0.9119 - loss: 0.1947 - val_accuracy: 0.9432 - val_loss: 0.1361\n",
            "Epoch 219/500\n",
            "\u001b[1m409/409\u001b[0m \u001b[32m━━━━━━━━━━━━━━━━━━━━\u001b[0m\u001b[37m\u001b[0m \u001b[1m1s\u001b[0m 2ms/step - accuracy: 0.9125 - loss: 0.1912 - val_accuracy: 0.9427 - val_loss: 0.1362\n",
            "Epoch 220/500\n",
            "\u001b[1m409/409\u001b[0m \u001b[32m━━━━━━━━━━━━━━━━━━━━\u001b[0m\u001b[37m\u001b[0m \u001b[1m1s\u001b[0m 2ms/step - accuracy: 0.9107 - loss: 0.1896 - val_accuracy: 0.9429 - val_loss: 0.1361\n",
            "Epoch 221/500\n",
            "\u001b[1m409/409\u001b[0m \u001b[32m━━━━━━━━━━━━━━━━━━━━\u001b[0m\u001b[37m\u001b[0m \u001b[1m1s\u001b[0m 2ms/step - accuracy: 0.9094 - loss: 0.1912 - val_accuracy: 0.9427 - val_loss: 0.1359\n",
            "Epoch 222/500\n",
            "\u001b[1m409/409\u001b[0m \u001b[32m━━━━━━━━━━━━━━━━━━━━\u001b[0m\u001b[37m\u001b[0m \u001b[1m1s\u001b[0m 2ms/step - accuracy: 0.9143 - loss: 0.1899 - val_accuracy: 0.9430 - val_loss: 0.1359\n",
            "Epoch 223/500\n",
            "\u001b[1m409/409\u001b[0m \u001b[32m━━━━━━━━━━━━━━━━━━━━\u001b[0m\u001b[37m\u001b[0m \u001b[1m1s\u001b[0m 2ms/step - accuracy: 0.9142 - loss: 0.1903 - val_accuracy: 0.9429 - val_loss: 0.1357\n",
            "Epoch 224/500\n",
            "\u001b[1m409/409\u001b[0m \u001b[32m━━━━━━━━━━━━━━━━━━━━\u001b[0m\u001b[37m\u001b[0m \u001b[1m1s\u001b[0m 2ms/step - accuracy: 0.9113 - loss: 0.1952 - val_accuracy: 0.9432 - val_loss: 0.1357\n",
            "Epoch 225/500\n",
            "\u001b[1m409/409\u001b[0m \u001b[32m━━━━━━━━━━━━━━━━━━━━\u001b[0m\u001b[37m\u001b[0m \u001b[1m1s\u001b[0m 2ms/step - accuracy: 0.9129 - loss: 0.1898 - val_accuracy: 0.9431 - val_loss: 0.1356\n",
            "Epoch 226/500\n",
            "\u001b[1m409/409\u001b[0m \u001b[32m━━━━━━━━━━━━━━━━━━━━\u001b[0m\u001b[37m\u001b[0m \u001b[1m1s\u001b[0m 2ms/step - accuracy: 0.9146 - loss: 0.1888 - val_accuracy: 0.9427 - val_loss: 0.1355\n",
            "Epoch 227/500\n",
            "\u001b[1m409/409\u001b[0m \u001b[32m━━━━━━━━━━━━━━━━━━━━\u001b[0m\u001b[37m\u001b[0m \u001b[1m1s\u001b[0m 2ms/step - accuracy: 0.9119 - loss: 0.1939 - val_accuracy: 0.9428 - val_loss: 0.1353\n",
            "Epoch 228/500\n",
            "\u001b[1m409/409\u001b[0m \u001b[32m━━━━━━━━━━━━━━━━━━━━\u001b[0m\u001b[37m\u001b[0m \u001b[1m1s\u001b[0m 2ms/step - accuracy: 0.9119 - loss: 0.1881 - val_accuracy: 0.9427 - val_loss: 0.1353\n",
            "Epoch 229/500\n",
            "\u001b[1m409/409\u001b[0m \u001b[32m━━━━━━━━━━━━━━━━━━━━\u001b[0m\u001b[37m\u001b[0m \u001b[1m1s\u001b[0m 2ms/step - accuracy: 0.9113 - loss: 0.1892 - val_accuracy: 0.9430 - val_loss: 0.1352\n",
            "Epoch 230/500\n",
            "\u001b[1m409/409\u001b[0m \u001b[32m━━━━━━━━━━━━━━━━━━━━\u001b[0m\u001b[37m\u001b[0m \u001b[1m1s\u001b[0m 2ms/step - accuracy: 0.9111 - loss: 0.1925 - val_accuracy: 0.9432 - val_loss: 0.1351\n",
            "Epoch 231/500\n",
            "\u001b[1m409/409\u001b[0m \u001b[32m━━━━━━━━━━━━━━━━━━━━\u001b[0m\u001b[37m\u001b[0m \u001b[1m1s\u001b[0m 2ms/step - accuracy: 0.9140 - loss: 0.1869 - val_accuracy: 0.9429 - val_loss: 0.1351\n",
            "Epoch 232/500\n",
            "\u001b[1m409/409\u001b[0m \u001b[32m━━━━━━━━━━━━━━━━━━━━\u001b[0m\u001b[37m\u001b[0m \u001b[1m1s\u001b[0m 2ms/step - accuracy: 0.9127 - loss: 0.1886 - val_accuracy: 0.9430 - val_loss: 0.1349\n",
            "Epoch 233/500\n",
            "\u001b[1m409/409\u001b[0m \u001b[32m━━━━━━━━━━━━━━━━━━━━\u001b[0m\u001b[37m\u001b[0m \u001b[1m1s\u001b[0m 2ms/step - accuracy: 0.9173 - loss: 0.1849 - val_accuracy: 0.9428 - val_loss: 0.1349\n",
            "Epoch 234/500\n",
            "\u001b[1m409/409\u001b[0m \u001b[32m━━━━━━━━━━━━━━━━━━━━\u001b[0m\u001b[37m\u001b[0m \u001b[1m1s\u001b[0m 2ms/step - accuracy: 0.9137 - loss: 0.1882 - val_accuracy: 0.9431 - val_loss: 0.1348\n",
            "Epoch 235/500\n",
            "\u001b[1m409/409\u001b[0m \u001b[32m━━━━━━━━━━━━━━━━━━━━\u001b[0m\u001b[37m\u001b[0m \u001b[1m1s\u001b[0m 2ms/step - accuracy: 0.9120 - loss: 0.1899 - val_accuracy: 0.9431 - val_loss: 0.1347\n",
            "Epoch 236/500\n",
            "\u001b[1m409/409\u001b[0m \u001b[32m━━━━━━━━━━━━━━━━━━━━\u001b[0m\u001b[37m\u001b[0m \u001b[1m1s\u001b[0m 2ms/step - accuracy: 0.9148 - loss: 0.1855 - val_accuracy: 0.9430 - val_loss: 0.1346\n",
            "Epoch 237/500\n",
            "\u001b[1m409/409\u001b[0m \u001b[32m━━━━━━━━━━━━━━━━━━━━\u001b[0m\u001b[37m\u001b[0m \u001b[1m1s\u001b[0m 2ms/step - accuracy: 0.9129 - loss: 0.1841 - val_accuracy: 0.9434 - val_loss: 0.1345\n",
            "Epoch 238/500\n",
            "\u001b[1m409/409\u001b[0m \u001b[32m━━━━━━━━━━━━━━━━━━━━\u001b[0m\u001b[37m\u001b[0m \u001b[1m1s\u001b[0m 2ms/step - accuracy: 0.9149 - loss: 0.1857 - val_accuracy: 0.9432 - val_loss: 0.1344\n",
            "Epoch 239/500\n",
            "\u001b[1m409/409\u001b[0m \u001b[32m━━━━━━━━━━━━━━━━━━━━\u001b[0m\u001b[37m\u001b[0m \u001b[1m1s\u001b[0m 2ms/step - accuracy: 0.9138 - loss: 0.1872 - val_accuracy: 0.9431 - val_loss: 0.1344\n",
            "Epoch 240/500\n",
            "\u001b[1m409/409\u001b[0m \u001b[32m━━━━━━━━━━━━━━━━━━━━\u001b[0m\u001b[37m\u001b[0m \u001b[1m1s\u001b[0m 2ms/step - accuracy: 0.9136 - loss: 0.1885 - val_accuracy: 0.9431 - val_loss: 0.1344\n",
            "Epoch 241/500\n",
            "\u001b[1m409/409\u001b[0m \u001b[32m━━━━━━━━━━━━━━━━━━━━\u001b[0m\u001b[37m\u001b[0m \u001b[1m1s\u001b[0m 2ms/step - accuracy: 0.9155 - loss: 0.1829 - val_accuracy: 0.9429 - val_loss: 0.1344\n",
            "Epoch 242/500\n",
            "\u001b[1m409/409\u001b[0m \u001b[32m━━━━━━━━━━━━━━━━━━━━\u001b[0m\u001b[37m\u001b[0m \u001b[1m1s\u001b[0m 2ms/step - accuracy: 0.9155 - loss: 0.1855 - val_accuracy: 0.9429 - val_loss: 0.1343\n",
            "Epoch 243/500\n",
            "\u001b[1m409/409\u001b[0m \u001b[32m━━━━━━━━━━━━━━━━━━━━\u001b[0m\u001b[37m\u001b[0m \u001b[1m1s\u001b[0m 2ms/step - accuracy: 0.9125 - loss: 0.1850 - val_accuracy: 0.9430 - val_loss: 0.1341\n",
            "Epoch 244/500\n",
            "\u001b[1m409/409\u001b[0m \u001b[32m━━━━━━━━━━━━━━━━━━━━\u001b[0m\u001b[37m\u001b[0m \u001b[1m1s\u001b[0m 2ms/step - accuracy: 0.9150 - loss: 0.1885 - val_accuracy: 0.9433 - val_loss: 0.1342\n",
            "Epoch 245/500\n",
            "\u001b[1m409/409\u001b[0m \u001b[32m━━━━━━━━━━━━━━━━━━━━\u001b[0m\u001b[37m\u001b[0m \u001b[1m1s\u001b[0m 2ms/step - accuracy: 0.9147 - loss: 0.1808 - val_accuracy: 0.9426 - val_loss: 0.1341\n",
            "Epoch 246/500\n",
            "\u001b[1m409/409\u001b[0m \u001b[32m━━━━━━━━━━━━━━━━━━━━\u001b[0m\u001b[37m\u001b[0m \u001b[1m1s\u001b[0m 2ms/step - accuracy: 0.9135 - loss: 0.1839 - val_accuracy: 0.9429 - val_loss: 0.1339\n",
            "Epoch 247/500\n",
            "\u001b[1m409/409\u001b[0m \u001b[32m━━━━━━━━━━━━━━━━━━━━\u001b[0m\u001b[37m\u001b[0m \u001b[1m1s\u001b[0m 2ms/step - accuracy: 0.9126 - loss: 0.1865 - val_accuracy: 0.9432 - val_loss: 0.1337\n",
            "Epoch 248/500\n",
            "\u001b[1m409/409\u001b[0m \u001b[32m━━━━━━━━━━━━━━━━━━━━\u001b[0m\u001b[37m\u001b[0m \u001b[1m1s\u001b[0m 2ms/step - accuracy: 0.9130 - loss: 0.1853 - val_accuracy: 0.9429 - val_loss: 0.1338\n",
            "Epoch 249/500\n",
            "\u001b[1m409/409\u001b[0m \u001b[32m━━━━━━━━━━━━━━━━━━━━\u001b[0m\u001b[37m\u001b[0m \u001b[1m1s\u001b[0m 2ms/step - accuracy: 0.9126 - loss: 0.1876 - val_accuracy: 0.9431 - val_loss: 0.1337\n",
            "Epoch 250/500\n",
            "\u001b[1m409/409\u001b[0m \u001b[32m━━━━━━━━━━━━━━━━━━━━\u001b[0m\u001b[37m\u001b[0m \u001b[1m1s\u001b[0m 2ms/step - accuracy: 0.9137 - loss: 0.1915 - val_accuracy: 0.9433 - val_loss: 0.1336\n",
            "Epoch 251/500\n",
            "\u001b[1m409/409\u001b[0m \u001b[32m━━━━━━━━━━━━━━━━━━━━\u001b[0m\u001b[37m\u001b[0m \u001b[1m1s\u001b[0m 2ms/step - accuracy: 0.9153 - loss: 0.1823 - val_accuracy: 0.9432 - val_loss: 0.1335\n",
            "Epoch 252/500\n",
            "\u001b[1m409/409\u001b[0m \u001b[32m━━━━━━━━━━━━━━━━━━━━\u001b[0m\u001b[37m\u001b[0m \u001b[1m1s\u001b[0m 2ms/step - accuracy: 0.9151 - loss: 0.1848 - val_accuracy: 0.9438 - val_loss: 0.1333\n",
            "Epoch 253/500\n",
            "\u001b[1m409/409\u001b[0m \u001b[32m━━━━━━━━━━━━━━━━━━━━\u001b[0m\u001b[37m\u001b[0m \u001b[1m1s\u001b[0m 2ms/step - accuracy: 0.9116 - loss: 0.1888 - val_accuracy: 0.9437 - val_loss: 0.1333\n",
            "Epoch 254/500\n",
            "\u001b[1m409/409\u001b[0m \u001b[32m━━━━━━━━━━━━━━━━━━━━\u001b[0m\u001b[37m\u001b[0m \u001b[1m1s\u001b[0m 2ms/step - accuracy: 0.9139 - loss: 0.1841 - val_accuracy: 0.9433 - val_loss: 0.1333\n",
            "Epoch 255/500\n",
            "\u001b[1m409/409\u001b[0m \u001b[32m━━━━━━━━━━━━━━━━━━━━\u001b[0m\u001b[37m\u001b[0m \u001b[1m1s\u001b[0m 2ms/step - accuracy: 0.9145 - loss: 0.1837 - val_accuracy: 0.9434 - val_loss: 0.1332\n",
            "Epoch 256/500\n",
            "\u001b[1m409/409\u001b[0m \u001b[32m━━━━━━━━━━━━━━━━━━━━\u001b[0m\u001b[37m\u001b[0m \u001b[1m1s\u001b[0m 2ms/step - accuracy: 0.9131 - loss: 0.1850 - val_accuracy: 0.9436 - val_loss: 0.1331\n",
            "Epoch 257/500\n",
            "\u001b[1m409/409\u001b[0m \u001b[32m━━━━━━━━━━━━━━━━━━━━\u001b[0m\u001b[37m\u001b[0m \u001b[1m1s\u001b[0m 2ms/step - accuracy: 0.9117 - loss: 0.1866 - val_accuracy: 0.9437 - val_loss: 0.1330\n",
            "Epoch 258/500\n",
            "\u001b[1m409/409\u001b[0m \u001b[32m━━━━━━━━━━━━━━━━━━━━\u001b[0m\u001b[37m\u001b[0m \u001b[1m1s\u001b[0m 2ms/step - accuracy: 0.9176 - loss: 0.1831 - val_accuracy: 0.9440 - val_loss: 0.1329\n",
            "Epoch 259/500\n",
            "\u001b[1m409/409\u001b[0m \u001b[32m━━━━━━━━━━━━━━━━━━━━\u001b[0m\u001b[37m\u001b[0m \u001b[1m1s\u001b[0m 2ms/step - accuracy: 0.9141 - loss: 0.1882 - val_accuracy: 0.9437 - val_loss: 0.1328\n",
            "Epoch 260/500\n",
            "\u001b[1m409/409\u001b[0m \u001b[32m━━━━━━━━━━━━━━━━━━━━\u001b[0m\u001b[37m\u001b[0m \u001b[1m1s\u001b[0m 2ms/step - accuracy: 0.9145 - loss: 0.1826 - val_accuracy: 0.9437 - val_loss: 0.1328\n",
            "Epoch 261/500\n",
            "\u001b[1m409/409\u001b[0m \u001b[32m━━━━━━━━━━━━━━━━━━━━\u001b[0m\u001b[37m\u001b[0m \u001b[1m1s\u001b[0m 2ms/step - accuracy: 0.9156 - loss: 0.1845 - val_accuracy: 0.9435 - val_loss: 0.1326\n",
            "Epoch 262/500\n",
            "\u001b[1m409/409\u001b[0m \u001b[32m━━━━━━━━━━━━━━━━━━━━\u001b[0m\u001b[37m\u001b[0m \u001b[1m1s\u001b[0m 2ms/step - accuracy: 0.9142 - loss: 0.1834 - val_accuracy: 0.9440 - val_loss: 0.1326\n",
            "Epoch 263/500\n",
            "\u001b[1m409/409\u001b[0m \u001b[32m━━━━━━━━━━━━━━━━━━━━\u001b[0m\u001b[37m\u001b[0m \u001b[1m1s\u001b[0m 2ms/step - accuracy: 0.9171 - loss: 0.1854 - val_accuracy: 0.9439 - val_loss: 0.1324\n",
            "Epoch 264/500\n",
            "\u001b[1m409/409\u001b[0m \u001b[32m━━━━━━━━━━━━━━━━━━━━\u001b[0m\u001b[37m\u001b[0m \u001b[1m1s\u001b[0m 2ms/step - accuracy: 0.9130 - loss: 0.1838 - val_accuracy: 0.9438 - val_loss: 0.1324\n",
            "Epoch 265/500\n",
            "\u001b[1m409/409\u001b[0m \u001b[32m━━━━━━━━━━━━━━━━━━━━\u001b[0m\u001b[37m\u001b[0m \u001b[1m1s\u001b[0m 2ms/step - accuracy: 0.9128 - loss: 0.1853 - val_accuracy: 0.9441 - val_loss: 0.1323\n",
            "Epoch 266/500\n",
            "\u001b[1m409/409\u001b[0m \u001b[32m━━━━━━━━━━━━━━━━━━━━\u001b[0m\u001b[37m\u001b[0m \u001b[1m1s\u001b[0m 2ms/step - accuracy: 0.9143 - loss: 0.1827 - val_accuracy: 0.9443 - val_loss: 0.1322\n",
            "Epoch 267/500\n",
            "\u001b[1m409/409\u001b[0m \u001b[32m━━━━━━━━━━━━━━━━━━━━\u001b[0m\u001b[37m\u001b[0m \u001b[1m1s\u001b[0m 2ms/step - accuracy: 0.9154 - loss: 0.1813 - val_accuracy: 0.9441 - val_loss: 0.1321\n",
            "Epoch 268/500\n",
            "\u001b[1m409/409\u001b[0m \u001b[32m━━━━━━━━━━━━━━━━━━━━\u001b[0m\u001b[37m\u001b[0m \u001b[1m1s\u001b[0m 2ms/step - accuracy: 0.9163 - loss: 0.1844 - val_accuracy: 0.9441 - val_loss: 0.1321\n",
            "Epoch 269/500\n",
            "\u001b[1m409/409\u001b[0m \u001b[32m━━━━━━━━━━━━━━━━━━━━\u001b[0m\u001b[37m\u001b[0m \u001b[1m1s\u001b[0m 2ms/step - accuracy: 0.9128 - loss: 0.1892 - val_accuracy: 0.9440 - val_loss: 0.1321\n",
            "Epoch 270/500\n",
            "\u001b[1m409/409\u001b[0m \u001b[32m━━━━━━━━━━━━━━━━━━━━\u001b[0m\u001b[37m\u001b[0m \u001b[1m1s\u001b[0m 2ms/step - accuracy: 0.9155 - loss: 0.1831 - val_accuracy: 0.9443 - val_loss: 0.1320\n",
            "Epoch 271/500\n",
            "\u001b[1m409/409\u001b[0m \u001b[32m━━━━━━━━━━━━━━━━━━━━\u001b[0m\u001b[37m\u001b[0m \u001b[1m1s\u001b[0m 2ms/step - accuracy: 0.9184 - loss: 0.1810 - val_accuracy: 0.9443 - val_loss: 0.1320\n",
            "Epoch 272/500\n",
            "\u001b[1m409/409\u001b[0m \u001b[32m━━━━━━━━━━━━━━━━━━━━\u001b[0m\u001b[37m\u001b[0m \u001b[1m1s\u001b[0m 2ms/step - accuracy: 0.9148 - loss: 0.1846 - val_accuracy: 0.9442 - val_loss: 0.1319\n",
            "Epoch 273/500\n",
            "\u001b[1m409/409\u001b[0m \u001b[32m━━━━━━━━━━━━━━━━━━━━\u001b[0m\u001b[37m\u001b[0m \u001b[1m1s\u001b[0m 2ms/step - accuracy: 0.9168 - loss: 0.1853 - val_accuracy: 0.9440 - val_loss: 0.1318\n",
            "Epoch 274/500\n",
            "\u001b[1m409/409\u001b[0m \u001b[32m━━━━━━━━━━━━━━━━━━━━\u001b[0m\u001b[37m\u001b[0m \u001b[1m1s\u001b[0m 2ms/step - accuracy: 0.9170 - loss: 0.1803 - val_accuracy: 0.9440 - val_loss: 0.1317\n",
            "Epoch 275/500\n",
            "\u001b[1m409/409\u001b[0m \u001b[32m━━━━━━━━━━━━━━━━━━━━\u001b[0m\u001b[37m\u001b[0m \u001b[1m1s\u001b[0m 2ms/step - accuracy: 0.9172 - loss: 0.1779 - val_accuracy: 0.9445 - val_loss: 0.1317\n",
            "Epoch 276/500\n",
            "\u001b[1m409/409\u001b[0m \u001b[32m━━━━━━━━━━━━━━━━━━━━\u001b[0m\u001b[37m\u001b[0m \u001b[1m1s\u001b[0m 2ms/step - accuracy: 0.9183 - loss: 0.1782 - val_accuracy: 0.9440 - val_loss: 0.1317\n",
            "Epoch 277/500\n",
            "\u001b[1m409/409\u001b[0m \u001b[32m━━━━━━━━━━━━━━━━━━━━\u001b[0m\u001b[37m\u001b[0m \u001b[1m1s\u001b[0m 2ms/step - accuracy: 0.9152 - loss: 0.1833 - val_accuracy: 0.9443 - val_loss: 0.1316\n",
            "Epoch 278/500\n",
            "\u001b[1m409/409\u001b[0m \u001b[32m━━━━━━━━━━━━━━━━━━━━\u001b[0m\u001b[37m\u001b[0m \u001b[1m1s\u001b[0m 2ms/step - accuracy: 0.9140 - loss: 0.1826 - val_accuracy: 0.9441 - val_loss: 0.1314\n",
            "Epoch 279/500\n",
            "\u001b[1m409/409\u001b[0m \u001b[32m━━━━━━━━━━━━━━━━━━━━\u001b[0m\u001b[37m\u001b[0m \u001b[1m1s\u001b[0m 2ms/step - accuracy: 0.9205 - loss: 0.1760 - val_accuracy: 0.9438 - val_loss: 0.1313\n",
            "Epoch 280/500\n",
            "\u001b[1m409/409\u001b[0m \u001b[32m━━━━━━━━━━━━━━━━━━━━\u001b[0m\u001b[37m\u001b[0m \u001b[1m1s\u001b[0m 2ms/step - accuracy: 0.9118 - loss: 0.1859 - val_accuracy: 0.9439 - val_loss: 0.1313\n",
            "Epoch 281/500\n",
            "\u001b[1m409/409\u001b[0m \u001b[32m━━━━━━━━━━━━━━━━━━━━\u001b[0m\u001b[37m\u001b[0m \u001b[1m1s\u001b[0m 2ms/step - accuracy: 0.9157 - loss: 0.1814 - val_accuracy: 0.9445 - val_loss: 0.1312\n",
            "Epoch 282/500\n",
            "\u001b[1m409/409\u001b[0m \u001b[32m━━━━━━━━━━━━━━━━━━━━\u001b[0m\u001b[37m\u001b[0m \u001b[1m1s\u001b[0m 2ms/step - accuracy: 0.9164 - loss: 0.1793 - val_accuracy: 0.9442 - val_loss: 0.1312\n",
            "Epoch 283/500\n",
            "\u001b[1m409/409\u001b[0m \u001b[32m━━━━━━━━━━━━━━━━━━━━\u001b[0m\u001b[37m\u001b[0m \u001b[1m1s\u001b[0m 2ms/step - accuracy: 0.9141 - loss: 0.1855 - val_accuracy: 0.9441 - val_loss: 0.1312\n",
            "Epoch 284/500\n",
            "\u001b[1m409/409\u001b[0m \u001b[32m━━━━━━━━━━━━━━━━━━━━\u001b[0m\u001b[37m\u001b[0m \u001b[1m1s\u001b[0m 2ms/step - accuracy: 0.9169 - loss: 0.1793 - val_accuracy: 0.9442 - val_loss: 0.1312\n",
            "Epoch 285/500\n",
            "\u001b[1m409/409\u001b[0m \u001b[32m━━━━━━━━━━━━━━━━━━━━\u001b[0m\u001b[37m\u001b[0m \u001b[1m1s\u001b[0m 2ms/step - accuracy: 0.9152 - loss: 0.1835 - val_accuracy: 0.9443 - val_loss: 0.1312\n",
            "Epoch 286/500\n",
            "\u001b[1m409/409\u001b[0m \u001b[32m━━━━━━━━━━━━━━━━━━━━\u001b[0m\u001b[37m\u001b[0m \u001b[1m1s\u001b[0m 2ms/step - accuracy: 0.9146 - loss: 0.1785 - val_accuracy: 0.9442 - val_loss: 0.1312\n",
            "Epoch 287/500\n",
            "\u001b[1m409/409\u001b[0m \u001b[32m━━━━━━━━━━━━━━━━━━━━\u001b[0m\u001b[37m\u001b[0m \u001b[1m1s\u001b[0m 2ms/step - accuracy: 0.9147 - loss: 0.1802 - val_accuracy: 0.9442 - val_loss: 0.1311\n",
            "Epoch 288/500\n",
            "\u001b[1m409/409\u001b[0m \u001b[32m━━━━━━━━━━━━━━━━━━━━\u001b[0m\u001b[37m\u001b[0m \u001b[1m1s\u001b[0m 2ms/step - accuracy: 0.9139 - loss: 0.1826 - val_accuracy: 0.9443 - val_loss: 0.1310\n",
            "Epoch 289/500\n",
            "\u001b[1m409/409\u001b[0m \u001b[32m━━━━━━━━━━━━━━━━━━━━\u001b[0m\u001b[37m\u001b[0m \u001b[1m1s\u001b[0m 2ms/step - accuracy: 0.9168 - loss: 0.1810 - val_accuracy: 0.9443 - val_loss: 0.1311\n",
            "Epoch 290/500\n",
            "\u001b[1m409/409\u001b[0m \u001b[32m━━━━━━━━━━━━━━━━━━━━\u001b[0m\u001b[37m\u001b[0m \u001b[1m1s\u001b[0m 2ms/step - accuracy: 0.9163 - loss: 0.1836 - val_accuracy: 0.9443 - val_loss: 0.1310\n",
            "Epoch 291/500\n",
            "\u001b[1m409/409\u001b[0m \u001b[32m━━━━━━━━━━━━━━━━━━━━\u001b[0m\u001b[37m\u001b[0m \u001b[1m1s\u001b[0m 2ms/step - accuracy: 0.9136 - loss: 0.1826 - val_accuracy: 0.9443 - val_loss: 0.1309\n",
            "Epoch 292/500\n",
            "\u001b[1m409/409\u001b[0m \u001b[32m━━━━━━━━━━━━━━━━━━━━\u001b[0m\u001b[37m\u001b[0m \u001b[1m1s\u001b[0m 2ms/step - accuracy: 0.9165 - loss: 0.1809 - val_accuracy: 0.9443 - val_loss: 0.1309\n",
            "Epoch 293/500\n",
            "\u001b[1m409/409\u001b[0m \u001b[32m━━━━━━━━━━━━━━━━━━━━\u001b[0m\u001b[37m\u001b[0m \u001b[1m1s\u001b[0m 2ms/step - accuracy: 0.9143 - loss: 0.1816 - val_accuracy: 0.9446 - val_loss: 0.1308\n",
            "Epoch 294/500\n",
            "\u001b[1m409/409\u001b[0m \u001b[32m━━━━━━━━━━━━━━━━━━━━\u001b[0m\u001b[37m\u001b[0m \u001b[1m1s\u001b[0m 2ms/step - accuracy: 0.9145 - loss: 0.1797 - val_accuracy: 0.9446 - val_loss: 0.1308\n",
            "Epoch 295/500\n",
            "\u001b[1m409/409\u001b[0m \u001b[32m━━━━━━━━━━━━━━━━━━━━\u001b[0m\u001b[37m\u001b[0m \u001b[1m1s\u001b[0m 2ms/step - accuracy: 0.9171 - loss: 0.1797 - val_accuracy: 0.9448 - val_loss: 0.1306\n",
            "Epoch 296/500\n",
            "\u001b[1m409/409\u001b[0m \u001b[32m━━━━━━━━━━━━━━━━━━━━\u001b[0m\u001b[37m\u001b[0m \u001b[1m1s\u001b[0m 2ms/step - accuracy: 0.9136 - loss: 0.1814 - val_accuracy: 0.9446 - val_loss: 0.1305\n",
            "Epoch 297/500\n",
            "\u001b[1m409/409\u001b[0m \u001b[32m━━━━━━━━━━━━━━━━━━━━\u001b[0m\u001b[37m\u001b[0m \u001b[1m1s\u001b[0m 2ms/step - accuracy: 0.9136 - loss: 0.1810 - val_accuracy: 0.9448 - val_loss: 0.1304\n",
            "Epoch 298/500\n",
            "\u001b[1m409/409\u001b[0m \u001b[32m━━━━━━━━━━━━━━━━━━━━\u001b[0m\u001b[37m\u001b[0m \u001b[1m1s\u001b[0m 2ms/step - accuracy: 0.9162 - loss: 0.1808 - val_accuracy: 0.9449 - val_loss: 0.1303\n",
            "Epoch 299/500\n",
            "\u001b[1m409/409\u001b[0m \u001b[32m━━━━━━━━━━━━━━━━━━━━\u001b[0m\u001b[37m\u001b[0m \u001b[1m1s\u001b[0m 2ms/step - accuracy: 0.9161 - loss: 0.1795 - val_accuracy: 0.9447 - val_loss: 0.1303\n",
            "Epoch 300/500\n",
            "\u001b[1m409/409\u001b[0m \u001b[32m━━━━━━━━━━━━━━━━━━━━\u001b[0m\u001b[37m\u001b[0m \u001b[1m1s\u001b[0m 2ms/step - accuracy: 0.9168 - loss: 0.1777 - val_accuracy: 0.9447 - val_loss: 0.1302\n",
            "Epoch 301/500\n",
            "\u001b[1m409/409\u001b[0m \u001b[32m━━━━━━━━━━━━━━━━━━━━\u001b[0m\u001b[37m\u001b[0m \u001b[1m1s\u001b[0m 2ms/step - accuracy: 0.9190 - loss: 0.1770 - val_accuracy: 0.9446 - val_loss: 0.1302\n",
            "Epoch 302/500\n",
            "\u001b[1m409/409\u001b[0m \u001b[32m━━━━━━━━━━━━━━━━━━━━\u001b[0m\u001b[37m\u001b[0m \u001b[1m1s\u001b[0m 2ms/step - accuracy: 0.9145 - loss: 0.1776 - val_accuracy: 0.9447 - val_loss: 0.1302\n",
            "Epoch 303/500\n",
            "\u001b[1m409/409\u001b[0m \u001b[32m━━━━━━━━━━━━━━━━━━━━\u001b[0m\u001b[37m\u001b[0m \u001b[1m1s\u001b[0m 2ms/step - accuracy: 0.9156 - loss: 0.1813 - val_accuracy: 0.9449 - val_loss: 0.1301\n",
            "Epoch 304/500\n",
            "\u001b[1m409/409\u001b[0m \u001b[32m━━━━━━━━━━━━━━━━━━━━\u001b[0m\u001b[37m\u001b[0m \u001b[1m1s\u001b[0m 2ms/step - accuracy: 0.9127 - loss: 0.1842 - val_accuracy: 0.9451 - val_loss: 0.1301\n",
            "Epoch 305/500\n",
            "\u001b[1m409/409\u001b[0m \u001b[32m━━━━━━━━━━━━━━━━━━━━\u001b[0m\u001b[37m\u001b[0m \u001b[1m1s\u001b[0m 2ms/step - accuracy: 0.9166 - loss: 0.1778 - val_accuracy: 0.9450 - val_loss: 0.1301\n",
            "Epoch 306/500\n",
            "\u001b[1m409/409\u001b[0m \u001b[32m━━━━━━━━━━━━━━━━━━━━\u001b[0m\u001b[37m\u001b[0m \u001b[1m1s\u001b[0m 2ms/step - accuracy: 0.9158 - loss: 0.1788 - val_accuracy: 0.9450 - val_loss: 0.1301\n",
            "Epoch 307/500\n",
            "\u001b[1m409/409\u001b[0m \u001b[32m━━━━━━━━━━━━━━━━━━━━\u001b[0m\u001b[37m\u001b[0m \u001b[1m1s\u001b[0m 2ms/step - accuracy: 0.9162 - loss: 0.1821 - val_accuracy: 0.9451 - val_loss: 0.1301\n",
            "Epoch 308/500\n",
            "\u001b[1m409/409\u001b[0m \u001b[32m━━━━━━━━━━━━━━━━━━━━\u001b[0m\u001b[37m\u001b[0m \u001b[1m1s\u001b[0m 2ms/step - accuracy: 0.9169 - loss: 0.1798 - val_accuracy: 0.9449 - val_loss: 0.1300\n",
            "Epoch 309/500\n",
            "\u001b[1m409/409\u001b[0m \u001b[32m━━━━━━━━━━━━━━━━━━━━\u001b[0m\u001b[37m\u001b[0m \u001b[1m1s\u001b[0m 2ms/step - accuracy: 0.9169 - loss: 0.1760 - val_accuracy: 0.9447 - val_loss: 0.1300\n",
            "Epoch 310/500\n",
            "\u001b[1m409/409\u001b[0m \u001b[32m━━━━━━━━━━━━━━━━━━━━\u001b[0m\u001b[37m\u001b[0m \u001b[1m1s\u001b[0m 2ms/step - accuracy: 0.9180 - loss: 0.1802 - val_accuracy: 0.9448 - val_loss: 0.1301\n",
            "Epoch 311/500\n",
            "\u001b[1m409/409\u001b[0m \u001b[32m━━━━━━━━━━━━━━━━━━━━\u001b[0m\u001b[37m\u001b[0m \u001b[1m1s\u001b[0m 2ms/step - accuracy: 0.9185 - loss: 0.1792 - val_accuracy: 0.9449 - val_loss: 0.1299\n",
            "Epoch 312/500\n",
            "\u001b[1m409/409\u001b[0m \u001b[32m━━━━━━━━━━━━━━━━━━━━\u001b[0m\u001b[37m\u001b[0m \u001b[1m1s\u001b[0m 2ms/step - accuracy: 0.9166 - loss: 0.1815 - val_accuracy: 0.9445 - val_loss: 0.1299\n",
            "Epoch 313/500\n",
            "\u001b[1m409/409\u001b[0m \u001b[32m━━━━━━━━━━━━━━━━━━━━\u001b[0m\u001b[37m\u001b[0m \u001b[1m1s\u001b[0m 2ms/step - accuracy: 0.9188 - loss: 0.1754 - val_accuracy: 0.9446 - val_loss: 0.1297\n",
            "Epoch 314/500\n",
            "\u001b[1m409/409\u001b[0m \u001b[32m━━━━━━━━━━━━━━━━━━━━\u001b[0m\u001b[37m\u001b[0m \u001b[1m1s\u001b[0m 2ms/step - accuracy: 0.9157 - loss: 0.1824 - val_accuracy: 0.9447 - val_loss: 0.1297\n",
            "Epoch 315/500\n",
            "\u001b[1m409/409\u001b[0m \u001b[32m━━━━━━━━━━━━━━━━━━━━\u001b[0m\u001b[37m\u001b[0m \u001b[1m1s\u001b[0m 2ms/step - accuracy: 0.9158 - loss: 0.1788 - val_accuracy: 0.9449 - val_loss: 0.1297\n",
            "Epoch 316/500\n",
            "\u001b[1m409/409\u001b[0m \u001b[32m━━━━━━━━━━━━━━━━━━━━\u001b[0m\u001b[37m\u001b[0m \u001b[1m1s\u001b[0m 2ms/step - accuracy: 0.9172 - loss: 0.1766 - val_accuracy: 0.9444 - val_loss: 0.1297\n",
            "Epoch 317/500\n",
            "\u001b[1m409/409\u001b[0m \u001b[32m━━━━━━━━━━━━━━━━━━━━\u001b[0m\u001b[37m\u001b[0m \u001b[1m1s\u001b[0m 2ms/step - accuracy: 0.9164 - loss: 0.1728 - val_accuracy: 0.9446 - val_loss: 0.1297\n",
            "Epoch 318/500\n",
            "\u001b[1m409/409\u001b[0m \u001b[32m━━━━━━━━━━━━━━━━━━━━\u001b[0m\u001b[37m\u001b[0m \u001b[1m1s\u001b[0m 2ms/step - accuracy: 0.9168 - loss: 0.1772 - val_accuracy: 0.9449 - val_loss: 0.1296\n",
            "Epoch 319/500\n",
            "\u001b[1m409/409\u001b[0m \u001b[32m━━━━━━━━━━━━━━━━━━━━\u001b[0m\u001b[37m\u001b[0m \u001b[1m1s\u001b[0m 2ms/step - accuracy: 0.9158 - loss: 0.1799 - val_accuracy: 0.9449 - val_loss: 0.1295\n",
            "Epoch 320/500\n",
            "\u001b[1m409/409\u001b[0m \u001b[32m━━━━━━━━━━━━━━━━━━━━\u001b[0m\u001b[37m\u001b[0m \u001b[1m1s\u001b[0m 2ms/step - accuracy: 0.9178 - loss: 0.1818 - val_accuracy: 0.9449 - val_loss: 0.1294\n",
            "Epoch 321/500\n",
            "\u001b[1m409/409\u001b[0m \u001b[32m━━━━━━━━━━━━━━━━━━━━\u001b[0m\u001b[37m\u001b[0m \u001b[1m1s\u001b[0m 2ms/step - accuracy: 0.9180 - loss: 0.1790 - val_accuracy: 0.9450 - val_loss: 0.1293\n",
            "Epoch 322/500\n",
            "\u001b[1m409/409\u001b[0m \u001b[32m━━━━━━━━━━━━━━━━━━━━\u001b[0m\u001b[37m\u001b[0m \u001b[1m1s\u001b[0m 2ms/step - accuracy: 0.9165 - loss: 0.1802 - val_accuracy: 0.9449 - val_loss: 0.1292\n",
            "Epoch 323/500\n",
            "\u001b[1m409/409\u001b[0m \u001b[32m━━━━━━━━━━━━━━━━━━━━\u001b[0m\u001b[37m\u001b[0m \u001b[1m1s\u001b[0m 2ms/step - accuracy: 0.9166 - loss: 0.1757 - val_accuracy: 0.9447 - val_loss: 0.1293\n",
            "Epoch 324/500\n",
            "\u001b[1m409/409\u001b[0m \u001b[32m━━━━━━━━━━━━━━━━━━━━\u001b[0m\u001b[37m\u001b[0m \u001b[1m1s\u001b[0m 2ms/step - accuracy: 0.9148 - loss: 0.1825 - val_accuracy: 0.9449 - val_loss: 0.1292\n",
            "Epoch 325/500\n",
            "\u001b[1m409/409\u001b[0m \u001b[32m━━━━━━━━━━━━━━━━━━━━\u001b[0m\u001b[37m\u001b[0m \u001b[1m1s\u001b[0m 2ms/step - accuracy: 0.9166 - loss: 0.1777 - val_accuracy: 0.9453 - val_loss: 0.1293\n",
            "Epoch 326/500\n",
            "\u001b[1m409/409\u001b[0m \u001b[32m━━━━━━━━━━━━━━━━━━━━\u001b[0m\u001b[37m\u001b[0m \u001b[1m1s\u001b[0m 2ms/step - accuracy: 0.9172 - loss: 0.1787 - val_accuracy: 0.9450 - val_loss: 0.1294\n",
            "Epoch 327/500\n",
            "\u001b[1m409/409\u001b[0m \u001b[32m━━━━━━━━━━━━━━━━━━━━\u001b[0m\u001b[37m\u001b[0m \u001b[1m1s\u001b[0m 2ms/step - accuracy: 0.9170 - loss: 0.1758 - val_accuracy: 0.9447 - val_loss: 0.1294\n",
            "Epoch 328/500\n",
            "\u001b[1m409/409\u001b[0m \u001b[32m━━━━━━━━━━━━━━━━━━━━\u001b[0m\u001b[37m\u001b[0m \u001b[1m1s\u001b[0m 2ms/step - accuracy: 0.9186 - loss: 0.1737 - val_accuracy: 0.9449 - val_loss: 0.1293\n",
            "Epoch 329/500\n",
            "\u001b[1m409/409\u001b[0m \u001b[32m━━━━━━━━━━━━━━━━━━━━\u001b[0m\u001b[37m\u001b[0m \u001b[1m1s\u001b[0m 2ms/step - accuracy: 0.9163 - loss: 0.1791 - val_accuracy: 0.9448 - val_loss: 0.1294\n",
            "Epoch 330/500\n",
            "\u001b[1m409/409\u001b[0m \u001b[32m━━━━━━━━━━━━━━━━━━━━\u001b[0m\u001b[37m\u001b[0m \u001b[1m1s\u001b[0m 2ms/step - accuracy: 0.9170 - loss: 0.1760 - val_accuracy: 0.9446 - val_loss: 0.1292\n",
            "Epoch 331/500\n",
            "\u001b[1m409/409\u001b[0m \u001b[32m━━━━━━━━━━━━━━━━━━━━\u001b[0m\u001b[37m\u001b[0m \u001b[1m1s\u001b[0m 2ms/step - accuracy: 0.9156 - loss: 0.1771 - val_accuracy: 0.9449 - val_loss: 0.1292\n",
            "Epoch 332/500\n",
            "\u001b[1m409/409\u001b[0m \u001b[32m━━━━━━━━━━━━━━━━━━━━\u001b[0m\u001b[37m\u001b[0m \u001b[1m1s\u001b[0m 2ms/step - accuracy: 0.9163 - loss: 0.1774 - val_accuracy: 0.9444 - val_loss: 0.1290\n",
            "Epoch 333/500\n",
            "\u001b[1m409/409\u001b[0m \u001b[32m━━━━━━━━━━━━━━━━━━━━\u001b[0m\u001b[37m\u001b[0m \u001b[1m1s\u001b[0m 2ms/step - accuracy: 0.9165 - loss: 0.1782 - val_accuracy: 0.9448 - val_loss: 0.1291\n"
          ]
        }
      ],
      "source": [
        "from tensorflow.keras.optimizers import Adamax\n",
        "early_stopping = callbacks.EarlyStopping(\n",
        "    min_delta=0.001, # minimium amount of change to count as an improvement\n",
        "    patience=20, # how many epochs to wait before stopping\n",
        "    restore_best_weights=True)\n",
        "\n",
        "# Initialising the NN\n",
        "model1 = Sequential()\n",
        "\n",
        "# layers\n",
        "model1.add(Dense(units = 32, kernel_initializer = 'uniform', activation = 'relu', input_dim = 97))\n",
        "# model1.add(Dense(units = 16, kernel_initializer = 'uniform', activation = 'relu'))\n",
        "# model1.add(Dropout(0.25))\n",
        "model1.add(Dense(units = 8, kernel_initializer = 'uniform', activation = 'relu'))\n",
        "model1.add(Dropout(0.3))\n",
        "model1.add(Dense(units = 4, kernel_initializer = 'uniform', activation = 'relu'))\n",
        "model1.add(Dropout(0.3))\n",
        "model1.add(Dense(units = 1, kernel_initializer = 'uniform', activation = 'sigmoid'))\n",
        "\n",
        "# Compiling the ANN\n",
        "model1.compile(optimizer = Adamax(learning_rate=0.0001), loss = 'binary_crossentropy', metrics = ['accuracy'])\n",
        "\n",
        "# Train the ANN\n",
        "history = model1.fit(X_train_scaled, y_train, batch_size = 128, epochs = 500,callbacks=[early_stopping], validation_split=0.2)"
      ]
    },
    {
      "cell_type": "code",
      "execution_count": null,
      "metadata": {
        "colab": {
          "background_save": true
        },
        "id": "5m2V7Ee9ApCt",
        "outputId": "5928c0be-ccf6-4fb1-9bc8-b32a9068f240"
      },
      "outputs": [
        {
          "data": {
            "image/png": "[encoded data removed]",
            "text/plain": [
              "<Figure size 640x480 with 1 Axes>"
            ]
          },
          "metadata": {},
          "output_type": "display_data"
        }
      ],
      "source": [
        "history_df = pd.DataFrame(history.history)\n",
        "\n",
        "plt.plot(history_df.loc[:, ['loss']], \"#6daa9f\", label='Training loss')\n",
        "plt.plot(history_df.loc[:, ['val_loss']],\"#774571\", label='Validation loss')\n",
        "plt.title('Training and Validation loss')\n",
        "plt.xlabel('Epochs')\n",
        "plt.ylabel('Loss')\n",
        "plt.legend(loc=\"best\")\n",
        "\n",
        "plt.show()"
      ]
    },
    {
      "cell_type": "code",
      "execution_count": null,
      "metadata": {
        "colab": {
          "background_save": true
        },
        "id": "lR3utUhWApCu",
        "outputId": "d5376c16-dab9-4a34-d8bc-81b574112333"
      },
      "outputs": [
        {
          "data": {
            "image/png": "[encoded data removed]",
            "text/plain": [
              "<Figure size 640x480 with 1 Axes>"
            ]
          },
          "metadata": {},
          "output_type": "display_data"
        }
      ],
      "source": [
        "history_df = pd.DataFrame(history.history)\n",
        "\n",
        "plt.plot(history_df.loc[:, ['accuracy']], \"#6daa9f\", label='Training accuracy')\n",
        "plt.plot(history_df.loc[:, ['val_accuracy']], \"#774571\", label='Validation accuracy')\n",
        "\n",
        "plt.title('Training and Validation accuracy')\n",
        "plt.xlabel('Epochs')\n",
        "plt.ylabel('Accuracy')\n",
        "plt.legend()\n",
        "plt.show()"
      ]
    },
    {
      "cell_type": "code",
      "execution_count": null,
      "metadata": {
        "colab": {
          "background_save": true
        },
        "id": "alErW2SkApCu",
        "outputId": "73737cb8-e9da-4ad9-8591-1e7f9ac21fe6"
      },
      "outputs": [
        {
          "name": "stdout",
          "output_type": "stream",
          "text": [
            "\n",
            "val_accuracy: 93.31%\n"
          ]
        }
      ],
      "source": [
        "val_accuracy = np.mean(history.history['val_accuracy'])\n",
        "print(\"\\n%s: %.2f%%\" % ('val_accuracy', val_accuracy*100))"
      ]
    },
    {
      "cell_type": "code",
      "execution_count": null,
      "metadata": {
        "colab": {
          "background_save": true
        },
        "id": "PTvKfB6bApCu",
        "outputId": "aa077a01-5fe1-417a-bc0e-e3cc7811ad53"
      },
      "outputs": [
        {
          "name": "stdout",
          "output_type": "stream",
          "text": [
            "\u001b[1m511/511\u001b[0m \u001b[32m━━━━━━━━━━━━━━━━━━━━\u001b[0m\u001b[37m\u001b[0m \u001b[1m1s\u001b[0m 2ms/step\n"
          ]
        },
        {
          "data": {
            "text/plain": [
              "0.9462931245412283"
            ]
          },
          "execution_count": 67,
          "metadata": {},
          "output_type": "execute_result"
        }
      ],
      "source": [
        "predictions = model1.predict(X_test_scaled)\n",
        "predictions = (predictions > 0.5)\n",
        "accuracy = accuracy_score(y_test, predictions)\n",
        "accuracy"
      ]
    },
    {
      "cell_type": "code",
      "execution_count": null,
      "metadata": {
        "colab": {
          "background_save": true
        },
        "id": "EFajMd7hHT0v",
        "scrolled": true,
        "outputId": "0b24022d-e9b0-4680-cfd3-5451df4e6a59"
      },
      "outputs": [
        {
          "name": "stdout",
          "output_type": "stream",
          "text": [
            "Epoch 1/500\n",
            "\u001b[1m13078/13078\u001b[0m \u001b[32m━━━━━━━━━━━━━━━━━━━━\u001b[0m\u001b[37m\u001b[0m \u001b[1m27s\u001b[0m 2ms/step - accuracy: 0.8877 - loss: 0.2909 - val_accuracy: 0.9090 - val_loss: 0.2029\n",
            "Epoch 2/500\n",
            "\u001b[1m13078/13078\u001b[0m \u001b[32m━━━━━━━━━━━━━━━━━━━━\u001b[0m\u001b[37m\u001b[0m \u001b[1m22s\u001b[0m 2ms/step - accuracy: 0.9054 - loss: 0.2196 - val_accuracy: 0.9264 - val_loss: 0.1710\n",
            "Epoch 3/500\n",
            "\u001b[1m13078/13078\u001b[0m \u001b[32m━━━━━━━━━━━━━━━━━━━━\u001b[0m\u001b[37m\u001b[0m \u001b[1m21s\u001b[0m 2ms/step - accuracy: 0.9207 - loss: 0.1860 - val_accuracy: 0.9339 - val_loss: 0.1539\n",
            "Epoch 4/500\n",
            "\u001b[1m13078/13078\u001b[0m \u001b[32m━━━━━━━━━━━━━━━━━━━━\u001b[0m\u001b[37m\u001b[0m \u001b[1m21s\u001b[0m 2ms/step - accuracy: 0.9340 - loss: 0.1619 - val_accuracy: 0.9394 - val_loss: 0.1478\n",
            "Epoch 5/500\n",
            "\u001b[1m13078/13078\u001b[0m \u001b[32m━━━━━━━━━━━━━━━━━━━━\u001b[0m\u001b[37m\u001b[0m \u001b[1m22s\u001b[0m 2ms/step - accuracy: 0.9351 - loss: 0.1566 - val_accuracy: 0.9425 - val_loss: 0.1364\n",
            "Epoch 6/500\n",
            "\u001b[1m13078/13078\u001b[0m \u001b[32m━━━━━━━━━━━━━━━━━━━━\u001b[0m\u001b[37m\u001b[0m \u001b[1m21s\u001b[0m 2ms/step - accuracy: 0.9399 - loss: 0.1421 - val_accuracy: 0.9460 - val_loss: 0.1304\n",
            "Epoch 7/500\n",
            "\u001b[1m13078/13078\u001b[0m \u001b[32m━━━━━━━━━━━━━━━━━━━━\u001b[0m\u001b[37m\u001b[0m \u001b[1m21s\u001b[0m 2ms/step - accuracy: 0.9417 - loss: 0.1404 - val_accuracy: 0.9453 - val_loss: 0.1285\n",
            "Epoch 8/500\n",
            "\u001b[1m13078/13078\u001b[0m \u001b[32m━━━━━━━━━━━━━━━━━━━━\u001b[0m\u001b[37m\u001b[0m \u001b[1m21s\u001b[0m 2ms/step - accuracy: 0.9449 - loss: 0.1331 - val_accuracy: 0.9449 - val_loss: 0.1256\n",
            "Epoch 9/500\n",
            "\u001b[1m13078/13078\u001b[0m \u001b[32m━━━━━━━━━━━━━━━━━━━━\u001b[0m\u001b[37m\u001b[0m \u001b[1m21s\u001b[0m 2ms/step - accuracy: 0.9458 - loss: 0.1286 - val_accuracy: 0.9479 - val_loss: 0.1247\n",
            "Epoch 10/500\n",
            "\u001b[1m13078/13078\u001b[0m \u001b[32m━━━━━━━━━━━━━━━━━━━━\u001b[0m\u001b[37m\u001b[0m \u001b[1m22s\u001b[0m 2ms/step - accuracy: 0.9470 - loss: 0.1243 - val_accuracy: 0.9452 - val_loss: 0.1255\n",
            "Epoch 11/500\n",
            "\u001b[1m13078/13078\u001b[0m \u001b[32m━━━━━━━━━━━━━━━━━━━━\u001b[0m\u001b[37m\u001b[0m \u001b[1m21s\u001b[0m 2ms/step - accuracy: 0.9475 - loss: 0.1267 - val_accuracy: 0.9487 - val_loss: 0.1196\n",
            "Epoch 12/500\n",
            "\u001b[1m13078/13078\u001b[0m \u001b[32m━━━━━━━━━━━━━━━━━━━━\u001b[0m\u001b[37m\u001b[0m \u001b[1m21s\u001b[0m 2ms/step - accuracy: 0.9489 - loss: 0.1198 - val_accuracy: 0.9464 - val_loss: 0.1252\n",
            "Epoch 13/500\n",
            "\u001b[1m13078/13078\u001b[0m \u001b[32m━━━━━━━━━━━━━━━━━━━━\u001b[0m\u001b[37m\u001b[0m \u001b[1m22s\u001b[0m 2ms/step - accuracy: 0.9486 - loss: 0.1146 - val_accuracy: 0.9466 - val_loss: 0.1206\n",
            "Epoch 14/500\n",
            "\u001b[1m13078/13078\u001b[0m \u001b[32m━━━━━━━━━━━━━━━━━━━━\u001b[0m\u001b[37m\u001b[0m \u001b[1m22s\u001b[0m 2ms/step - accuracy: 0.9495 - loss: 0.1195 - val_accuracy: 0.9463 - val_loss: 0.1239\n",
            "Epoch 15/500\n",
            "\u001b[1m13078/13078\u001b[0m \u001b[32m━━━━━━━━━━━━━━━━━━━━\u001b[0m\u001b[37m\u001b[0m \u001b[1m22s\u001b[0m 2ms/step - accuracy: 0.9498 - loss: 0.1172 - val_accuracy: 0.9496 - val_loss: 0.1224\n",
            "Epoch 16/500\n",
            "\u001b[1m13078/13078\u001b[0m \u001b[32m━━━━━━━━━━━━━━━━━━━━\u001b[0m\u001b[37m\u001b[0m \u001b[1m22s\u001b[0m 2ms/step - accuracy: 0.9500 - loss: 0.1153 - val_accuracy: 0.9472 - val_loss: 0.1221\n",
            "Epoch 17/500\n",
            "\u001b[1m13078/13078\u001b[0m \u001b[32m━━━━━━━━━━━━━━━━━━━━\u001b[0m\u001b[37m\u001b[0m \u001b[1m22s\u001b[0m 2ms/step - accuracy: 0.9513 - loss: 0.1127 - val_accuracy: 0.9486 - val_loss: 0.1204\n",
            "Epoch 18/500\n",
            "\u001b[1m13078/13078\u001b[0m \u001b[32m━━━━━━━━━━━━━━━━━━━━\u001b[0m\u001b[37m\u001b[0m \u001b[1m22s\u001b[0m 2ms/step - accuracy: 0.9523 - loss: 0.1124 - val_accuracy: 0.9488 - val_loss: 0.1237\n",
            "Epoch 19/500\n",
            "\u001b[1m13078/13078\u001b[0m \u001b[32m━━━━━━━━━━━━━━━━━━━━\u001b[0m\u001b[37m\u001b[0m \u001b[1m22s\u001b[0m 2ms/step - accuracy: 0.9516 - loss: 0.1109 - val_accuracy: 0.9481 - val_loss: 0.1208\n",
            "Epoch 20/500\n",
            "\u001b[1m13078/13078\u001b[0m \u001b[32m━━━━━━━━━━━━━━━━━━━━\u001b[0m\u001b[37m\u001b[0m \u001b[1m22s\u001b[0m 2ms/step - accuracy: 0.9505 - loss: 0.1108 - val_accuracy: 0.9480 - val_loss: 0.1271\n",
            "Epoch 21/500\n",
            "\u001b[1m13078/13078\u001b[0m \u001b[32m━━━━━━━━━━━━━━━━━━━━\u001b[0m\u001b[37m\u001b[0m \u001b[1m22s\u001b[0m 2ms/step - accuracy: 0.9512 - loss: 0.1104 - val_accuracy: 0.9469 - val_loss: 0.1323\n"
          ]
        }
      ],
      "source": [
        "from tensorflow.keras.optimizers import Adamax, Adagrad, Adam, SGD\n",
        "early_stopping = callbacks.EarlyStopping(\n",
        "    min_delta=0.001, # minimium amount of change to count as an improvement\n",
        "    patience=10, # how many epochs to wait before stopping\n",
        "    restore_best_weights=True)\n",
        "\n",
        "# Initialising the NN\n",
        "model1 = Sequential()\n",
        "\n",
        "# layers\n",
        "model1.add(Dense(units = 64, kernel_initializer = 'uniform', activation = 'selu', input_dim = 97))\n",
        "# model1.add(Dense(units = 16, kernel_initializer = 'uniform', activation = 'relu'))\n",
        "# model1.add(Dropout(0.25))\n",
        "model1.add(Dense(units = 16, kernel_initializer = 'uniform', activation = 'selu'))\n",
        "model1.add(Dropout(0.3))\n",
        "model1.add(Dense(units = 8, kernel_initializer = 'uniform', activation = 'selu'))\n",
        "model1.add(Dropout(0.3))\n",
        "model1.add(Dense(units = 1, kernel_initializer = 'uniform', activation = 'sigmoid'))\n",
        "\n",
        "# Compiling the ANN\n",
        "model1.compile(optimizer = Adam(learning_rate=0.0005), loss = 'binary_crossentropy', metrics = ['accuracy'])\n",
        "\n",
        "# Train the ANN\n",
        "history = model1.fit(X_train_scaled, y_train, batch_size = 4, epochs = 500,callbacks=[early_stopping], validation_split=0.2)"
      ]
    },
    {
      "cell_type": "code",
      "execution_count": null,
      "metadata": {
        "id": "-SStj_QsHT0w"
      },
      "outputs": [],
      "source": [
        "history_df = pd.DataFrame(history.history)\n",
        "\n",
        "plt.plot(history_df.loc[:, ['loss']], \"#6daa9f\", label='Training loss')\n",
        "plt.plot(history_df.loc[:, ['val_loss']],\"#774571\", label='Validation loss')\n",
        "plt.title('Training and Validation loss')\n",
        "plt.xlabel('Epochs')\n",
        "plt.ylabel('Loss')\n",
        "plt.legend(loc=\"best\")\n",
        "\n",
        "plt.show()"
      ]
    },
    {
      "cell_type": "code",
      "execution_count": null,
      "metadata": {
        "colab": {
          "background_save": true
        },
        "id": "tnUERlpiHT0w",
        "outputId": "c20fb832-fb1f-4afa-8823-7be2d7f62b27"
      },
      "outputs": [
        {
          "data": {
            "image/png": "[encoded data removed]",
            "text/plain": [
              "<Figure size 640x480 with 1 Axes>"
            ]
          },
          "metadata": {},
          "output_type": "display_data"
        }
      ],
      "source": [
        "history_df = pd.DataFrame(history.history)\n",
        "\n",
        "plt.plot(history_df.loc[:, ['accuracy']], \"#6daa9f\", label='Training accuracy')\n",
        "plt.plot(history_df.loc[:, ['val_accuracy']], \"#774571\", label='Validation accuracy')\n",
        "\n",
        "plt.title('Training and Validation accuracy')\n",
        "plt.xlabel('Epochs')\n",
        "plt.ylabel('Accuracy')\n",
        "plt.legend()\n",
        "plt.show()"
      ]
    },
    {
      "cell_type": "code",
      "execution_count": null,
      "metadata": {
        "colab": {
          "background_save": true
        },
        "id": "Nwz2J6y-HT0w",
        "outputId": "1eb7a567-a081-4fe8-f14b-5d38cf2b5cf5"
      },
      "outputs": [
        {
          "name": "stdout",
          "output_type": "stream",
          "text": [
            "\n",
            "val_accuracy: 94.31%\n"
          ]
        }
      ],
      "source": [
        "val_accuracy = np.mean(history.history['val_accuracy'])\n",
        "print(\"\\n%s: %.2f%%\" % ('val_accuracy', val_accuracy*100))"
      ]
    },
    {
      "cell_type": "code",
      "execution_count": null,
      "metadata": {
        "colab": {
          "background_save": true
        },
        "id": "UVWeR7JSHT0x",
        "outputId": "174d0254-e039-4a23-8698-81a033447bd9"
      },
      "outputs": [
        {
          "name": "stdout",
          "output_type": "stream",
          "text": [
            "\u001b[1m511/511\u001b[0m \u001b[32m━━━━━━━━━━━━━━━━━━━━\u001b[0m\u001b[37m\u001b[0m \u001b[1m1s\u001b[0m 1ms/step\n"
          ]
        },
        {
          "data": {
            "text/plain": [
              "0.9483728896501101"
            ]
          },
          "execution_count": 72,
          "metadata": {},
          "output_type": "execute_result"
        }
      ],
      "source": [
        "predictions = model1.predict(X_test_scaled)\n",
        "predictions = np.array([int(x[0]) for x in (predictions>0.5)])\n",
        "accuracy = accuracy_score(y_test, predictions)\n",
        "accuracy"
      ]
    },
    {
      "cell_type": "code",
      "execution_count": null,
      "metadata": {
        "colab": {
          "background_save": true
        },
        "id": "1NMHVL4TIZUl"
      },
      "outputs": [],
      "source": [
        "test_data.drop(['ID'],axis=1,inplace=True)\n",
        "test_sy.drop(['ID'],axis=1, inplace=True)"
      ]
    },
    {
      "cell_type": "code",
      "execution_count": null,
      "metadata": {
        "colab": {
          "background_save": true
        },
        "id": "EqMMNYGDJIPT"
      },
      "outputs": [],
      "source": [
        "from sklearn.impute import SimpleImputer\n",
        "\n",
        "# Numerical columns\n",
        "numerical_features = test_data.select_dtypes(include=['float64', 'int64']).columns\n",
        "numerical_imputer = SimpleImputer(strategy='mean')\n",
        "test_data[numerical_features] = numerical_imputer.fit_transform(test_data[numerical_features])\n",
        "\n",
        "# Categorical columns\n",
        "categorical_features = test_data.select_dtypes(include=['object']).columns\n",
        "categorical_imputer = SimpleImputer(strategy='most_frequent')\n",
        "test_data[categorical_features] = categorical_imputer.fit_transform(test_data[categorical_features])"
      ]
    },
    {
      "cell_type": "code",
      "execution_count": null,
      "metadata": {
        "id": "L505McuNKIst"
      },
      "outputs": [],
      "source": [
        "test_data['Age'] = test_data['Age'].astype('int')\n",
        "test_data['Travel_Distance'] = test_data['Travel_Distance'].astype('int')\n",
        "test_data['Departure_Delay_in_Mins'] = test_data['Departure_Delay_in_Mins'].astype('int')\n",
        "test_data['Arrival_Delay_in_Mins'] = test_data['Arrival_Delay_in_Mins'].astype('int')"
      ]
    },
    {
      "cell_type": "code",
      "execution_count": null,
      "metadata": {
        "id": "4UG_JMCkKIsu"
      },
      "outputs": [],
      "source": [
        "test_data = pd.get_dummies(test_data, columns=list(test_data.select_dtypes(include=['object']).columns))\n",
        "test_data.head()"
      ]
    },
    {
      "cell_type": "code",
      "execution_count": null,
      "metadata": {
        "id": "fohBWr6AK3F-"
      },
      "outputs": [],
      "source": [
        "test_data.shape"
      ]
    },
    {
      "cell_type": "code",
      "execution_count": null,
      "metadata": {
        "id": "L1uTve80KbUB"
      },
      "outputs": [],
      "source": [
        "categorical_features = test_sy.select_dtypes(include=['object']).columns\n",
        "categorical_imputer = SimpleImputer(strategy='most_frequent')\n",
        "test_sy[categorical_features] = categorical_imputer.fit_transform(test_sy[categorical_features])"
      ]
    },
    {
      "cell_type": "code",
      "execution_count": null,
      "metadata": {
        "id": "1aPGBuYUKbUC"
      },
      "outputs": [],
      "source": [
        "test_sy = pd.get_dummies(test_sy, columns=list(test_sy.select_dtypes(include=['object']).columns))\n",
        "test_sy.head()"
      ]
    },
    {
      "cell_type": "code",
      "execution_count": null,
      "metadata": {
        "id": "N7UeDjjJKr8y",
        "scrolled": true
      },
      "outputs": [],
      "source": [
        "test_sy.info()"
      ]
    },
    {
      "cell_type": "code",
      "execution_count": null,
      "metadata": {
        "id": "Bd8T1HUhK6kc"
      },
      "outputs": [],
      "source": [
        "train_columns = set(train_sy.columns)\n",
        "test_columns = set(test_sy.columns)\n",
        "column_difference = train_columns.difference(test_columns)\n",
        "column_difference"
      ]
    },
    {
      "cell_type": "code",
      "execution_count": null,
      "metadata": {
        "id": "0vTw3mb4LvwY"
      },
      "outputs": [],
      "source": [
        "new_columns = {'Checkin_service_extremely poor',\n",
        "               'Cleanliness_extremely poor',\n",
        "               'Onboard_service_extremely poor',\n",
        "               'Online_support_extremely poor',\n",
        "               'Platform_location_very inconvinient'}\n",
        "\n",
        "# Add new columns with zeroes\n",
        "for column in new_columns:\n",
        "    test_sy[column] = 0"
      ]
    },
    {
      "cell_type": "code",
      "execution_count": null,
      "metadata": {
        "id": "54wi62B0MNCM"
      },
      "outputs": [],
      "source": [
        "test_sy.shape"
      ]
    },
    {
      "cell_type": "code",
      "execution_count": null,
      "metadata": {
        "id": "OTwNRbzeMRrz"
      },
      "outputs": [],
      "source": [
        "# ordered_col = list(train_sy.columns)[:-1]\n",
        "# test_sy = test_sy[ordered_col]\n",
        "\n",
        "ordered_col = list(train_sy.columns)[:-1]\n",
        "# Get the common columns between ordered_col and test_sy.columns\n",
        "common_cols = [col for col in ordered_col if col in test_sy.columns]\n",
        "test_sy = test_sy[common_cols]  # Use only common columns for indexing"
      ]
    },
    {
      "cell_type": "code",
      "execution_count": null,
      "metadata": {
        "id": "0m-oB4u3MOA4"
      },
      "outputs": [],
      "source": [
        "test_df = pd.concat([test_data, test_sy], axis=1)\n",
        "test_df.shape"
      ]
    },
    {
      "cell_type": "code",
      "execution_count": null,
      "metadata": {
        "id": "rnfGvasxOPMO"
      },
      "outputs": [],
      "source": [
        "columns_test_df = test_df.columns.tolist()\n",
        "columns_X = X.columns.tolist()\n",
        "\n",
        "# Check if both have the same order of columns\n",
        "if columns_test_df == columns_X:\n",
        "    print(\"Both dataframes have the same order of columns.\")\n",
        "else:\n",
        "    print(\"The order of columns in the dataframes is different.\")"
      ]
    },
    {
      "cell_type": "code",
      "execution_count": null,
      "metadata": {
        "id": "gKCquyY6OTGG"
      },
      "outputs": [],
      "source": [
        "scaler = StandardScaler()\n",
        "test_scaled = scaler.fit_transform(test_df)\n",
        "predictions = clf1.predict(test_scaled)\n",
        "\n",
        "# # Assuming X is your original training data and test_df is your test data\n",
        "# # Get the columns that are in X but not in test_df\n",
        "# missing_cols = set(X.columns) - set(test_df.columns)\n",
        "\n",
        "# # Add the missing columns to test_df and fill them with 0\n",
        "# for col in missing_cols:\n",
        "#     test_df[col] = 0\n",
        "\n",
        "# # Ensure the order of columns in test_df is the same as in X\n",
        "# test_df = test_df[X.columns]\n",
        "\n",
        "# # Now you can scale and predict\n",
        "# scaler = StandardScaler()\n",
        "# test_scaled = scaler.fit_transform(test_df)\n",
        "# predictions = clf1.predict(test_scaled)"
      ]
    },
    {
      "cell_type": "code",
      "execution_count": null,
      "metadata": {
        "id": "4npEoDPNDG0h"
      },
      "outputs": [],
      "source": [
        "# test_data = pd.read_csv(\"/content/drive/MyDrive/Colab Notebooks/Great Learning MIT/Data/Hackathon/RealHack/Surveydata_test.csv\")"
      ]
    },
    {
      "cell_type": "code",
      "execution_count": null,
      "metadata": {
        "id": "SAVnKz4MDIR0"
      },
      "outputs": [],
      "source": [
        "# test_data.head()"
      ]
    },
    {
      "cell_type": "code",
      "execution_count": null,
      "metadata": {
        "id": "BQb8O7VtPENo"
      },
      "outputs": [],
      "source": [
        "test_data = pd.read_csv(\"/content/drive/MyDrive/Colab Notebooks/Great Learning MIT/Data/Hackathon/RealHack/Surveydata_test.csv\")\n",
        "# Create a DataFrame with player_id and corresponding predictions\n",
        "result_df = pd.DataFrame({'ID': test_data['ID'], 'Overall_Experience': predictions})\n",
        "\n",
        "# Save the predictions to a CSV file\n",
        "result_df.to_csv('/content/drive/MyDrive/Colab Notebooks/Great Learning MIT/Data/Hackathon/RealHack/Submission_cat.csv', index=False)\n",
        "\n",
        "#--------\n",
        "\n",
        "# test_data = pd.read_csv(\"/content/drive/MyDrive/Colab Notebooks/Great Learning MIT/Data/Hackathon/RealHack/Surveydata_test.csv\")\n",
        "\n",
        "# # Assuming 'test_scaled' is the scaled version of the data used for predictions\n",
        "# # and clf1 is your trained model\n",
        "# predictions = clf1.predict(test_scaled)\n",
        "\n",
        "# # Create a DataFrame with player_id and corresponding predictions, ensuring both have the same length\n",
        "# result_df = pd.DataFrame({'ID': test_data['ID'], 'Overall_Experience': predictions})\n",
        "\n",
        "# # Save the predictions to a CSV file\n",
        "# result_df.to_csv('Submission_cat.csv', index=False)\n",
        "\n",
        "#-------\n",
        "\n",
        "# test_data = pd.read_csv(\"/content/drive/MyDrive/Colab Notebooks/Great Learning MIT/Data/Hackathon/RealHack/Surveydata_test.csv\")\n",
        "\n",
        "# # Store the 'ID' column before preprocessing\n",
        "# test_data_ids = test_data['ID']\n",
        "\n",
        "# # Assuming X is your original training data and test_df is your test data\n",
        "# # Get the columns that are in X but not in test_df\n",
        "# missing_cols = set(X.columns) - set(test_data.columns) # Changed test_df to test_data\n",
        "\n",
        "# # Add the missing columns to test_df and fill them with 0\n",
        "# for col in missing_cols:\n",
        "#     test_data[col] = 0  # Changed test_df to test_data\n",
        "\n",
        "# # Ensure the order of columns in test_df is the same as in X\n",
        "# test_data = test_data[X.columns]  # Changed test_df to test_data\n",
        "\n",
        "# # Now you can scale and predict\n",
        "# scaler = StandardScaler()\n",
        "# test_scaled = scaler.fit_transform(test_data) # Changed test_df to test_data\n",
        "# predictions = clf1.predict(test_scaled)\n",
        "\n",
        "\n",
        "# # Create a DataFrame with player_id and corresponding predictions, ensuring both have the same length\n",
        "# result_df = pd.DataFrame({'ID': test_data_ids, 'Overall_Experience': predictions}) # Changed test_data to test_data in this line as well\n",
        "\n",
        "# # Save the predictions to a CSV file\n",
        "# result_df.to_csv('Submission_cat.csv', index=False)"
      ]
    },
    {
      "cell_type": "code",
      "execution_count": null,
      "metadata": {
        "id": "XJXsnl-zPr0K"
      },
      "outputs": [],
      "source": [
        "result_df.shape"
      ]
    },
    {
      "cell_type": "code",
      "execution_count": null,
      "metadata": {
        "id": "Q7NSdhf1PtfC"
      },
      "outputs": [],
      "source": [
        "test_sy.shape"
      ]
    },
    {
      "cell_type": "code",
      "execution_count": null,
      "metadata": {
        "id": "KY75_hm6PuXK"
      },
      "outputs": [],
      "source": [
        "test_df.to_csv('/content/drive/MyDrive/Colab Notebooks/Great Learning MIT/Data/Hackathon/RealHack/test.csv')"
      ]
    },
    {
      "cell_type": "code",
      "execution_count": null,
      "metadata": {
        "id": "IWoolMG7U1gC"
      },
      "outputs": [],
      "source": [
        "test_df.head()"
      ]
    },
    {
      "cell_type": "code",
      "execution_count": null,
      "metadata": {
        "id": "kmWh-A0jDy2E"
      },
      "outputs": [],
      "source": []
    }
  ],
  "metadata": {
    "accelerator": "GPU",
    "colab": {
      "gpuType": "A100",
      "machine_shape": "hm",
      "provenance": [],
      "include_colab_link": true
    },
    "kernelspec": {
      "display_name": "Python 3",
      "name": "python3"
    },
    "language_info": {
      "codemirror_mode": {
        "name": "ipython",
        "version": 3
      },
      "file_extension": ".py",
      "mimetype": "text/x-python",
      "name": "python",
      "nbconvert_exporter": "python",
      "pygments_lexer": "ipython3",
      "version": "3.10.13"
    }
  },
  "nbformat": 4,
  "nbformat_minor": 0
}